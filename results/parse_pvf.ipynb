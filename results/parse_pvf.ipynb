{
 "cells": [
  {
   "cell_type": "code",
   "execution_count": 1,
   "id": "initial_id",
   "metadata": {
    "collapsed": true,
    "ExecuteTime": {
     "end_time": "2023-08-19T18:54:18.450914355Z",
     "start_time": "2023-08-19T18:54:18.201340115Z"
    }
   },
   "outputs": [],
   "source": [
    "import pandas as pd"
   ]
  },
  {
   "cell_type": "code",
   "execution_count": 3,
   "outputs": [],
   "source": [
    "df = pd.read_csv(\"all_failures_database.csv\")\n",
    "model_grouped = df.groupby([\"board\", \"family\", \"config\", \"hardening\"]).sum()\n",
    "model_grouped[\"SDC\"] = (model_grouped[\"SDC\"] - model_grouped[\"critical_SDC\"]).abs()\n",
    "model_grouped[\"#faults\"] = 1750\n",
    "model_grouped[\"PVF Tolerable SDC\"] = model_grouped[\"SDC\"] / model_grouped[\"#faults\"]\n",
    "model_grouped[\"PVF Critical SDC\"] = model_grouped[\"critical_SDC\"] / model_grouped[\"#faults\"]\n",
    "model_grouped[\"PVF DUE\"] = model_grouped[\"DUE\"] / model_grouped[\"#faults\"]"
   ],
   "metadata": {
    "collapsed": false,
    "ExecuteTime": {
     "end_time": "2023-08-19T18:55:26.683229386Z",
     "start_time": "2023-08-19T18:55:26.672347962Z"
    }
   },
   "id": "b33f0437cb9feeb9"
  },
  {
   "cell_type": "code",
   "execution_count": 9,
   "outputs": [],
   "source": [
    "model_grouped = model_grouped.reindex(\n",
    "    [\"Unhardened\", \"Hardened\"], level=\"hardening\"\n",
    ").reindex(\n",
    "    [\"Original ViT\", \"EVA\", \"Swin\", \"MaxViT\"], level=\"family\"\n",
    ").reindex(\n",
    "    [\"BS32-224\", \"B16-224\", \"B16-384\", \"H14-224\", \"L14-224\", \"B14-448\", \"L14_448\", \"B256\", \"B384\", \"L256\", \"L384\",\n",
    "     \"L512\"], level=\"config\"\n",
    ")"
   ],
   "metadata": {
    "collapsed": false,
    "ExecuteTime": {
     "end_time": "2023-08-19T19:01:36.565345596Z",
     "start_time": "2023-08-19T19:01:36.554336472Z"
    }
   },
   "id": "7033458e51247728"
  },
  {
   "cell_type": "code",
   "execution_count": 10,
   "outputs": [
    {
     "data": {
      "text/plain": "                                         SDC  critical_SDC  DUE  #faults  \\\nboard  family       config   hardening                                     \nAmpere Original ViT BS32-224 Unhardened  448            99   36     1750   \n                             Hardened    574            52   38     1750   \n                    B16-224  Unhardened  433           112   43     1750   \n                             Hardened    576            56   35     1750   \n                    B16-384  Unhardened  353           133   45     1750   \n                             Hardened    491            61   35     1750   \n                    H14-224  Unhardened  330           106   37     1750   \n                             Hardened    497            29   32     1750   \n                    L14-224  Unhardened  327           101   25     1750   \n                             Hardened    519            31   31     1750   \n       EVA          B14-448  Unhardened  116           226   35     1750   \n                             Hardened    525            21   40     1750   \n                    L14_448  Unhardened   36           238   59     1750   \n                             Hardened    435            37   44     1750   \n       Swin         B256     Unhardened  468            48   53     1750   \n                             Hardened    496            48   50     1750   \n                    B384     Unhardened  387            28   65     1750   \n                             Hardened    375            28   62     1750   \n                    L256     Unhardened  466            48   49     1750   \n                             Hardened    480            23   51     1750   \n       MaxViT       L384     Unhardened   22           277   42     1750   \n                             Hardened    230           149   50     1750   \n                    L512     Unhardened   10           263   50     1750   \n                             Hardened    264           143   35     1750   \nPascal Original ViT BS32-224 Unhardened  489           136   30     1750   \n                             Hardened    676            62   40     1750   \n                    B16-224  Unhardened  486           130   34     1750   \n                             Hardened    588            57   45     1750   \n                    B16-384  Unhardened  375           159   26     1750   \n                             Hardened    565            62   35     1750   \n                    H14-224  Unhardened  372           110   22     1750   \n                             Hardened    551            30   13     1750   \n                    L14-224  Unhardened  404           107   22     1750   \n                             Hardened    545            39   26     1750   \n       EVA          B14-448  Unhardened   46           275   48     1750   \n                             Hardened    513            33   50     1750   \n                    L14_448  Unhardened   32           266   35     1750   \n                             Hardened    498            25   31     1750   \n       Swin         B256     Unhardened  555            44   84     1750   \n                             Hardened    544            41   69     1750   \n                    B384     Unhardened  382            46   73     1750   \n                             Hardened    444            30   59     1750   \n                    L256     Unhardened  529            38   49     1750   \n                             Hardened    578            31   67     1750   \n       MaxViT       L384     Unhardened  150           278   65     1750   \n                             Hardened    166           143   44     1750   \n                    L512     Unhardened  170           306   44     1750   \n                             Hardened    155           149   60     1750   \n\n                                         PVF Tolerable SDC  PVF Critical SDC  \\\nboard  family       config   hardening                                         \nAmpere Original ViT BS32-224 Unhardened           0.256000          0.056571   \n                             Hardened             0.328000          0.029714   \n                    B16-224  Unhardened           0.247429          0.064000   \n                             Hardened             0.329143          0.032000   \n                    B16-384  Unhardened           0.201714          0.076000   \n                             Hardened             0.280571          0.034857   \n                    H14-224  Unhardened           0.188571          0.060571   \n                             Hardened             0.284000          0.016571   \n                    L14-224  Unhardened           0.186857          0.057714   \n                             Hardened             0.296571          0.017714   \n       EVA          B14-448  Unhardened           0.066286          0.129143   \n                             Hardened             0.300000          0.012000   \n                    L14_448  Unhardened           0.020571          0.136000   \n                             Hardened             0.248571          0.021143   \n       Swin         B256     Unhardened           0.267429          0.027429   \n                             Hardened             0.283429          0.027429   \n                    B384     Unhardened           0.221143          0.016000   \n                             Hardened             0.214286          0.016000   \n                    L256     Unhardened           0.266286          0.027429   \n                             Hardened             0.274286          0.013143   \n       MaxViT       L384     Unhardened           0.012571          0.158286   \n                             Hardened             0.131429          0.085143   \n                    L512     Unhardened           0.005714          0.150286   \n                             Hardened             0.150857          0.081714   \nPascal Original ViT BS32-224 Unhardened           0.279429          0.077714   \n                             Hardened             0.386286          0.035429   \n                    B16-224  Unhardened           0.277714          0.074286   \n                             Hardened             0.336000          0.032571   \n                    B16-384  Unhardened           0.214286          0.090857   \n                             Hardened             0.322857          0.035429   \n                    H14-224  Unhardened           0.212571          0.062857   \n                             Hardened             0.314857          0.017143   \n                    L14-224  Unhardened           0.230857          0.061143   \n                             Hardened             0.311429          0.022286   \n       EVA          B14-448  Unhardened           0.026286          0.157143   \n                             Hardened             0.293143          0.018857   \n                    L14_448  Unhardened           0.018286          0.152000   \n                             Hardened             0.284571          0.014286   \n       Swin         B256     Unhardened           0.317143          0.025143   \n                             Hardened             0.310857          0.023429   \n                    B384     Unhardened           0.218286          0.026286   \n                             Hardened             0.253714          0.017143   \n                    L256     Unhardened           0.302286          0.021714   \n                             Hardened             0.330286          0.017714   \n       MaxViT       L384     Unhardened           0.085714          0.158857   \n                             Hardened             0.094857          0.081714   \n                    L512     Unhardened           0.097143          0.174857   \n                             Hardened             0.088571          0.085143   \n\n                                          PVF DUE  \nboard  family       config   hardening             \nAmpere Original ViT BS32-224 Unhardened  0.020571  \n                             Hardened    0.021714  \n                    B16-224  Unhardened  0.024571  \n                             Hardened    0.020000  \n                    B16-384  Unhardened  0.025714  \n                             Hardened    0.020000  \n                    H14-224  Unhardened  0.021143  \n                             Hardened    0.018286  \n                    L14-224  Unhardened  0.014286  \n                             Hardened    0.017714  \n       EVA          B14-448  Unhardened  0.020000  \n                             Hardened    0.022857  \n                    L14_448  Unhardened  0.033714  \n                             Hardened    0.025143  \n       Swin         B256     Unhardened  0.030286  \n                             Hardened    0.028571  \n                    B384     Unhardened  0.037143  \n                             Hardened    0.035429  \n                    L256     Unhardened  0.028000  \n                             Hardened    0.029143  \n       MaxViT       L384     Unhardened  0.024000  \n                             Hardened    0.028571  \n                    L512     Unhardened  0.028571  \n                             Hardened    0.020000  \nPascal Original ViT BS32-224 Unhardened  0.017143  \n                             Hardened    0.022857  \n                    B16-224  Unhardened  0.019429  \n                             Hardened    0.025714  \n                    B16-384  Unhardened  0.014857  \n                             Hardened    0.020000  \n                    H14-224  Unhardened  0.012571  \n                             Hardened    0.007429  \n                    L14-224  Unhardened  0.012571  \n                             Hardened    0.014857  \n       EVA          B14-448  Unhardened  0.027429  \n                             Hardened    0.028571  \n                    L14_448  Unhardened  0.020000  \n                             Hardened    0.017714  \n       Swin         B256     Unhardened  0.048000  \n                             Hardened    0.039429  \n                    B384     Unhardened  0.041714  \n                             Hardened    0.033714  \n                    L256     Unhardened  0.028000  \n                             Hardened    0.038286  \n       MaxViT       L384     Unhardened  0.037143  \n                             Hardened    0.025143  \n                    L512     Unhardened  0.025143  \n                             Hardened    0.034286  ",
      "text/html": "<div>\n<style scoped>\n    .dataframe tbody tr th:only-of-type {\n        vertical-align: middle;\n    }\n\n    .dataframe tbody tr th {\n        vertical-align: top;\n    }\n\n    .dataframe thead th {\n        text-align: right;\n    }\n</style>\n<table border=\"1\" class=\"dataframe\">\n  <thead>\n    <tr style=\"text-align: right;\">\n      <th></th>\n      <th></th>\n      <th></th>\n      <th></th>\n      <th>SDC</th>\n      <th>critical_SDC</th>\n      <th>DUE</th>\n      <th>#faults</th>\n      <th>PVF Tolerable SDC</th>\n      <th>PVF Critical SDC</th>\n      <th>PVF DUE</th>\n    </tr>\n    <tr>\n      <th>board</th>\n      <th>family</th>\n      <th>config</th>\n      <th>hardening</th>\n      <th></th>\n      <th></th>\n      <th></th>\n      <th></th>\n      <th></th>\n      <th></th>\n      <th></th>\n    </tr>\n  </thead>\n  <tbody>\n    <tr>\n      <th rowspan=\"24\" valign=\"top\">Ampere</th>\n      <th rowspan=\"10\" valign=\"top\">Original ViT</th>\n      <th rowspan=\"2\" valign=\"top\">BS32-224</th>\n      <th>Unhardened</th>\n      <td>448</td>\n      <td>99</td>\n      <td>36</td>\n      <td>1750</td>\n      <td>0.256000</td>\n      <td>0.056571</td>\n      <td>0.020571</td>\n    </tr>\n    <tr>\n      <th>Hardened</th>\n      <td>574</td>\n      <td>52</td>\n      <td>38</td>\n      <td>1750</td>\n      <td>0.328000</td>\n      <td>0.029714</td>\n      <td>0.021714</td>\n    </tr>\n    <tr>\n      <th rowspan=\"2\" valign=\"top\">B16-224</th>\n      <th>Unhardened</th>\n      <td>433</td>\n      <td>112</td>\n      <td>43</td>\n      <td>1750</td>\n      <td>0.247429</td>\n      <td>0.064000</td>\n      <td>0.024571</td>\n    </tr>\n    <tr>\n      <th>Hardened</th>\n      <td>576</td>\n      <td>56</td>\n      <td>35</td>\n      <td>1750</td>\n      <td>0.329143</td>\n      <td>0.032000</td>\n      <td>0.020000</td>\n    </tr>\n    <tr>\n      <th rowspan=\"2\" valign=\"top\">B16-384</th>\n      <th>Unhardened</th>\n      <td>353</td>\n      <td>133</td>\n      <td>45</td>\n      <td>1750</td>\n      <td>0.201714</td>\n      <td>0.076000</td>\n      <td>0.025714</td>\n    </tr>\n    <tr>\n      <th>Hardened</th>\n      <td>491</td>\n      <td>61</td>\n      <td>35</td>\n      <td>1750</td>\n      <td>0.280571</td>\n      <td>0.034857</td>\n      <td>0.020000</td>\n    </tr>\n    <tr>\n      <th rowspan=\"2\" valign=\"top\">H14-224</th>\n      <th>Unhardened</th>\n      <td>330</td>\n      <td>106</td>\n      <td>37</td>\n      <td>1750</td>\n      <td>0.188571</td>\n      <td>0.060571</td>\n      <td>0.021143</td>\n    </tr>\n    <tr>\n      <th>Hardened</th>\n      <td>497</td>\n      <td>29</td>\n      <td>32</td>\n      <td>1750</td>\n      <td>0.284000</td>\n      <td>0.016571</td>\n      <td>0.018286</td>\n    </tr>\n    <tr>\n      <th rowspan=\"2\" valign=\"top\">L14-224</th>\n      <th>Unhardened</th>\n      <td>327</td>\n      <td>101</td>\n      <td>25</td>\n      <td>1750</td>\n      <td>0.186857</td>\n      <td>0.057714</td>\n      <td>0.014286</td>\n    </tr>\n    <tr>\n      <th>Hardened</th>\n      <td>519</td>\n      <td>31</td>\n      <td>31</td>\n      <td>1750</td>\n      <td>0.296571</td>\n      <td>0.017714</td>\n      <td>0.017714</td>\n    </tr>\n    <tr>\n      <th rowspan=\"4\" valign=\"top\">EVA</th>\n      <th rowspan=\"2\" valign=\"top\">B14-448</th>\n      <th>Unhardened</th>\n      <td>116</td>\n      <td>226</td>\n      <td>35</td>\n      <td>1750</td>\n      <td>0.066286</td>\n      <td>0.129143</td>\n      <td>0.020000</td>\n    </tr>\n    <tr>\n      <th>Hardened</th>\n      <td>525</td>\n      <td>21</td>\n      <td>40</td>\n      <td>1750</td>\n      <td>0.300000</td>\n      <td>0.012000</td>\n      <td>0.022857</td>\n    </tr>\n    <tr>\n      <th rowspan=\"2\" valign=\"top\">L14_448</th>\n      <th>Unhardened</th>\n      <td>36</td>\n      <td>238</td>\n      <td>59</td>\n      <td>1750</td>\n      <td>0.020571</td>\n      <td>0.136000</td>\n      <td>0.033714</td>\n    </tr>\n    <tr>\n      <th>Hardened</th>\n      <td>435</td>\n      <td>37</td>\n      <td>44</td>\n      <td>1750</td>\n      <td>0.248571</td>\n      <td>0.021143</td>\n      <td>0.025143</td>\n    </tr>\n    <tr>\n      <th rowspan=\"6\" valign=\"top\">Swin</th>\n      <th rowspan=\"2\" valign=\"top\">B256</th>\n      <th>Unhardened</th>\n      <td>468</td>\n      <td>48</td>\n      <td>53</td>\n      <td>1750</td>\n      <td>0.267429</td>\n      <td>0.027429</td>\n      <td>0.030286</td>\n    </tr>\n    <tr>\n      <th>Hardened</th>\n      <td>496</td>\n      <td>48</td>\n      <td>50</td>\n      <td>1750</td>\n      <td>0.283429</td>\n      <td>0.027429</td>\n      <td>0.028571</td>\n    </tr>\n    <tr>\n      <th rowspan=\"2\" valign=\"top\">B384</th>\n      <th>Unhardened</th>\n      <td>387</td>\n      <td>28</td>\n      <td>65</td>\n      <td>1750</td>\n      <td>0.221143</td>\n      <td>0.016000</td>\n      <td>0.037143</td>\n    </tr>\n    <tr>\n      <th>Hardened</th>\n      <td>375</td>\n      <td>28</td>\n      <td>62</td>\n      <td>1750</td>\n      <td>0.214286</td>\n      <td>0.016000</td>\n      <td>0.035429</td>\n    </tr>\n    <tr>\n      <th rowspan=\"2\" valign=\"top\">L256</th>\n      <th>Unhardened</th>\n      <td>466</td>\n      <td>48</td>\n      <td>49</td>\n      <td>1750</td>\n      <td>0.266286</td>\n      <td>0.027429</td>\n      <td>0.028000</td>\n    </tr>\n    <tr>\n      <th>Hardened</th>\n      <td>480</td>\n      <td>23</td>\n      <td>51</td>\n      <td>1750</td>\n      <td>0.274286</td>\n      <td>0.013143</td>\n      <td>0.029143</td>\n    </tr>\n    <tr>\n      <th rowspan=\"4\" valign=\"top\">MaxViT</th>\n      <th rowspan=\"2\" valign=\"top\">L384</th>\n      <th>Unhardened</th>\n      <td>22</td>\n      <td>277</td>\n      <td>42</td>\n      <td>1750</td>\n      <td>0.012571</td>\n      <td>0.158286</td>\n      <td>0.024000</td>\n    </tr>\n    <tr>\n      <th>Hardened</th>\n      <td>230</td>\n      <td>149</td>\n      <td>50</td>\n      <td>1750</td>\n      <td>0.131429</td>\n      <td>0.085143</td>\n      <td>0.028571</td>\n    </tr>\n    <tr>\n      <th rowspan=\"2\" valign=\"top\">L512</th>\n      <th>Unhardened</th>\n      <td>10</td>\n      <td>263</td>\n      <td>50</td>\n      <td>1750</td>\n      <td>0.005714</td>\n      <td>0.150286</td>\n      <td>0.028571</td>\n    </tr>\n    <tr>\n      <th>Hardened</th>\n      <td>264</td>\n      <td>143</td>\n      <td>35</td>\n      <td>1750</td>\n      <td>0.150857</td>\n      <td>0.081714</td>\n      <td>0.020000</td>\n    </tr>\n    <tr>\n      <th rowspan=\"24\" valign=\"top\">Pascal</th>\n      <th rowspan=\"10\" valign=\"top\">Original ViT</th>\n      <th rowspan=\"2\" valign=\"top\">BS32-224</th>\n      <th>Unhardened</th>\n      <td>489</td>\n      <td>136</td>\n      <td>30</td>\n      <td>1750</td>\n      <td>0.279429</td>\n      <td>0.077714</td>\n      <td>0.017143</td>\n    </tr>\n    <tr>\n      <th>Hardened</th>\n      <td>676</td>\n      <td>62</td>\n      <td>40</td>\n      <td>1750</td>\n      <td>0.386286</td>\n      <td>0.035429</td>\n      <td>0.022857</td>\n    </tr>\n    <tr>\n      <th rowspan=\"2\" valign=\"top\">B16-224</th>\n      <th>Unhardened</th>\n      <td>486</td>\n      <td>130</td>\n      <td>34</td>\n      <td>1750</td>\n      <td>0.277714</td>\n      <td>0.074286</td>\n      <td>0.019429</td>\n    </tr>\n    <tr>\n      <th>Hardened</th>\n      <td>588</td>\n      <td>57</td>\n      <td>45</td>\n      <td>1750</td>\n      <td>0.336000</td>\n      <td>0.032571</td>\n      <td>0.025714</td>\n    </tr>\n    <tr>\n      <th rowspan=\"2\" valign=\"top\">B16-384</th>\n      <th>Unhardened</th>\n      <td>375</td>\n      <td>159</td>\n      <td>26</td>\n      <td>1750</td>\n      <td>0.214286</td>\n      <td>0.090857</td>\n      <td>0.014857</td>\n    </tr>\n    <tr>\n      <th>Hardened</th>\n      <td>565</td>\n      <td>62</td>\n      <td>35</td>\n      <td>1750</td>\n      <td>0.322857</td>\n      <td>0.035429</td>\n      <td>0.020000</td>\n    </tr>\n    <tr>\n      <th rowspan=\"2\" valign=\"top\">H14-224</th>\n      <th>Unhardened</th>\n      <td>372</td>\n      <td>110</td>\n      <td>22</td>\n      <td>1750</td>\n      <td>0.212571</td>\n      <td>0.062857</td>\n      <td>0.012571</td>\n    </tr>\n    <tr>\n      <th>Hardened</th>\n      <td>551</td>\n      <td>30</td>\n      <td>13</td>\n      <td>1750</td>\n      <td>0.314857</td>\n      <td>0.017143</td>\n      <td>0.007429</td>\n    </tr>\n    <tr>\n      <th rowspan=\"2\" valign=\"top\">L14-224</th>\n      <th>Unhardened</th>\n      <td>404</td>\n      <td>107</td>\n      <td>22</td>\n      <td>1750</td>\n      <td>0.230857</td>\n      <td>0.061143</td>\n      <td>0.012571</td>\n    </tr>\n    <tr>\n      <th>Hardened</th>\n      <td>545</td>\n      <td>39</td>\n      <td>26</td>\n      <td>1750</td>\n      <td>0.311429</td>\n      <td>0.022286</td>\n      <td>0.014857</td>\n    </tr>\n    <tr>\n      <th rowspan=\"4\" valign=\"top\">EVA</th>\n      <th rowspan=\"2\" valign=\"top\">B14-448</th>\n      <th>Unhardened</th>\n      <td>46</td>\n      <td>275</td>\n      <td>48</td>\n      <td>1750</td>\n      <td>0.026286</td>\n      <td>0.157143</td>\n      <td>0.027429</td>\n    </tr>\n    <tr>\n      <th>Hardened</th>\n      <td>513</td>\n      <td>33</td>\n      <td>50</td>\n      <td>1750</td>\n      <td>0.293143</td>\n      <td>0.018857</td>\n      <td>0.028571</td>\n    </tr>\n    <tr>\n      <th rowspan=\"2\" valign=\"top\">L14_448</th>\n      <th>Unhardened</th>\n      <td>32</td>\n      <td>266</td>\n      <td>35</td>\n      <td>1750</td>\n      <td>0.018286</td>\n      <td>0.152000</td>\n      <td>0.020000</td>\n    </tr>\n    <tr>\n      <th>Hardened</th>\n      <td>498</td>\n      <td>25</td>\n      <td>31</td>\n      <td>1750</td>\n      <td>0.284571</td>\n      <td>0.014286</td>\n      <td>0.017714</td>\n    </tr>\n    <tr>\n      <th rowspan=\"6\" valign=\"top\">Swin</th>\n      <th rowspan=\"2\" valign=\"top\">B256</th>\n      <th>Unhardened</th>\n      <td>555</td>\n      <td>44</td>\n      <td>84</td>\n      <td>1750</td>\n      <td>0.317143</td>\n      <td>0.025143</td>\n      <td>0.048000</td>\n    </tr>\n    <tr>\n      <th>Hardened</th>\n      <td>544</td>\n      <td>41</td>\n      <td>69</td>\n      <td>1750</td>\n      <td>0.310857</td>\n      <td>0.023429</td>\n      <td>0.039429</td>\n    </tr>\n    <tr>\n      <th rowspan=\"2\" valign=\"top\">B384</th>\n      <th>Unhardened</th>\n      <td>382</td>\n      <td>46</td>\n      <td>73</td>\n      <td>1750</td>\n      <td>0.218286</td>\n      <td>0.026286</td>\n      <td>0.041714</td>\n    </tr>\n    <tr>\n      <th>Hardened</th>\n      <td>444</td>\n      <td>30</td>\n      <td>59</td>\n      <td>1750</td>\n      <td>0.253714</td>\n      <td>0.017143</td>\n      <td>0.033714</td>\n    </tr>\n    <tr>\n      <th rowspan=\"2\" valign=\"top\">L256</th>\n      <th>Unhardened</th>\n      <td>529</td>\n      <td>38</td>\n      <td>49</td>\n      <td>1750</td>\n      <td>0.302286</td>\n      <td>0.021714</td>\n      <td>0.028000</td>\n    </tr>\n    <tr>\n      <th>Hardened</th>\n      <td>578</td>\n      <td>31</td>\n      <td>67</td>\n      <td>1750</td>\n      <td>0.330286</td>\n      <td>0.017714</td>\n      <td>0.038286</td>\n    </tr>\n    <tr>\n      <th rowspan=\"4\" valign=\"top\">MaxViT</th>\n      <th rowspan=\"2\" valign=\"top\">L384</th>\n      <th>Unhardened</th>\n      <td>150</td>\n      <td>278</td>\n      <td>65</td>\n      <td>1750</td>\n      <td>0.085714</td>\n      <td>0.158857</td>\n      <td>0.037143</td>\n    </tr>\n    <tr>\n      <th>Hardened</th>\n      <td>166</td>\n      <td>143</td>\n      <td>44</td>\n      <td>1750</td>\n      <td>0.094857</td>\n      <td>0.081714</td>\n      <td>0.025143</td>\n    </tr>\n    <tr>\n      <th rowspan=\"2\" valign=\"top\">L512</th>\n      <th>Unhardened</th>\n      <td>170</td>\n      <td>306</td>\n      <td>44</td>\n      <td>1750</td>\n      <td>0.097143</td>\n      <td>0.174857</td>\n      <td>0.025143</td>\n    </tr>\n    <tr>\n      <th>Hardened</th>\n      <td>155</td>\n      <td>149</td>\n      <td>60</td>\n      <td>1750</td>\n      <td>0.088571</td>\n      <td>0.085143</td>\n      <td>0.034286</td>\n    </tr>\n  </tbody>\n</table>\n</div>"
     },
     "execution_count": 10,
     "metadata": {},
     "output_type": "execute_result"
    }
   ],
   "source": [
    "model_grouped"
   ],
   "metadata": {
    "collapsed": false,
    "ExecuteTime": {
     "end_time": "2023-08-19T19:01:39.637344984Z",
     "start_time": "2023-08-19T19:01:39.627461669Z"
    }
   },
   "id": "548a2bea7453c019"
  },
  {
   "cell_type": "code",
   "execution_count": 11,
   "outputs": [],
   "source": [
    "model_grouped.to_excel(\"~/temp/pvf_parsed.xlsx\")"
   ],
   "metadata": {
    "collapsed": false,
    "ExecuteTime": {
     "end_time": "2023-08-19T19:02:05.874935918Z",
     "start_time": "2023-08-19T19:02:05.833445507Z"
    }
   },
   "id": "ee780b1dd72fb30f"
  },
  {
   "cell_type": "code",
   "execution_count": null,
   "outputs": [],
   "source": [],
   "metadata": {
    "collapsed": false
   },
   "id": "5a2686114eb26e7d"
  }
 ],
 "metadata": {
  "kernelspec": {
   "display_name": "Python 3",
   "language": "python",
   "name": "python3"
  },
  "language_info": {
   "codemirror_mode": {
    "name": "ipython",
    "version": 2
   },
   "file_extension": ".py",
   "mimetype": "text/x-python",
   "name": "python",
   "nbconvert_exporter": "python",
   "pygments_lexer": "ipython2",
   "version": "2.7.6"
  }
 },
 "nbformat": 4,
 "nbformat_minor": 5
}
