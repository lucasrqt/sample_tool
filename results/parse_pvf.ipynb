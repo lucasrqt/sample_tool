{
 "cells": [
  {
   "cell_type": "code",
   "execution_count": 12,
   "id": "initial_id",
   "metadata": {
    "collapsed": true,
    "ExecuteTime": {
     "end_time": "2023-08-19T19:31:40.410116959Z",
     "start_time": "2023-08-19T19:31:40.365249727Z"
    }
   },
   "outputs": [],
   "source": [
    "import pandas as pd"
   ]
  },
  {
   "cell_type": "code",
   "execution_count": 13,
   "outputs": [],
   "source": [
    "df = pd.read_csv(\"all_failures_database.csv\")\n",
    "model_grouped = df.groupby([\"board\", \"family\", \"config\", \"hardening\"]).sum()\n",
    "# model_grouped[\"SDC\"] = (model_grouped[\"SDC\"] - model_grouped[\"critical_SDC\"]).abs()\n",
    "model_grouped[\"#faults\"] = 1750\n",
    "model_grouped[\"PVF Tolerable SDC\"] = model_grouped[\"SDC\"] / model_grouped[\"#faults\"]\n",
    "model_grouped[\"PVF Critical SDC\"] = model_grouped[\"critical_SDC\"] / model_grouped[\"#faults\"]\n",
    "model_grouped[\"PVF DUE\"] = model_grouped[\"DUE\"] / model_grouped[\"#faults\"]"
   ],
   "metadata": {
    "collapsed": false,
    "ExecuteTime": {
     "end_time": "2023-08-19T19:31:40.410341438Z",
     "start_time": "2023-08-19T19:31:40.410023571Z"
    }
   },
   "id": "b33f0437cb9feeb9"
  },
  {
   "cell_type": "code",
   "execution_count": 14,
   "outputs": [],
   "source": [
    "model_grouped = model_grouped.reindex(\n",
    "    [\"Unhardened\", \"Hardened\"], level=\"hardening\"\n",
    ").reindex(\n",
    "    [\"Original ViT\", \"EVA\", \"Swin\", \"MaxViT\"], level=\"family\"\n",
    ").reindex(\n",
    "    [\"BS32-224\", \"B16-224\", \"B16-384\", \"H14-224\", \"L14-224\", \"B14-448\", \"L14_448\", \"B256\", \"B384\", \"L256\", \"L384\",\n",
    "     \"L512\"], level=\"config\"\n",
    ")"
   ],
   "metadata": {
    "collapsed": false,
    "ExecuteTime": {
     "end_time": "2023-08-19T19:31:40.410639953Z",
     "start_time": "2023-08-19T19:31:40.410232380Z"
    }
   },
   "id": "7033458e51247728"
  },
  {
   "cell_type": "code",
   "execution_count": 15,
   "outputs": [
    {
     "data": {
      "text/plain": "                                         SDC  critical_SDC  DUE  #faults  \\\nboard  family       config   hardening                                     \nAmpere Original ViT BS32-224 Unhardened  547            99   36     1750   \n                             Hardened    626            52   38     1750   \n                    B16-224  Unhardened  545           112   43     1750   \n                             Hardened    632            56   35     1750   \n                    B16-384  Unhardened  486           133   45     1750   \n                             Hardened    552            61   35     1750   \n                    H14-224  Unhardened  436           106   37     1750   \n                             Hardened    526            29   32     1750   \n                    L14-224  Unhardened  428           101   25     1750   \n                             Hardened    550            31   31     1750   \n       EVA          B14-448  Unhardened  342           226   35     1750   \n                             Hardened    546            21   40     1750   \n                    L14_448  Unhardened  274           238   59     1750   \n                             Hardened    472            37   44     1750   \n       Swin         B256     Unhardened  516            48   53     1750   \n                             Hardened    544            48   50     1750   \n                    B384     Unhardened  415            28   65     1750   \n                             Hardened    403            28   62     1750   \n                    L256     Unhardened  514            48   49     1750   \n                             Hardened    503            23   51     1750   \n       MaxViT       L384     Unhardened  255           277   42     1750   \n                             Hardened    379           149   50     1750   \n                    L512     Unhardened  273           263   50     1750   \n                             Hardened    407           143   35     1750   \nPascal Original ViT BS32-224 Unhardened  625           136   30     1750   \n                             Hardened    738            62   40     1750   \n                    B16-224  Unhardened  616           130   34     1750   \n                             Hardened    645            57   45     1750   \n                    B16-384  Unhardened  534           159   26     1750   \n                             Hardened    627            62   35     1750   \n                    H14-224  Unhardened  482           110   22     1750   \n                             Hardened    581            30   13     1750   \n                    L14-224  Unhardened  511           107   22     1750   \n                             Hardened    584            39   26     1750   \n       EVA          B14-448  Unhardened  321           275   48     1750   \n                             Hardened    546            33   50     1750   \n                    L14_448  Unhardened  298           266   35     1750   \n                             Hardened    523            25   31     1750   \n       Swin         B256     Unhardened  599            44   84     1750   \n                             Hardened    585            41   69     1750   \n                    B384     Unhardened  428            46   73     1750   \n                             Hardened    474            30   59     1750   \n                    L256     Unhardened  567            38   49     1750   \n                             Hardened    609            31   67     1750   \n       MaxViT       L384     Unhardened  128           278   65     1750   \n                             Hardened    309           143   44     1750   \n                    L512     Unhardened  136           306   44     1750   \n                             Hardened    304           149   60     1750   \n\n                                         PVF Tolerable SDC  PVF Critical SDC  \\\nboard  family       config   hardening                                         \nAmpere Original ViT BS32-224 Unhardened           0.312571          0.056571   \n                             Hardened             0.357714          0.029714   \n                    B16-224  Unhardened           0.311429          0.064000   \n                             Hardened             0.361143          0.032000   \n                    B16-384  Unhardened           0.277714          0.076000   \n                             Hardened             0.315429          0.034857   \n                    H14-224  Unhardened           0.249143          0.060571   \n                             Hardened             0.300571          0.016571   \n                    L14-224  Unhardened           0.244571          0.057714   \n                             Hardened             0.314286          0.017714   \n       EVA          B14-448  Unhardened           0.195429          0.129143   \n                             Hardened             0.312000          0.012000   \n                    L14_448  Unhardened           0.156571          0.136000   \n                             Hardened             0.269714          0.021143   \n       Swin         B256     Unhardened           0.294857          0.027429   \n                             Hardened             0.310857          0.027429   \n                    B384     Unhardened           0.237143          0.016000   \n                             Hardened             0.230286          0.016000   \n                    L256     Unhardened           0.293714          0.027429   \n                             Hardened             0.287429          0.013143   \n       MaxViT       L384     Unhardened           0.145714          0.158286   \n                             Hardened             0.216571          0.085143   \n                    L512     Unhardened           0.156000          0.150286   \n                             Hardened             0.232571          0.081714   \nPascal Original ViT BS32-224 Unhardened           0.357143          0.077714   \n                             Hardened             0.421714          0.035429   \n                    B16-224  Unhardened           0.352000          0.074286   \n                             Hardened             0.368571          0.032571   \n                    B16-384  Unhardened           0.305143          0.090857   \n                             Hardened             0.358286          0.035429   \n                    H14-224  Unhardened           0.275429          0.062857   \n                             Hardened             0.332000          0.017143   \n                    L14-224  Unhardened           0.292000          0.061143   \n                             Hardened             0.333714          0.022286   \n       EVA          B14-448  Unhardened           0.183429          0.157143   \n                             Hardened             0.312000          0.018857   \n                    L14_448  Unhardened           0.170286          0.152000   \n                             Hardened             0.298857          0.014286   \n       Swin         B256     Unhardened           0.342286          0.025143   \n                             Hardened             0.334286          0.023429   \n                    B384     Unhardened           0.244571          0.026286   \n                             Hardened             0.270857          0.017143   \n                    L256     Unhardened           0.324000          0.021714   \n                             Hardened             0.348000          0.017714   \n       MaxViT       L384     Unhardened           0.073143          0.158857   \n                             Hardened             0.176571          0.081714   \n                    L512     Unhardened           0.077714          0.174857   \n                             Hardened             0.173714          0.085143   \n\n                                          PVF DUE  \nboard  family       config   hardening             \nAmpere Original ViT BS32-224 Unhardened  0.020571  \n                             Hardened    0.021714  \n                    B16-224  Unhardened  0.024571  \n                             Hardened    0.020000  \n                    B16-384  Unhardened  0.025714  \n                             Hardened    0.020000  \n                    H14-224  Unhardened  0.021143  \n                             Hardened    0.018286  \n                    L14-224  Unhardened  0.014286  \n                             Hardened    0.017714  \n       EVA          B14-448  Unhardened  0.020000  \n                             Hardened    0.022857  \n                    L14_448  Unhardened  0.033714  \n                             Hardened    0.025143  \n       Swin         B256     Unhardened  0.030286  \n                             Hardened    0.028571  \n                    B384     Unhardened  0.037143  \n                             Hardened    0.035429  \n                    L256     Unhardened  0.028000  \n                             Hardened    0.029143  \n       MaxViT       L384     Unhardened  0.024000  \n                             Hardened    0.028571  \n                    L512     Unhardened  0.028571  \n                             Hardened    0.020000  \nPascal Original ViT BS32-224 Unhardened  0.017143  \n                             Hardened    0.022857  \n                    B16-224  Unhardened  0.019429  \n                             Hardened    0.025714  \n                    B16-384  Unhardened  0.014857  \n                             Hardened    0.020000  \n                    H14-224  Unhardened  0.012571  \n                             Hardened    0.007429  \n                    L14-224  Unhardened  0.012571  \n                             Hardened    0.014857  \n       EVA          B14-448  Unhardened  0.027429  \n                             Hardened    0.028571  \n                    L14_448  Unhardened  0.020000  \n                             Hardened    0.017714  \n       Swin         B256     Unhardened  0.048000  \n                             Hardened    0.039429  \n                    B384     Unhardened  0.041714  \n                             Hardened    0.033714  \n                    L256     Unhardened  0.028000  \n                             Hardened    0.038286  \n       MaxViT       L384     Unhardened  0.037143  \n                             Hardened    0.025143  \n                    L512     Unhardened  0.025143  \n                             Hardened    0.034286  ",
      "text/html": "<div>\n<style scoped>\n    .dataframe tbody tr th:only-of-type {\n        vertical-align: middle;\n    }\n\n    .dataframe tbody tr th {\n        vertical-align: top;\n    }\n\n    .dataframe thead th {\n        text-align: right;\n    }\n</style>\n<table border=\"1\" class=\"dataframe\">\n  <thead>\n    <tr style=\"text-align: right;\">\n      <th></th>\n      <th></th>\n      <th></th>\n      <th></th>\n      <th>SDC</th>\n      <th>critical_SDC</th>\n      <th>DUE</th>\n      <th>#faults</th>\n      <th>PVF Tolerable SDC</th>\n      <th>PVF Critical SDC</th>\n      <th>PVF DUE</th>\n    </tr>\n    <tr>\n      <th>board</th>\n      <th>family</th>\n      <th>config</th>\n      <th>hardening</th>\n      <th></th>\n      <th></th>\n      <th></th>\n      <th></th>\n      <th></th>\n      <th></th>\n      <th></th>\n    </tr>\n  </thead>\n  <tbody>\n    <tr>\n      <th rowspan=\"24\" valign=\"top\">Ampere</th>\n      <th rowspan=\"10\" valign=\"top\">Original ViT</th>\n      <th rowspan=\"2\" valign=\"top\">BS32-224</th>\n      <th>Unhardened</th>\n      <td>547</td>\n      <td>99</td>\n      <td>36</td>\n      <td>1750</td>\n      <td>0.312571</td>\n      <td>0.056571</td>\n      <td>0.020571</td>\n    </tr>\n    <tr>\n      <th>Hardened</th>\n      <td>626</td>\n      <td>52</td>\n      <td>38</td>\n      <td>1750</td>\n      <td>0.357714</td>\n      <td>0.029714</td>\n      <td>0.021714</td>\n    </tr>\n    <tr>\n      <th rowspan=\"2\" valign=\"top\">B16-224</th>\n      <th>Unhardened</th>\n      <td>545</td>\n      <td>112</td>\n      <td>43</td>\n      <td>1750</td>\n      <td>0.311429</td>\n      <td>0.064000</td>\n      <td>0.024571</td>\n    </tr>\n    <tr>\n      <th>Hardened</th>\n      <td>632</td>\n      <td>56</td>\n      <td>35</td>\n      <td>1750</td>\n      <td>0.361143</td>\n      <td>0.032000</td>\n      <td>0.020000</td>\n    </tr>\n    <tr>\n      <th rowspan=\"2\" valign=\"top\">B16-384</th>\n      <th>Unhardened</th>\n      <td>486</td>\n      <td>133</td>\n      <td>45</td>\n      <td>1750</td>\n      <td>0.277714</td>\n      <td>0.076000</td>\n      <td>0.025714</td>\n    </tr>\n    <tr>\n      <th>Hardened</th>\n      <td>552</td>\n      <td>61</td>\n      <td>35</td>\n      <td>1750</td>\n      <td>0.315429</td>\n      <td>0.034857</td>\n      <td>0.020000</td>\n    </tr>\n    <tr>\n      <th rowspan=\"2\" valign=\"top\">H14-224</th>\n      <th>Unhardened</th>\n      <td>436</td>\n      <td>106</td>\n      <td>37</td>\n      <td>1750</td>\n      <td>0.249143</td>\n      <td>0.060571</td>\n      <td>0.021143</td>\n    </tr>\n    <tr>\n      <th>Hardened</th>\n      <td>526</td>\n      <td>29</td>\n      <td>32</td>\n      <td>1750</td>\n      <td>0.300571</td>\n      <td>0.016571</td>\n      <td>0.018286</td>\n    </tr>\n    <tr>\n      <th rowspan=\"2\" valign=\"top\">L14-224</th>\n      <th>Unhardened</th>\n      <td>428</td>\n      <td>101</td>\n      <td>25</td>\n      <td>1750</td>\n      <td>0.244571</td>\n      <td>0.057714</td>\n      <td>0.014286</td>\n    </tr>\n    <tr>\n      <th>Hardened</th>\n      <td>550</td>\n      <td>31</td>\n      <td>31</td>\n      <td>1750</td>\n      <td>0.314286</td>\n      <td>0.017714</td>\n      <td>0.017714</td>\n    </tr>\n    <tr>\n      <th rowspan=\"4\" valign=\"top\">EVA</th>\n      <th rowspan=\"2\" valign=\"top\">B14-448</th>\n      <th>Unhardened</th>\n      <td>342</td>\n      <td>226</td>\n      <td>35</td>\n      <td>1750</td>\n      <td>0.195429</td>\n      <td>0.129143</td>\n      <td>0.020000</td>\n    </tr>\n    <tr>\n      <th>Hardened</th>\n      <td>546</td>\n      <td>21</td>\n      <td>40</td>\n      <td>1750</td>\n      <td>0.312000</td>\n      <td>0.012000</td>\n      <td>0.022857</td>\n    </tr>\n    <tr>\n      <th rowspan=\"2\" valign=\"top\">L14_448</th>\n      <th>Unhardened</th>\n      <td>274</td>\n      <td>238</td>\n      <td>59</td>\n      <td>1750</td>\n      <td>0.156571</td>\n      <td>0.136000</td>\n      <td>0.033714</td>\n    </tr>\n    <tr>\n      <th>Hardened</th>\n      <td>472</td>\n      <td>37</td>\n      <td>44</td>\n      <td>1750</td>\n      <td>0.269714</td>\n      <td>0.021143</td>\n      <td>0.025143</td>\n    </tr>\n    <tr>\n      <th rowspan=\"6\" valign=\"top\">Swin</th>\n      <th rowspan=\"2\" valign=\"top\">B256</th>\n      <th>Unhardened</th>\n      <td>516</td>\n      <td>48</td>\n      <td>53</td>\n      <td>1750</td>\n      <td>0.294857</td>\n      <td>0.027429</td>\n      <td>0.030286</td>\n    </tr>\n    <tr>\n      <th>Hardened</th>\n      <td>544</td>\n      <td>48</td>\n      <td>50</td>\n      <td>1750</td>\n      <td>0.310857</td>\n      <td>0.027429</td>\n      <td>0.028571</td>\n    </tr>\n    <tr>\n      <th rowspan=\"2\" valign=\"top\">B384</th>\n      <th>Unhardened</th>\n      <td>415</td>\n      <td>28</td>\n      <td>65</td>\n      <td>1750</td>\n      <td>0.237143</td>\n      <td>0.016000</td>\n      <td>0.037143</td>\n    </tr>\n    <tr>\n      <th>Hardened</th>\n      <td>403</td>\n      <td>28</td>\n      <td>62</td>\n      <td>1750</td>\n      <td>0.230286</td>\n      <td>0.016000</td>\n      <td>0.035429</td>\n    </tr>\n    <tr>\n      <th rowspan=\"2\" valign=\"top\">L256</th>\n      <th>Unhardened</th>\n      <td>514</td>\n      <td>48</td>\n      <td>49</td>\n      <td>1750</td>\n      <td>0.293714</td>\n      <td>0.027429</td>\n      <td>0.028000</td>\n    </tr>\n    <tr>\n      <th>Hardened</th>\n      <td>503</td>\n      <td>23</td>\n      <td>51</td>\n      <td>1750</td>\n      <td>0.287429</td>\n      <td>0.013143</td>\n      <td>0.029143</td>\n    </tr>\n    <tr>\n      <th rowspan=\"4\" valign=\"top\">MaxViT</th>\n      <th rowspan=\"2\" valign=\"top\">L384</th>\n      <th>Unhardened</th>\n      <td>255</td>\n      <td>277</td>\n      <td>42</td>\n      <td>1750</td>\n      <td>0.145714</td>\n      <td>0.158286</td>\n      <td>0.024000</td>\n    </tr>\n    <tr>\n      <th>Hardened</th>\n      <td>379</td>\n      <td>149</td>\n      <td>50</td>\n      <td>1750</td>\n      <td>0.216571</td>\n      <td>0.085143</td>\n      <td>0.028571</td>\n    </tr>\n    <tr>\n      <th rowspan=\"2\" valign=\"top\">L512</th>\n      <th>Unhardened</th>\n      <td>273</td>\n      <td>263</td>\n      <td>50</td>\n      <td>1750</td>\n      <td>0.156000</td>\n      <td>0.150286</td>\n      <td>0.028571</td>\n    </tr>\n    <tr>\n      <th>Hardened</th>\n      <td>407</td>\n      <td>143</td>\n      <td>35</td>\n      <td>1750</td>\n      <td>0.232571</td>\n      <td>0.081714</td>\n      <td>0.020000</td>\n    </tr>\n    <tr>\n      <th rowspan=\"24\" valign=\"top\">Pascal</th>\n      <th rowspan=\"10\" valign=\"top\">Original ViT</th>\n      <th rowspan=\"2\" valign=\"top\">BS32-224</th>\n      <th>Unhardened</th>\n      <td>625</td>\n      <td>136</td>\n      <td>30</td>\n      <td>1750</td>\n      <td>0.357143</td>\n      <td>0.077714</td>\n      <td>0.017143</td>\n    </tr>\n    <tr>\n      <th>Hardened</th>\n      <td>738</td>\n      <td>62</td>\n      <td>40</td>\n      <td>1750</td>\n      <td>0.421714</td>\n      <td>0.035429</td>\n      <td>0.022857</td>\n    </tr>\n    <tr>\n      <th rowspan=\"2\" valign=\"top\">B16-224</th>\n      <th>Unhardened</th>\n      <td>616</td>\n      <td>130</td>\n      <td>34</td>\n      <td>1750</td>\n      <td>0.352000</td>\n      <td>0.074286</td>\n      <td>0.019429</td>\n    </tr>\n    <tr>\n      <th>Hardened</th>\n      <td>645</td>\n      <td>57</td>\n      <td>45</td>\n      <td>1750</td>\n      <td>0.368571</td>\n      <td>0.032571</td>\n      <td>0.025714</td>\n    </tr>\n    <tr>\n      <th rowspan=\"2\" valign=\"top\">B16-384</th>\n      <th>Unhardened</th>\n      <td>534</td>\n      <td>159</td>\n      <td>26</td>\n      <td>1750</td>\n      <td>0.305143</td>\n      <td>0.090857</td>\n      <td>0.014857</td>\n    </tr>\n    <tr>\n      <th>Hardened</th>\n      <td>627</td>\n      <td>62</td>\n      <td>35</td>\n      <td>1750</td>\n      <td>0.358286</td>\n      <td>0.035429</td>\n      <td>0.020000</td>\n    </tr>\n    <tr>\n      <th rowspan=\"2\" valign=\"top\">H14-224</th>\n      <th>Unhardened</th>\n      <td>482</td>\n      <td>110</td>\n      <td>22</td>\n      <td>1750</td>\n      <td>0.275429</td>\n      <td>0.062857</td>\n      <td>0.012571</td>\n    </tr>\n    <tr>\n      <th>Hardened</th>\n      <td>581</td>\n      <td>30</td>\n      <td>13</td>\n      <td>1750</td>\n      <td>0.332000</td>\n      <td>0.017143</td>\n      <td>0.007429</td>\n    </tr>\n    <tr>\n      <th rowspan=\"2\" valign=\"top\">L14-224</th>\n      <th>Unhardened</th>\n      <td>511</td>\n      <td>107</td>\n      <td>22</td>\n      <td>1750</td>\n      <td>0.292000</td>\n      <td>0.061143</td>\n      <td>0.012571</td>\n    </tr>\n    <tr>\n      <th>Hardened</th>\n      <td>584</td>\n      <td>39</td>\n      <td>26</td>\n      <td>1750</td>\n      <td>0.333714</td>\n      <td>0.022286</td>\n      <td>0.014857</td>\n    </tr>\n    <tr>\n      <th rowspan=\"4\" valign=\"top\">EVA</th>\n      <th rowspan=\"2\" valign=\"top\">B14-448</th>\n      <th>Unhardened</th>\n      <td>321</td>\n      <td>275</td>\n      <td>48</td>\n      <td>1750</td>\n      <td>0.183429</td>\n      <td>0.157143</td>\n      <td>0.027429</td>\n    </tr>\n    <tr>\n      <th>Hardened</th>\n      <td>546</td>\n      <td>33</td>\n      <td>50</td>\n      <td>1750</td>\n      <td>0.312000</td>\n      <td>0.018857</td>\n      <td>0.028571</td>\n    </tr>\n    <tr>\n      <th rowspan=\"2\" valign=\"top\">L14_448</th>\n      <th>Unhardened</th>\n      <td>298</td>\n      <td>266</td>\n      <td>35</td>\n      <td>1750</td>\n      <td>0.170286</td>\n      <td>0.152000</td>\n      <td>0.020000</td>\n    </tr>\n    <tr>\n      <th>Hardened</th>\n      <td>523</td>\n      <td>25</td>\n      <td>31</td>\n      <td>1750</td>\n      <td>0.298857</td>\n      <td>0.014286</td>\n      <td>0.017714</td>\n    </tr>\n    <tr>\n      <th rowspan=\"6\" valign=\"top\">Swin</th>\n      <th rowspan=\"2\" valign=\"top\">B256</th>\n      <th>Unhardened</th>\n      <td>599</td>\n      <td>44</td>\n      <td>84</td>\n      <td>1750</td>\n      <td>0.342286</td>\n      <td>0.025143</td>\n      <td>0.048000</td>\n    </tr>\n    <tr>\n      <th>Hardened</th>\n      <td>585</td>\n      <td>41</td>\n      <td>69</td>\n      <td>1750</td>\n      <td>0.334286</td>\n      <td>0.023429</td>\n      <td>0.039429</td>\n    </tr>\n    <tr>\n      <th rowspan=\"2\" valign=\"top\">B384</th>\n      <th>Unhardened</th>\n      <td>428</td>\n      <td>46</td>\n      <td>73</td>\n      <td>1750</td>\n      <td>0.244571</td>\n      <td>0.026286</td>\n      <td>0.041714</td>\n    </tr>\n    <tr>\n      <th>Hardened</th>\n      <td>474</td>\n      <td>30</td>\n      <td>59</td>\n      <td>1750</td>\n      <td>0.270857</td>\n      <td>0.017143</td>\n      <td>0.033714</td>\n    </tr>\n    <tr>\n      <th rowspan=\"2\" valign=\"top\">L256</th>\n      <th>Unhardened</th>\n      <td>567</td>\n      <td>38</td>\n      <td>49</td>\n      <td>1750</td>\n      <td>0.324000</td>\n      <td>0.021714</td>\n      <td>0.028000</td>\n    </tr>\n    <tr>\n      <th>Hardened</th>\n      <td>609</td>\n      <td>31</td>\n      <td>67</td>\n      <td>1750</td>\n      <td>0.348000</td>\n      <td>0.017714</td>\n      <td>0.038286</td>\n    </tr>\n    <tr>\n      <th rowspan=\"4\" valign=\"top\">MaxViT</th>\n      <th rowspan=\"2\" valign=\"top\">L384</th>\n      <th>Unhardened</th>\n      <td>128</td>\n      <td>278</td>\n      <td>65</td>\n      <td>1750</td>\n      <td>0.073143</td>\n      <td>0.158857</td>\n      <td>0.037143</td>\n    </tr>\n    <tr>\n      <th>Hardened</th>\n      <td>309</td>\n      <td>143</td>\n      <td>44</td>\n      <td>1750</td>\n      <td>0.176571</td>\n      <td>0.081714</td>\n      <td>0.025143</td>\n    </tr>\n    <tr>\n      <th rowspan=\"2\" valign=\"top\">L512</th>\n      <th>Unhardened</th>\n      <td>136</td>\n      <td>306</td>\n      <td>44</td>\n      <td>1750</td>\n      <td>0.077714</td>\n      <td>0.174857</td>\n      <td>0.025143</td>\n    </tr>\n    <tr>\n      <th>Hardened</th>\n      <td>304</td>\n      <td>149</td>\n      <td>60</td>\n      <td>1750</td>\n      <td>0.173714</td>\n      <td>0.085143</td>\n      <td>0.034286</td>\n    </tr>\n  </tbody>\n</table>\n</div>"
     },
     "execution_count": 15,
     "metadata": {},
     "output_type": "execute_result"
    }
   ],
   "source": [
    "model_grouped"
   ],
   "metadata": {
    "collapsed": false,
    "ExecuteTime": {
     "end_time": "2023-08-19T19:31:40.515175108Z",
     "start_time": "2023-08-19T19:31:40.410297265Z"
    }
   },
   "id": "548a2bea7453c019"
  },
  {
   "cell_type": "code",
   "execution_count": 17,
   "outputs": [],
   "source": [
    "model_grouped.to_excel(\"~/temp/pvf_parsed_tmp.xlsx\")"
   ],
   "metadata": {
    "collapsed": false,
    "ExecuteTime": {
     "end_time": "2023-08-19T19:31:55.902164777Z",
     "start_time": "2023-08-19T19:31:55.858892209Z"
    }
   },
   "id": "ee780b1dd72fb30f"
  },
  {
   "cell_type": "code",
   "execution_count": 23,
   "outputs": [
    {
     "data": {
      "text/plain": "3.2595558191885208"
     },
     "execution_count": 23,
     "metadata": {},
     "output_type": "execute_result"
    }
   ],
   "source": [
    "(model_grouped.loc[pd.IndexSlice[:, :, :, \"Unhardened\"], \"PVF Critical SDC\"].droplevel(\"hardening\") / model_grouped.loc[pd.IndexSlice[:, :, :, \"Hardened\"], \"PVF Critical SDC\"].droplevel(\"hardening\")).mean()\n"
   ],
   "metadata": {
    "collapsed": false,
    "ExecuteTime": {
     "end_time": "2023-08-19T19:37:45.623543468Z",
     "start_time": "2023-08-19T19:37:45.615344329Z"
    }
   },
   "id": "5a2686114eb26e7d"
  },
  {
   "cell_type": "code",
   "execution_count": null,
   "outputs": [],
   "source": [],
   "metadata": {
    "collapsed": false
   },
   "id": "240c00c2823e1115"
  }
 ],
 "metadata": {
  "kernelspec": {
   "display_name": "Python 3",
   "language": "python",
   "name": "python3"
  },
  "language_info": {
   "codemirror_mode": {
    "name": "ipython",
    "version": 2
   },
   "file_extension": ".py",
   "mimetype": "text/x-python",
   "name": "python",
   "nbconvert_exporter": "python",
   "pygments_lexer": "ipython2",
   "version": "2.7.6"
  }
 },
 "nbformat": 4,
 "nbformat_minor": 5
}
