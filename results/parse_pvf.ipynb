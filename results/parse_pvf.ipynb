{
 "cells": [
  {
   "cell_type": "code",
   "execution_count": 1,
   "id": "initial_id",
   "metadata": {
    "collapsed": true,
    "ExecuteTime": {
     "end_time": "2023-09-17T16:17:34.963463207Z",
     "start_time": "2023-09-17T16:17:33.930266325Z"
    }
   },
   "outputs": [],
   "source": [
    "import os\n",
    "\n",
    "import matplotlib.font_manager as font_manager\n",
    "import matplotlib.pyplot as plt\n",
    "import matplotlib.ticker as mtick\n",
    "import numpy as np\n",
    "import pandas as pd\n",
    "import seaborn as sns\n",
    "from matplotlib.patches import Patch"
   ]
  },
  {
   "cell_type": "code",
   "execution_count": 2,
   "outputs": [],
   "source": [
    "def load_model_grouped(csv_path: str, fault_num: int):\n",
    "    df = pd.read_csv(csv_path)\n",
    "    df[\"family\"] = df[\"family\"].apply(lambda x: \"SwinV2\" if x == \"Swin\" else \"EVA2\" if x == \"EVA\" else x)\n",
    "    md_gp = df.groupby([\"board\", \"family\", \"config\", \"hardening\", ]).sum()\n",
    "    # model_grouped[\"SDC\"] = (model_grouped[\"SDC\"] - model_grouped[\"critical_SDC\"]).abs()\n",
    "    md_gp[\"#faults\"] = fault_num\n",
    "    md_gp[\"PVF Tolerable SDC\"] = md_gp[\"SDC\"] / md_gp[\"#faults\"]\n",
    "    md_gp[\"PVF Critical SDC\"] = md_gp[\"critical_SDC\"] / md_gp[\"#faults\"]\n",
    "    md_gp[\"PVF DUE\"] = md_gp[\"DUE\"] / md_gp[\"#faults\"]\n",
    "    return md_gp"
   ],
   "metadata": {
    "collapsed": false,
    "ExecuteTime": {
     "end_time": "2023-09-17T16:17:34.964128192Z",
     "start_time": "2023-09-17T16:17:33.935317450Z"
    }
   },
   "id": "b33f0437cb9feeb9"
  },
  {
   "cell_type": "code",
   "execution_count": 3,
   "outputs": [],
   "source": [
    "# Load full logs\n",
    "model_grouped = load_model_grouped(csv_path=\"all_failures_database.csv\", fault_num=1750)\n",
    "# model_grouped = load_model_grouped(csv_path=\"all_failures_database_150fi.csv\", fault_num=1050)"
   ],
   "metadata": {
    "collapsed": false,
    "ExecuteTime": {
     "end_time": "2023-09-17T16:17:34.964512389Z",
     "start_time": "2023-09-17T16:17:33.935842411Z"
    }
   },
   "id": "1eb5930aa58c13ea"
  },
  {
   "cell_type": "code",
   "execution_count": 4,
   "outputs": [],
   "source": [
    "model_grouped = model_grouped.reindex(\n",
    "    [\"Unhardened\", \"Hardened\"], level=\"hardening\"\n",
    ").reindex(\n",
    "    [\"Original ViT\", \"EVA2\", \"SwinV2\", \"MaxViT\"], level=\"family\"\n",
    ").reindex(\n",
    "    [\"BS32-224\", \"B16-224\", \"B16-384\", \"L14-224\", \"H14-224\", \"B14-448\", \"L14-448\", \"B256\", \"B384\", \"L256\", \"L384\",\n",
    "     \"L512\"], level=\"config\"\n",
    ")"
   ],
   "metadata": {
    "collapsed": false,
    "ExecuteTime": {
     "end_time": "2023-09-17T16:17:34.964849135Z",
     "start_time": "2023-09-17T16:17:33.945731268Z"
    }
   },
   "id": "7033458e51247728"
  },
  {
   "cell_type": "code",
   "execution_count": 5,
   "outputs": [
    {
     "data": {
      "text/plain": "                                         SDC  critical_SDC  DUE  #faults  \\\nboard  family       config   hardening                                     \nAmpere Original ViT BS32-224 Unhardened  547            99   36     1750   \n                             Hardened    626            52   38     1750   \n                    B16-224  Unhardened  545           112   43     1750   \n                             Hardened    632            56   35     1750   \n                    B16-384  Unhardened  486           133   45     1750   \n                             Hardened    552            61   35     1750   \n                    L14-224  Unhardened  428           101   25     1750   \n                             Hardened    550            31   31     1750   \n                    H14-224  Unhardened  436           106   37     1750   \n                             Hardened    526            29   32     1750   \n       EVA2         B14-448  Unhardened  342           226   35     1750   \n                             Hardened    546            21   40     1750   \n                    L14-448  Unhardened  274           238   59     1750   \n                             Hardened    472            37   44     1750   \n       SwinV2       B256     Unhardened  516            48   53     1750   \n                             Hardened    544            48   50     1750   \n                    B384     Unhardened  415            28   65     1750   \n                             Hardened    403            28   62     1750   \n                    L256     Unhardened  514            48   49     1750   \n                             Hardened    503            23   51     1750   \n       MaxViT       L384     Unhardened  255           277   42     1750   \n                             Hardened    379           149   50     1750   \n                    L512     Unhardened  273           263   50     1750   \n                             Hardened    407           143   35     1750   \nPascal Original ViT BS32-224 Unhardened  625           136   30     1750   \n                             Hardened    738            62   40     1750   \n                    B16-224  Unhardened  616           130   34     1750   \n                             Hardened    645            57   45     1750   \n                    B16-384  Unhardened  534           159   26     1750   \n                             Hardened    627            62   35     1750   \n                    L14-224  Unhardened  511           107   22     1750   \n                             Hardened    584            39   26     1750   \n                    H14-224  Unhardened  482           110   22     1750   \n                             Hardened    581            30   13     1750   \n       EVA2         B14-448  Unhardened  321           275   48     1750   \n                             Hardened    546            33   50     1750   \n                    L14-448  Unhardened  298           266   35     1750   \n                             Hardened    523            25   31     1750   \n       SwinV2       B256     Unhardened  599            44   84     1750   \n                             Hardened    585            41   69     1750   \n                    B384     Unhardened  428            46   73     1750   \n                             Hardened    474            30   59     1750   \n                    L256     Unhardened  567            38   49     1750   \n                             Hardened    609            31   67     1750   \n       MaxViT       L384     Unhardened  128           278   65     1750   \n                             Hardened    309           143   44     1750   \n                    L512     Unhardened  136           306   44     1750   \n                             Hardened    304           149   60     1750   \n\n                                         PVF Tolerable SDC  PVF Critical SDC  \\\nboard  family       config   hardening                                         \nAmpere Original ViT BS32-224 Unhardened           0.312571          0.056571   \n                             Hardened             0.357714          0.029714   \n                    B16-224  Unhardened           0.311429          0.064000   \n                             Hardened             0.361143          0.032000   \n                    B16-384  Unhardened           0.277714          0.076000   \n                             Hardened             0.315429          0.034857   \n                    L14-224  Unhardened           0.244571          0.057714   \n                             Hardened             0.314286          0.017714   \n                    H14-224  Unhardened           0.249143          0.060571   \n                             Hardened             0.300571          0.016571   \n       EVA2         B14-448  Unhardened           0.195429          0.129143   \n                             Hardened             0.312000          0.012000   \n                    L14-448  Unhardened           0.156571          0.136000   \n                             Hardened             0.269714          0.021143   \n       SwinV2       B256     Unhardened           0.294857          0.027429   \n                             Hardened             0.310857          0.027429   \n                    B384     Unhardened           0.237143          0.016000   \n                             Hardened             0.230286          0.016000   \n                    L256     Unhardened           0.293714          0.027429   \n                             Hardened             0.287429          0.013143   \n       MaxViT       L384     Unhardened           0.145714          0.158286   \n                             Hardened             0.216571          0.085143   \n                    L512     Unhardened           0.156000          0.150286   \n                             Hardened             0.232571          0.081714   \nPascal Original ViT BS32-224 Unhardened           0.357143          0.077714   \n                             Hardened             0.421714          0.035429   \n                    B16-224  Unhardened           0.352000          0.074286   \n                             Hardened             0.368571          0.032571   \n                    B16-384  Unhardened           0.305143          0.090857   \n                             Hardened             0.358286          0.035429   \n                    L14-224  Unhardened           0.292000          0.061143   \n                             Hardened             0.333714          0.022286   \n                    H14-224  Unhardened           0.275429          0.062857   \n                             Hardened             0.332000          0.017143   \n       EVA2         B14-448  Unhardened           0.183429          0.157143   \n                             Hardened             0.312000          0.018857   \n                    L14-448  Unhardened           0.170286          0.152000   \n                             Hardened             0.298857          0.014286   \n       SwinV2       B256     Unhardened           0.342286          0.025143   \n                             Hardened             0.334286          0.023429   \n                    B384     Unhardened           0.244571          0.026286   \n                             Hardened             0.270857          0.017143   \n                    L256     Unhardened           0.324000          0.021714   \n                             Hardened             0.348000          0.017714   \n       MaxViT       L384     Unhardened           0.073143          0.158857   \n                             Hardened             0.176571          0.081714   \n                    L512     Unhardened           0.077714          0.174857   \n                             Hardened             0.173714          0.085143   \n\n                                          PVF DUE  \nboard  family       config   hardening             \nAmpere Original ViT BS32-224 Unhardened  0.020571  \n                             Hardened    0.021714  \n                    B16-224  Unhardened  0.024571  \n                             Hardened    0.020000  \n                    B16-384  Unhardened  0.025714  \n                             Hardened    0.020000  \n                    L14-224  Unhardened  0.014286  \n                             Hardened    0.017714  \n                    H14-224  Unhardened  0.021143  \n                             Hardened    0.018286  \n       EVA2         B14-448  Unhardened  0.020000  \n                             Hardened    0.022857  \n                    L14-448  Unhardened  0.033714  \n                             Hardened    0.025143  \n       SwinV2       B256     Unhardened  0.030286  \n                             Hardened    0.028571  \n                    B384     Unhardened  0.037143  \n                             Hardened    0.035429  \n                    L256     Unhardened  0.028000  \n                             Hardened    0.029143  \n       MaxViT       L384     Unhardened  0.024000  \n                             Hardened    0.028571  \n                    L512     Unhardened  0.028571  \n                             Hardened    0.020000  \nPascal Original ViT BS32-224 Unhardened  0.017143  \n                             Hardened    0.022857  \n                    B16-224  Unhardened  0.019429  \n                             Hardened    0.025714  \n                    B16-384  Unhardened  0.014857  \n                             Hardened    0.020000  \n                    L14-224  Unhardened  0.012571  \n                             Hardened    0.014857  \n                    H14-224  Unhardened  0.012571  \n                             Hardened    0.007429  \n       EVA2         B14-448  Unhardened  0.027429  \n                             Hardened    0.028571  \n                    L14-448  Unhardened  0.020000  \n                             Hardened    0.017714  \n       SwinV2       B256     Unhardened  0.048000  \n                             Hardened    0.039429  \n                    B384     Unhardened  0.041714  \n                             Hardened    0.033714  \n                    L256     Unhardened  0.028000  \n                             Hardened    0.038286  \n       MaxViT       L384     Unhardened  0.037143  \n                             Hardened    0.025143  \n                    L512     Unhardened  0.025143  \n                             Hardened    0.034286  ",
      "text/html": "<div>\n<style scoped>\n    .dataframe tbody tr th:only-of-type {\n        vertical-align: middle;\n    }\n\n    .dataframe tbody tr th {\n        vertical-align: top;\n    }\n\n    .dataframe thead th {\n        text-align: right;\n    }\n</style>\n<table border=\"1\" class=\"dataframe\">\n  <thead>\n    <tr style=\"text-align: right;\">\n      <th></th>\n      <th></th>\n      <th></th>\n      <th></th>\n      <th>SDC</th>\n      <th>critical_SDC</th>\n      <th>DUE</th>\n      <th>#faults</th>\n      <th>PVF Tolerable SDC</th>\n      <th>PVF Critical SDC</th>\n      <th>PVF DUE</th>\n    </tr>\n    <tr>\n      <th>board</th>\n      <th>family</th>\n      <th>config</th>\n      <th>hardening</th>\n      <th></th>\n      <th></th>\n      <th></th>\n      <th></th>\n      <th></th>\n      <th></th>\n      <th></th>\n    </tr>\n  </thead>\n  <tbody>\n    <tr>\n      <th rowspan=\"24\" valign=\"top\">Ampere</th>\n      <th rowspan=\"10\" valign=\"top\">Original ViT</th>\n      <th rowspan=\"2\" valign=\"top\">BS32-224</th>\n      <th>Unhardened</th>\n      <td>547</td>\n      <td>99</td>\n      <td>36</td>\n      <td>1750</td>\n      <td>0.312571</td>\n      <td>0.056571</td>\n      <td>0.020571</td>\n    </tr>\n    <tr>\n      <th>Hardened</th>\n      <td>626</td>\n      <td>52</td>\n      <td>38</td>\n      <td>1750</td>\n      <td>0.357714</td>\n      <td>0.029714</td>\n      <td>0.021714</td>\n    </tr>\n    <tr>\n      <th rowspan=\"2\" valign=\"top\">B16-224</th>\n      <th>Unhardened</th>\n      <td>545</td>\n      <td>112</td>\n      <td>43</td>\n      <td>1750</td>\n      <td>0.311429</td>\n      <td>0.064000</td>\n      <td>0.024571</td>\n    </tr>\n    <tr>\n      <th>Hardened</th>\n      <td>632</td>\n      <td>56</td>\n      <td>35</td>\n      <td>1750</td>\n      <td>0.361143</td>\n      <td>0.032000</td>\n      <td>0.020000</td>\n    </tr>\n    <tr>\n      <th rowspan=\"2\" valign=\"top\">B16-384</th>\n      <th>Unhardened</th>\n      <td>486</td>\n      <td>133</td>\n      <td>45</td>\n      <td>1750</td>\n      <td>0.277714</td>\n      <td>0.076000</td>\n      <td>0.025714</td>\n    </tr>\n    <tr>\n      <th>Hardened</th>\n      <td>552</td>\n      <td>61</td>\n      <td>35</td>\n      <td>1750</td>\n      <td>0.315429</td>\n      <td>0.034857</td>\n      <td>0.020000</td>\n    </tr>\n    <tr>\n      <th rowspan=\"2\" valign=\"top\">L14-224</th>\n      <th>Unhardened</th>\n      <td>428</td>\n      <td>101</td>\n      <td>25</td>\n      <td>1750</td>\n      <td>0.244571</td>\n      <td>0.057714</td>\n      <td>0.014286</td>\n    </tr>\n    <tr>\n      <th>Hardened</th>\n      <td>550</td>\n      <td>31</td>\n      <td>31</td>\n      <td>1750</td>\n      <td>0.314286</td>\n      <td>0.017714</td>\n      <td>0.017714</td>\n    </tr>\n    <tr>\n      <th rowspan=\"2\" valign=\"top\">H14-224</th>\n      <th>Unhardened</th>\n      <td>436</td>\n      <td>106</td>\n      <td>37</td>\n      <td>1750</td>\n      <td>0.249143</td>\n      <td>0.060571</td>\n      <td>0.021143</td>\n    </tr>\n    <tr>\n      <th>Hardened</th>\n      <td>526</td>\n      <td>29</td>\n      <td>32</td>\n      <td>1750</td>\n      <td>0.300571</td>\n      <td>0.016571</td>\n      <td>0.018286</td>\n    </tr>\n    <tr>\n      <th rowspan=\"4\" valign=\"top\">EVA2</th>\n      <th rowspan=\"2\" valign=\"top\">B14-448</th>\n      <th>Unhardened</th>\n      <td>342</td>\n      <td>226</td>\n      <td>35</td>\n      <td>1750</td>\n      <td>0.195429</td>\n      <td>0.129143</td>\n      <td>0.020000</td>\n    </tr>\n    <tr>\n      <th>Hardened</th>\n      <td>546</td>\n      <td>21</td>\n      <td>40</td>\n      <td>1750</td>\n      <td>0.312000</td>\n      <td>0.012000</td>\n      <td>0.022857</td>\n    </tr>\n    <tr>\n      <th rowspan=\"2\" valign=\"top\">L14-448</th>\n      <th>Unhardened</th>\n      <td>274</td>\n      <td>238</td>\n      <td>59</td>\n      <td>1750</td>\n      <td>0.156571</td>\n      <td>0.136000</td>\n      <td>0.033714</td>\n    </tr>\n    <tr>\n      <th>Hardened</th>\n      <td>472</td>\n      <td>37</td>\n      <td>44</td>\n      <td>1750</td>\n      <td>0.269714</td>\n      <td>0.021143</td>\n      <td>0.025143</td>\n    </tr>\n    <tr>\n      <th rowspan=\"6\" valign=\"top\">SwinV2</th>\n      <th rowspan=\"2\" valign=\"top\">B256</th>\n      <th>Unhardened</th>\n      <td>516</td>\n      <td>48</td>\n      <td>53</td>\n      <td>1750</td>\n      <td>0.294857</td>\n      <td>0.027429</td>\n      <td>0.030286</td>\n    </tr>\n    <tr>\n      <th>Hardened</th>\n      <td>544</td>\n      <td>48</td>\n      <td>50</td>\n      <td>1750</td>\n      <td>0.310857</td>\n      <td>0.027429</td>\n      <td>0.028571</td>\n    </tr>\n    <tr>\n      <th rowspan=\"2\" valign=\"top\">B384</th>\n      <th>Unhardened</th>\n      <td>415</td>\n      <td>28</td>\n      <td>65</td>\n      <td>1750</td>\n      <td>0.237143</td>\n      <td>0.016000</td>\n      <td>0.037143</td>\n    </tr>\n    <tr>\n      <th>Hardened</th>\n      <td>403</td>\n      <td>28</td>\n      <td>62</td>\n      <td>1750</td>\n      <td>0.230286</td>\n      <td>0.016000</td>\n      <td>0.035429</td>\n    </tr>\n    <tr>\n      <th rowspan=\"2\" valign=\"top\">L256</th>\n      <th>Unhardened</th>\n      <td>514</td>\n      <td>48</td>\n      <td>49</td>\n      <td>1750</td>\n      <td>0.293714</td>\n      <td>0.027429</td>\n      <td>0.028000</td>\n    </tr>\n    <tr>\n      <th>Hardened</th>\n      <td>503</td>\n      <td>23</td>\n      <td>51</td>\n      <td>1750</td>\n      <td>0.287429</td>\n      <td>0.013143</td>\n      <td>0.029143</td>\n    </tr>\n    <tr>\n      <th rowspan=\"4\" valign=\"top\">MaxViT</th>\n      <th rowspan=\"2\" valign=\"top\">L384</th>\n      <th>Unhardened</th>\n      <td>255</td>\n      <td>277</td>\n      <td>42</td>\n      <td>1750</td>\n      <td>0.145714</td>\n      <td>0.158286</td>\n      <td>0.024000</td>\n    </tr>\n    <tr>\n      <th>Hardened</th>\n      <td>379</td>\n      <td>149</td>\n      <td>50</td>\n      <td>1750</td>\n      <td>0.216571</td>\n      <td>0.085143</td>\n      <td>0.028571</td>\n    </tr>\n    <tr>\n      <th rowspan=\"2\" valign=\"top\">L512</th>\n      <th>Unhardened</th>\n      <td>273</td>\n      <td>263</td>\n      <td>50</td>\n      <td>1750</td>\n      <td>0.156000</td>\n      <td>0.150286</td>\n      <td>0.028571</td>\n    </tr>\n    <tr>\n      <th>Hardened</th>\n      <td>407</td>\n      <td>143</td>\n      <td>35</td>\n      <td>1750</td>\n      <td>0.232571</td>\n      <td>0.081714</td>\n      <td>0.020000</td>\n    </tr>\n    <tr>\n      <th rowspan=\"24\" valign=\"top\">Pascal</th>\n      <th rowspan=\"10\" valign=\"top\">Original ViT</th>\n      <th rowspan=\"2\" valign=\"top\">BS32-224</th>\n      <th>Unhardened</th>\n      <td>625</td>\n      <td>136</td>\n      <td>30</td>\n      <td>1750</td>\n      <td>0.357143</td>\n      <td>0.077714</td>\n      <td>0.017143</td>\n    </tr>\n    <tr>\n      <th>Hardened</th>\n      <td>738</td>\n      <td>62</td>\n      <td>40</td>\n      <td>1750</td>\n      <td>0.421714</td>\n      <td>0.035429</td>\n      <td>0.022857</td>\n    </tr>\n    <tr>\n      <th rowspan=\"2\" valign=\"top\">B16-224</th>\n      <th>Unhardened</th>\n      <td>616</td>\n      <td>130</td>\n      <td>34</td>\n      <td>1750</td>\n      <td>0.352000</td>\n      <td>0.074286</td>\n      <td>0.019429</td>\n    </tr>\n    <tr>\n      <th>Hardened</th>\n      <td>645</td>\n      <td>57</td>\n      <td>45</td>\n      <td>1750</td>\n      <td>0.368571</td>\n      <td>0.032571</td>\n      <td>0.025714</td>\n    </tr>\n    <tr>\n      <th rowspan=\"2\" valign=\"top\">B16-384</th>\n      <th>Unhardened</th>\n      <td>534</td>\n      <td>159</td>\n      <td>26</td>\n      <td>1750</td>\n      <td>0.305143</td>\n      <td>0.090857</td>\n      <td>0.014857</td>\n    </tr>\n    <tr>\n      <th>Hardened</th>\n      <td>627</td>\n      <td>62</td>\n      <td>35</td>\n      <td>1750</td>\n      <td>0.358286</td>\n      <td>0.035429</td>\n      <td>0.020000</td>\n    </tr>\n    <tr>\n      <th rowspan=\"2\" valign=\"top\">L14-224</th>\n      <th>Unhardened</th>\n      <td>511</td>\n      <td>107</td>\n      <td>22</td>\n      <td>1750</td>\n      <td>0.292000</td>\n      <td>0.061143</td>\n      <td>0.012571</td>\n    </tr>\n    <tr>\n      <th>Hardened</th>\n      <td>584</td>\n      <td>39</td>\n      <td>26</td>\n      <td>1750</td>\n      <td>0.333714</td>\n      <td>0.022286</td>\n      <td>0.014857</td>\n    </tr>\n    <tr>\n      <th rowspan=\"2\" valign=\"top\">H14-224</th>\n      <th>Unhardened</th>\n      <td>482</td>\n      <td>110</td>\n      <td>22</td>\n      <td>1750</td>\n      <td>0.275429</td>\n      <td>0.062857</td>\n      <td>0.012571</td>\n    </tr>\n    <tr>\n      <th>Hardened</th>\n      <td>581</td>\n      <td>30</td>\n      <td>13</td>\n      <td>1750</td>\n      <td>0.332000</td>\n      <td>0.017143</td>\n      <td>0.007429</td>\n    </tr>\n    <tr>\n      <th rowspan=\"4\" valign=\"top\">EVA2</th>\n      <th rowspan=\"2\" valign=\"top\">B14-448</th>\n      <th>Unhardened</th>\n      <td>321</td>\n      <td>275</td>\n      <td>48</td>\n      <td>1750</td>\n      <td>0.183429</td>\n      <td>0.157143</td>\n      <td>0.027429</td>\n    </tr>\n    <tr>\n      <th>Hardened</th>\n      <td>546</td>\n      <td>33</td>\n      <td>50</td>\n      <td>1750</td>\n      <td>0.312000</td>\n      <td>0.018857</td>\n      <td>0.028571</td>\n    </tr>\n    <tr>\n      <th rowspan=\"2\" valign=\"top\">L14-448</th>\n      <th>Unhardened</th>\n      <td>298</td>\n      <td>266</td>\n      <td>35</td>\n      <td>1750</td>\n      <td>0.170286</td>\n      <td>0.152000</td>\n      <td>0.020000</td>\n    </tr>\n    <tr>\n      <th>Hardened</th>\n      <td>523</td>\n      <td>25</td>\n      <td>31</td>\n      <td>1750</td>\n      <td>0.298857</td>\n      <td>0.014286</td>\n      <td>0.017714</td>\n    </tr>\n    <tr>\n      <th rowspan=\"6\" valign=\"top\">SwinV2</th>\n      <th rowspan=\"2\" valign=\"top\">B256</th>\n      <th>Unhardened</th>\n      <td>599</td>\n      <td>44</td>\n      <td>84</td>\n      <td>1750</td>\n      <td>0.342286</td>\n      <td>0.025143</td>\n      <td>0.048000</td>\n    </tr>\n    <tr>\n      <th>Hardened</th>\n      <td>585</td>\n      <td>41</td>\n      <td>69</td>\n      <td>1750</td>\n      <td>0.334286</td>\n      <td>0.023429</td>\n      <td>0.039429</td>\n    </tr>\n    <tr>\n      <th rowspan=\"2\" valign=\"top\">B384</th>\n      <th>Unhardened</th>\n      <td>428</td>\n      <td>46</td>\n      <td>73</td>\n      <td>1750</td>\n      <td>0.244571</td>\n      <td>0.026286</td>\n      <td>0.041714</td>\n    </tr>\n    <tr>\n      <th>Hardened</th>\n      <td>474</td>\n      <td>30</td>\n      <td>59</td>\n      <td>1750</td>\n      <td>0.270857</td>\n      <td>0.017143</td>\n      <td>0.033714</td>\n    </tr>\n    <tr>\n      <th rowspan=\"2\" valign=\"top\">L256</th>\n      <th>Unhardened</th>\n      <td>567</td>\n      <td>38</td>\n      <td>49</td>\n      <td>1750</td>\n      <td>0.324000</td>\n      <td>0.021714</td>\n      <td>0.028000</td>\n    </tr>\n    <tr>\n      <th>Hardened</th>\n      <td>609</td>\n      <td>31</td>\n      <td>67</td>\n      <td>1750</td>\n      <td>0.348000</td>\n      <td>0.017714</td>\n      <td>0.038286</td>\n    </tr>\n    <tr>\n      <th rowspan=\"4\" valign=\"top\">MaxViT</th>\n      <th rowspan=\"2\" valign=\"top\">L384</th>\n      <th>Unhardened</th>\n      <td>128</td>\n      <td>278</td>\n      <td>65</td>\n      <td>1750</td>\n      <td>0.073143</td>\n      <td>0.158857</td>\n      <td>0.037143</td>\n    </tr>\n    <tr>\n      <th>Hardened</th>\n      <td>309</td>\n      <td>143</td>\n      <td>44</td>\n      <td>1750</td>\n      <td>0.176571</td>\n      <td>0.081714</td>\n      <td>0.025143</td>\n    </tr>\n    <tr>\n      <th rowspan=\"2\" valign=\"top\">L512</th>\n      <th>Unhardened</th>\n      <td>136</td>\n      <td>306</td>\n      <td>44</td>\n      <td>1750</td>\n      <td>0.077714</td>\n      <td>0.174857</td>\n      <td>0.025143</td>\n    </tr>\n    <tr>\n      <th>Hardened</th>\n      <td>304</td>\n      <td>149</td>\n      <td>60</td>\n      <td>1750</td>\n      <td>0.173714</td>\n      <td>0.085143</td>\n      <td>0.034286</td>\n    </tr>\n  </tbody>\n</table>\n</div>"
     },
     "execution_count": 5,
     "metadata": {},
     "output_type": "execute_result"
    }
   ],
   "source": [
    "model_grouped"
   ],
   "metadata": {
    "collapsed": false,
    "ExecuteTime": {
     "end_time": "2023-09-17T16:17:34.972198612Z",
     "start_time": "2023-09-17T16:17:33.951752380Z"
    }
   },
   "id": "548a2bea7453c019"
  },
  {
   "cell_type": "code",
   "execution_count": 6,
   "outputs": [],
   "source": [
    "pvf_reduced = model_grouped[[\"PVF Tolerable SDC\", \"PVF Critical SDC\", \"PVF DUE\"]]"
   ],
   "metadata": {
    "collapsed": false,
    "ExecuteTime": {
     "end_time": "2023-09-17T16:17:34.972617336Z",
     "start_time": "2023-09-17T16:17:33.978846293Z"
    }
   },
   "id": "2d7b8aa139fa3a48"
  },
  {
   "cell_type": "code",
   "execution_count": 7,
   "outputs": [
    {
     "data": {
      "text/plain": "                                         PVF Tolerable SDC  PVF Critical SDC  \\\nboard  family       config   hardening                                         \nAmpere Original ViT BS32-224 Unhardened           0.312571          0.056571   \n                             Hardened             0.357714          0.029714   \n                    B16-224  Unhardened           0.311429          0.064000   \n                             Hardened             0.361143          0.032000   \n                    B16-384  Unhardened           0.277714          0.076000   \n                             Hardened             0.315429          0.034857   \n                    L14-224  Unhardened           0.244571          0.057714   \n                             Hardened             0.314286          0.017714   \n                    H14-224  Unhardened           0.249143          0.060571   \n                             Hardened             0.300571          0.016571   \n       EVA2         B14-448  Unhardened           0.195429          0.129143   \n                             Hardened             0.312000          0.012000   \n                    L14-448  Unhardened           0.156571          0.136000   \n                             Hardened             0.269714          0.021143   \n       SwinV2       B256     Unhardened           0.294857          0.027429   \n                             Hardened             0.310857          0.027429   \n                    B384     Unhardened           0.237143          0.016000   \n                             Hardened             0.230286          0.016000   \n                    L256     Unhardened           0.293714          0.027429   \n                             Hardened             0.287429          0.013143   \n       MaxViT       L384     Unhardened           0.145714          0.158286   \n                             Hardened             0.216571          0.085143   \n                    L512     Unhardened           0.156000          0.150286   \n                             Hardened             0.232571          0.081714   \nPascal Original ViT BS32-224 Unhardened           0.357143          0.077714   \n                             Hardened             0.421714          0.035429   \n                    B16-224  Unhardened           0.352000          0.074286   \n                             Hardened             0.368571          0.032571   \n                    B16-384  Unhardened           0.305143          0.090857   \n                             Hardened             0.358286          0.035429   \n                    L14-224  Unhardened           0.292000          0.061143   \n                             Hardened             0.333714          0.022286   \n                    H14-224  Unhardened           0.275429          0.062857   \n                             Hardened             0.332000          0.017143   \n       EVA2         B14-448  Unhardened           0.183429          0.157143   \n                             Hardened             0.312000          0.018857   \n                    L14-448  Unhardened           0.170286          0.152000   \n                             Hardened             0.298857          0.014286   \n       SwinV2       B256     Unhardened           0.342286          0.025143   \n                             Hardened             0.334286          0.023429   \n                    B384     Unhardened           0.244571          0.026286   \n                             Hardened             0.270857          0.017143   \n                    L256     Unhardened           0.324000          0.021714   \n                             Hardened             0.348000          0.017714   \n       MaxViT       L384     Unhardened           0.073143          0.158857   \n                             Hardened             0.176571          0.081714   \n                    L512     Unhardened           0.077714          0.174857   \n                             Hardened             0.173714          0.085143   \n\n                                          PVF DUE  \nboard  family       config   hardening             \nAmpere Original ViT BS32-224 Unhardened  0.020571  \n                             Hardened    0.021714  \n                    B16-224  Unhardened  0.024571  \n                             Hardened    0.020000  \n                    B16-384  Unhardened  0.025714  \n                             Hardened    0.020000  \n                    L14-224  Unhardened  0.014286  \n                             Hardened    0.017714  \n                    H14-224  Unhardened  0.021143  \n                             Hardened    0.018286  \n       EVA2         B14-448  Unhardened  0.020000  \n                             Hardened    0.022857  \n                    L14-448  Unhardened  0.033714  \n                             Hardened    0.025143  \n       SwinV2       B256     Unhardened  0.030286  \n                             Hardened    0.028571  \n                    B384     Unhardened  0.037143  \n                             Hardened    0.035429  \n                    L256     Unhardened  0.028000  \n                             Hardened    0.029143  \n       MaxViT       L384     Unhardened  0.024000  \n                             Hardened    0.028571  \n                    L512     Unhardened  0.028571  \n                             Hardened    0.020000  \nPascal Original ViT BS32-224 Unhardened  0.017143  \n                             Hardened    0.022857  \n                    B16-224  Unhardened  0.019429  \n                             Hardened    0.025714  \n                    B16-384  Unhardened  0.014857  \n                             Hardened    0.020000  \n                    L14-224  Unhardened  0.012571  \n                             Hardened    0.014857  \n                    H14-224  Unhardened  0.012571  \n                             Hardened    0.007429  \n       EVA2         B14-448  Unhardened  0.027429  \n                             Hardened    0.028571  \n                    L14-448  Unhardened  0.020000  \n                             Hardened    0.017714  \n       SwinV2       B256     Unhardened  0.048000  \n                             Hardened    0.039429  \n                    B384     Unhardened  0.041714  \n                             Hardened    0.033714  \n                    L256     Unhardened  0.028000  \n                             Hardened    0.038286  \n       MaxViT       L384     Unhardened  0.037143  \n                             Hardened    0.025143  \n                    L512     Unhardened  0.025143  \n                             Hardened    0.034286  ",
      "text/html": "<div>\n<style scoped>\n    .dataframe tbody tr th:only-of-type {\n        vertical-align: middle;\n    }\n\n    .dataframe tbody tr th {\n        vertical-align: top;\n    }\n\n    .dataframe thead th {\n        text-align: right;\n    }\n</style>\n<table border=\"1\" class=\"dataframe\">\n  <thead>\n    <tr style=\"text-align: right;\">\n      <th></th>\n      <th></th>\n      <th></th>\n      <th></th>\n      <th>PVF Tolerable SDC</th>\n      <th>PVF Critical SDC</th>\n      <th>PVF DUE</th>\n    </tr>\n    <tr>\n      <th>board</th>\n      <th>family</th>\n      <th>config</th>\n      <th>hardening</th>\n      <th></th>\n      <th></th>\n      <th></th>\n    </tr>\n  </thead>\n  <tbody>\n    <tr>\n      <th rowspan=\"24\" valign=\"top\">Ampere</th>\n      <th rowspan=\"10\" valign=\"top\">Original ViT</th>\n      <th rowspan=\"2\" valign=\"top\">BS32-224</th>\n      <th>Unhardened</th>\n      <td>0.312571</td>\n      <td>0.056571</td>\n      <td>0.020571</td>\n    </tr>\n    <tr>\n      <th>Hardened</th>\n      <td>0.357714</td>\n      <td>0.029714</td>\n      <td>0.021714</td>\n    </tr>\n    <tr>\n      <th rowspan=\"2\" valign=\"top\">B16-224</th>\n      <th>Unhardened</th>\n      <td>0.311429</td>\n      <td>0.064000</td>\n      <td>0.024571</td>\n    </tr>\n    <tr>\n      <th>Hardened</th>\n      <td>0.361143</td>\n      <td>0.032000</td>\n      <td>0.020000</td>\n    </tr>\n    <tr>\n      <th rowspan=\"2\" valign=\"top\">B16-384</th>\n      <th>Unhardened</th>\n      <td>0.277714</td>\n      <td>0.076000</td>\n      <td>0.025714</td>\n    </tr>\n    <tr>\n      <th>Hardened</th>\n      <td>0.315429</td>\n      <td>0.034857</td>\n      <td>0.020000</td>\n    </tr>\n    <tr>\n      <th rowspan=\"2\" valign=\"top\">L14-224</th>\n      <th>Unhardened</th>\n      <td>0.244571</td>\n      <td>0.057714</td>\n      <td>0.014286</td>\n    </tr>\n    <tr>\n      <th>Hardened</th>\n      <td>0.314286</td>\n      <td>0.017714</td>\n      <td>0.017714</td>\n    </tr>\n    <tr>\n      <th rowspan=\"2\" valign=\"top\">H14-224</th>\n      <th>Unhardened</th>\n      <td>0.249143</td>\n      <td>0.060571</td>\n      <td>0.021143</td>\n    </tr>\n    <tr>\n      <th>Hardened</th>\n      <td>0.300571</td>\n      <td>0.016571</td>\n      <td>0.018286</td>\n    </tr>\n    <tr>\n      <th rowspan=\"4\" valign=\"top\">EVA2</th>\n      <th rowspan=\"2\" valign=\"top\">B14-448</th>\n      <th>Unhardened</th>\n      <td>0.195429</td>\n      <td>0.129143</td>\n      <td>0.020000</td>\n    </tr>\n    <tr>\n      <th>Hardened</th>\n      <td>0.312000</td>\n      <td>0.012000</td>\n      <td>0.022857</td>\n    </tr>\n    <tr>\n      <th rowspan=\"2\" valign=\"top\">L14-448</th>\n      <th>Unhardened</th>\n      <td>0.156571</td>\n      <td>0.136000</td>\n      <td>0.033714</td>\n    </tr>\n    <tr>\n      <th>Hardened</th>\n      <td>0.269714</td>\n      <td>0.021143</td>\n      <td>0.025143</td>\n    </tr>\n    <tr>\n      <th rowspan=\"6\" valign=\"top\">SwinV2</th>\n      <th rowspan=\"2\" valign=\"top\">B256</th>\n      <th>Unhardened</th>\n      <td>0.294857</td>\n      <td>0.027429</td>\n      <td>0.030286</td>\n    </tr>\n    <tr>\n      <th>Hardened</th>\n      <td>0.310857</td>\n      <td>0.027429</td>\n      <td>0.028571</td>\n    </tr>\n    <tr>\n      <th rowspan=\"2\" valign=\"top\">B384</th>\n      <th>Unhardened</th>\n      <td>0.237143</td>\n      <td>0.016000</td>\n      <td>0.037143</td>\n    </tr>\n    <tr>\n      <th>Hardened</th>\n      <td>0.230286</td>\n      <td>0.016000</td>\n      <td>0.035429</td>\n    </tr>\n    <tr>\n      <th rowspan=\"2\" valign=\"top\">L256</th>\n      <th>Unhardened</th>\n      <td>0.293714</td>\n      <td>0.027429</td>\n      <td>0.028000</td>\n    </tr>\n    <tr>\n      <th>Hardened</th>\n      <td>0.287429</td>\n      <td>0.013143</td>\n      <td>0.029143</td>\n    </tr>\n    <tr>\n      <th rowspan=\"4\" valign=\"top\">MaxViT</th>\n      <th rowspan=\"2\" valign=\"top\">L384</th>\n      <th>Unhardened</th>\n      <td>0.145714</td>\n      <td>0.158286</td>\n      <td>0.024000</td>\n    </tr>\n    <tr>\n      <th>Hardened</th>\n      <td>0.216571</td>\n      <td>0.085143</td>\n      <td>0.028571</td>\n    </tr>\n    <tr>\n      <th rowspan=\"2\" valign=\"top\">L512</th>\n      <th>Unhardened</th>\n      <td>0.156000</td>\n      <td>0.150286</td>\n      <td>0.028571</td>\n    </tr>\n    <tr>\n      <th>Hardened</th>\n      <td>0.232571</td>\n      <td>0.081714</td>\n      <td>0.020000</td>\n    </tr>\n    <tr>\n      <th rowspan=\"24\" valign=\"top\">Pascal</th>\n      <th rowspan=\"10\" valign=\"top\">Original ViT</th>\n      <th rowspan=\"2\" valign=\"top\">BS32-224</th>\n      <th>Unhardened</th>\n      <td>0.357143</td>\n      <td>0.077714</td>\n      <td>0.017143</td>\n    </tr>\n    <tr>\n      <th>Hardened</th>\n      <td>0.421714</td>\n      <td>0.035429</td>\n      <td>0.022857</td>\n    </tr>\n    <tr>\n      <th rowspan=\"2\" valign=\"top\">B16-224</th>\n      <th>Unhardened</th>\n      <td>0.352000</td>\n      <td>0.074286</td>\n      <td>0.019429</td>\n    </tr>\n    <tr>\n      <th>Hardened</th>\n      <td>0.368571</td>\n      <td>0.032571</td>\n      <td>0.025714</td>\n    </tr>\n    <tr>\n      <th rowspan=\"2\" valign=\"top\">B16-384</th>\n      <th>Unhardened</th>\n      <td>0.305143</td>\n      <td>0.090857</td>\n      <td>0.014857</td>\n    </tr>\n    <tr>\n      <th>Hardened</th>\n      <td>0.358286</td>\n      <td>0.035429</td>\n      <td>0.020000</td>\n    </tr>\n    <tr>\n      <th rowspan=\"2\" valign=\"top\">L14-224</th>\n      <th>Unhardened</th>\n      <td>0.292000</td>\n      <td>0.061143</td>\n      <td>0.012571</td>\n    </tr>\n    <tr>\n      <th>Hardened</th>\n      <td>0.333714</td>\n      <td>0.022286</td>\n      <td>0.014857</td>\n    </tr>\n    <tr>\n      <th rowspan=\"2\" valign=\"top\">H14-224</th>\n      <th>Unhardened</th>\n      <td>0.275429</td>\n      <td>0.062857</td>\n      <td>0.012571</td>\n    </tr>\n    <tr>\n      <th>Hardened</th>\n      <td>0.332000</td>\n      <td>0.017143</td>\n      <td>0.007429</td>\n    </tr>\n    <tr>\n      <th rowspan=\"4\" valign=\"top\">EVA2</th>\n      <th rowspan=\"2\" valign=\"top\">B14-448</th>\n      <th>Unhardened</th>\n      <td>0.183429</td>\n      <td>0.157143</td>\n      <td>0.027429</td>\n    </tr>\n    <tr>\n      <th>Hardened</th>\n      <td>0.312000</td>\n      <td>0.018857</td>\n      <td>0.028571</td>\n    </tr>\n    <tr>\n      <th rowspan=\"2\" valign=\"top\">L14-448</th>\n      <th>Unhardened</th>\n      <td>0.170286</td>\n      <td>0.152000</td>\n      <td>0.020000</td>\n    </tr>\n    <tr>\n      <th>Hardened</th>\n      <td>0.298857</td>\n      <td>0.014286</td>\n      <td>0.017714</td>\n    </tr>\n    <tr>\n      <th rowspan=\"6\" valign=\"top\">SwinV2</th>\n      <th rowspan=\"2\" valign=\"top\">B256</th>\n      <th>Unhardened</th>\n      <td>0.342286</td>\n      <td>0.025143</td>\n      <td>0.048000</td>\n    </tr>\n    <tr>\n      <th>Hardened</th>\n      <td>0.334286</td>\n      <td>0.023429</td>\n      <td>0.039429</td>\n    </tr>\n    <tr>\n      <th rowspan=\"2\" valign=\"top\">B384</th>\n      <th>Unhardened</th>\n      <td>0.244571</td>\n      <td>0.026286</td>\n      <td>0.041714</td>\n    </tr>\n    <tr>\n      <th>Hardened</th>\n      <td>0.270857</td>\n      <td>0.017143</td>\n      <td>0.033714</td>\n    </tr>\n    <tr>\n      <th rowspan=\"2\" valign=\"top\">L256</th>\n      <th>Unhardened</th>\n      <td>0.324000</td>\n      <td>0.021714</td>\n      <td>0.028000</td>\n    </tr>\n    <tr>\n      <th>Hardened</th>\n      <td>0.348000</td>\n      <td>0.017714</td>\n      <td>0.038286</td>\n    </tr>\n    <tr>\n      <th rowspan=\"4\" valign=\"top\">MaxViT</th>\n      <th rowspan=\"2\" valign=\"top\">L384</th>\n      <th>Unhardened</th>\n      <td>0.073143</td>\n      <td>0.158857</td>\n      <td>0.037143</td>\n    </tr>\n    <tr>\n      <th>Hardened</th>\n      <td>0.176571</td>\n      <td>0.081714</td>\n      <td>0.025143</td>\n    </tr>\n    <tr>\n      <th rowspan=\"2\" valign=\"top\">L512</th>\n      <th>Unhardened</th>\n      <td>0.077714</td>\n      <td>0.174857</td>\n      <td>0.025143</td>\n    </tr>\n    <tr>\n      <th>Hardened</th>\n      <td>0.173714</td>\n      <td>0.085143</td>\n      <td>0.034286</td>\n    </tr>\n  </tbody>\n</table>\n</div>"
     },
     "execution_count": 7,
     "metadata": {},
     "output_type": "execute_result"
    }
   ],
   "source": [
    "pvf_reduced"
   ],
   "metadata": {
    "collapsed": false,
    "ExecuteTime": {
     "end_time": "2023-09-17T16:17:34.974464085Z",
     "start_time": "2023-09-17T16:17:33.980967344Z"
    }
   },
   "id": "585da0e657c102c5"
  },
  {
   "cell_type": "code",
   "execution_count": 8,
   "outputs": [],
   "source": [
    "with pd.ExcelWriter(\"~/temp/pvf_parsed_tmp.xlsx\") as writer:\n",
    "    model_grouped.to_excel(writer, sheet_name=\"raw_data\")\n",
    "    pvf_reduced.to_excel(writer, sheet_name=\"PVF\")"
   ],
   "metadata": {
    "collapsed": false,
    "ExecuteTime": {
     "end_time": "2023-09-17T16:17:34.997442269Z",
     "start_time": "2023-09-17T16:17:34.025727473Z"
    }
   },
   "id": "ee780b1dd72fb30f"
  },
  {
   "cell_type": "code",
   "execution_count": 9,
   "outputs": [],
   "source": [
    "sns.set_style(\"whitegrid\")\n",
    "sns.set_color_codes(\"pastel\")"
   ],
   "metadata": {
    "collapsed": false,
    "ExecuteTime": {
     "end_time": "2023-09-17T16:17:34.998024782Z",
     "start_time": "2023-09-17T16:17:34.068677868Z"
    }
   },
   "id": "b572ddda31ff1fef"
  },
  {
   "cell_type": "code",
   "execution_count": 10,
   "outputs": [],
   "source": [
    "def plot_figure(board):\n",
    "    # set the figure size\n",
    "    fig, ax = plt.subplots(figsize=(12, 4.2))\n",
    "    pvf = pvf_reduced.loc[pd.IndexSlice[board, :, :, :]].droplevel(\"board\").reset_index()\n",
    "    margin = 0.04\n",
    "    width = 0.45\n",
    "    bar_width = 0.35\n",
    "    configs = pvf[\"config\"].unique()\n",
    "    families = pvf[\"family\"].unique()\n",
    "    x_indexes = np.arange(configs.size) - width / 2\n",
    "    x_indexes_dict = dict(zip(configs, x_indexes))\n",
    "    print(families)\n",
    "    font_size = 19\n",
    "    y_tick_step = 10\n",
    "    max_y_value = round(pvf_reduced.sum(axis=1).max() * 10) * 10\n",
    "    y_ticks = np.arange(0, max_y_value + y_tick_step, y_tick_step)\n",
    "    print(y_ticks)\n",
    "    line_width = 1\n",
    "    temp_file = f\"/tmp/{board}_pvf.pdf\"\n",
    "    final_file = f\"/home/fernando/git_research/date_2024_vits/fig/pvf_{board.lower()}.pdf\"\n",
    "    # SDC on the ppt 132 151 176\n",
    "    # critical 251 209 245 \n",
    "    # DUE 255 217 102\n",
    "    tol_sdc_color = (132 / 255, 151 / 255, 176 / 255)  # \"#44a5c2\"\n",
    "    cri_sdc_color = (251 / 255, 209 / 255, 245 / 255)  # \"#ffae49\"\n",
    "    due_color = (255 / 255, 217 / 255, 102 / 255)  # \"#aaae49\"\n",
    "    y_subsection_pos = -0.13\n",
    "\n",
    "    hatch_pattern = '///'\n",
    "    alpha_set = 0.7\n",
    "    for i, style in enumerate([(\"Unhardened\", \"\", 1.0),\n",
    "                               (\"Hardened\", hatch_pattern, alpha_set)]):\n",
    "        hardening, hatch, alpha = style\n",
    "        pvf_df = pvf[pvf[\"hardening\"] == hardening]\n",
    "        tolerable = pvf_df[\"PVF Tolerable SDC\"] * 100.0\n",
    "        critical = pvf_df[\"PVF Critical SDC\"] * 100.0\n",
    "        due = pvf_df[\"PVF DUE\"] * 100.0\n",
    "        plt.bar(x_indexes + width * i, tolerable, width=bar_width,\n",
    "                color=tol_sdc_color, edgecolor=\"black\", linewidth=line_width, hatch=hatch, alpha=alpha)\n",
    "        plt.bar(x_indexes + width * i, critical, width=bar_width, bottom=tolerable,\n",
    "                color=cri_sdc_color, edgecolor=\"black\", linewidth=line_width, hatch=hatch, alpha=alpha)\n",
    "        plt.bar(x_indexes + width * i, due, width=bar_width, bottom=tolerable + critical,\n",
    "                color=due_color, edgecolor=\"black\", linewidth=line_width, hatch=hatch, alpha=alpha)\n",
    "\n",
    "    for axis in ['bottom', 'left']:\n",
    "        ax.spines[axis].set_linewidth(line_width)\n",
    "        ax.spines[axis].set_color(\"black\")\n",
    "        ax.spines['bottom'].set_position(('data', 0))\n",
    "\n",
    "    # https://stackoverflow.com/questions/71048752/adding-multi-level-x-axis\n",
    "    # Putting the subcategory\n",
    "    # vertical lines to separate the categories\n",
    "    def dist(l, r):\n",
    "        left_pos = x_indexes_dict[l] - bar_width / 2\n",
    "        right_pos = x_indexes_dict[r] + bar_width / 2 + width\n",
    "        distance = right_pos - left_pos\n",
    "        return left_pos + distance / 2\n",
    "\n",
    "    pos = [dist(l, r) for l, r in \n",
    "            [('H14-224', 'B14-448'), ('L14-448', 'B256'), ('L256', 'L384')]]\n",
    "    text_pos = [dist(l, r) for l, r in\n",
    "                [('BS32-224', 'H14-224'), ('B14-448', 'L14-448'), ('B256', 'L256'), ('L384', 'L512')]]\n",
    "\n",
    "    # vertical lines to separate the years\n",
    "    ax.vlines(x=pos, ymin=1, ymax=y_subsection_pos, color='black', lw=line_width, clip_on=False, linestyles=\"--\",\n",
    "              transform=ax.get_xaxis_transform())\n",
    "\n",
    "    # put labels at the center of their range\n",
    "    for family, pos0 in zip(families, text_pos):\n",
    "        ax.text(pos0, y_subsection_pos, family, ha='center', clip_on=False, transform=ax.get_xaxis_transform(),\n",
    "                fontsize=font_size, weight='bold')\n",
    "\n",
    "    # Adding legend\n",
    "    custom_lines = [\n",
    "        Patch(facecolor='lightgray', edgecolor='black', label='Unhardened'),\n",
    "        Patch(facecolor='lightgray', edgecolor='black', label='Hardened', hatch=hatch_pattern, alpha=alpha_set),\n",
    "        Patch(facecolor=tol_sdc_color, edgecolor='black', label='Tolerable SDC'),\n",
    "        Patch(facecolor=cri_sdc_color, edgecolor='black', label='Critical SDC'),\n",
    "        Patch(facecolor=due_color, edgecolor='black', label='DUE')\n",
    "    ]\n",
    "    font = font_manager.FontProperties(weight='bold',\n",
    "                                       style='normal', size=font_size)\n",
    "    plt.legend(handles=custom_lines, bbox_to_anchor=(0.98, 1.2), edgecolor=None, frameon=False,\n",
    "               ncol=len(custom_lines), fontsize=font_size, prop=font, columnspacing=0.3,\n",
    "               handletextpad=0.3)\n",
    "    ax.yaxis.set_ticks(y_ticks)\n",
    "    ax.set_xticks(ticks=x_indexes + width / 2, labels=configs, weight=\"bold\", fontsize=font_size - 5)\n",
    "    ax.set_ylabel(\"Program Vulnerability Factor\", fontsize=font_size, weight='bold')\n",
    "    plt.gca().yaxis.set_major_formatter(mtick.FuncFormatter(lambda y, _: f'{int(y)}%'))\n",
    "    ax.tick_params(left=True, bottom=False, direction=\"in\")\n",
    "    sns.despine(ax=ax, left=False, trim=False)\n",
    "    plt.margins(x=margin, tight=True)\n",
    "    ax.xaxis.grid(False)  # remove the vertical gridlines\n",
    "    plt.yticks(fontsize=font_size, weight='bold')\n",
    "\n",
    "    plt.tight_layout()\n",
    "    plt.savefig(temp_file)\n",
    "    os.system(f\"pdfcrop {temp_file} {final_file}\")"
   ],
   "metadata": {
    "collapsed": false,
    "ExecuteTime": {
     "end_time": "2023-09-17T16:17:34.998374209Z",
     "start_time": "2023-09-17T16:17:34.068959091Z"
    }
   },
   "id": "417bc13d9636ff52"
  },
  {
   "cell_type": "code",
   "execution_count": 11,
   "outputs": [
    {
     "name": "stdout",
     "output_type": "stream",
     "text": [
      "['Original ViT' 'EVA2' 'SwinV2' 'MaxViT']\n",
      "[ 0 10 20 30 40 50]\n",
      "PDFCROP 1.38, 2012/11/02 - Copyright (c) 2002-2012 by Heiko Oberdiek.\n",
      "==> 1 page written on `/home/fernando/git_research/date_2024_vits/fig/pvf_ampere.pdf'.\n"
     ]
    },
    {
     "data": {
      "text/plain": "<Figure size 864x302.4 with 1 Axes>",
      "image/png": "[encoded data removed]"
     },
     "metadata": {
      "needs_background": "light"
     },
     "output_type": "display_data"
    }
   ],
   "source": [
    "plot_figure(\"Ampere\")"
   ],
   "metadata": {
    "collapsed": false,
    "ExecuteTime": {
     "end_time": "2023-09-17T16:17:35.002608939Z",
     "start_time": "2023-09-17T16:17:34.083199106Z"
    }
   },
   "id": "45a616b0ef9fa922"
  },
  {
   "cell_type": "code",
   "execution_count": 12,
   "outputs": [
    {
     "name": "stdout",
     "output_type": "stream",
     "text": [
      "['Original ViT' 'EVA2' 'SwinV2' 'MaxViT']\n",
      "[ 0 10 20 30 40 50]\n",
      "PDFCROP 1.38, 2012/11/02 - Copyright (c) 2002-2012 by Heiko Oberdiek.\n",
      "==> 1 page written on `/home/fernando/git_research/date_2024_vits/fig/pvf_pascal.pdf'.\n"
     ]
    },
    {
     "data": {
      "text/plain": "<Figure size 864x302.4 with 1 Axes>",
      "image/png": "[encoded data removed]"
     },
     "metadata": {
      "needs_background": "light"
     },
     "output_type": "display_data"
    }
   ],
   "source": [
    "plot_figure(\"Pascal\")"
   ],
   "metadata": {
    "collapsed": false,
    "ExecuteTime": {
     "end_time": "2023-09-17T16:17:35.958131399Z",
     "start_time": "2023-09-17T16:17:34.844422870Z"
    }
   },
   "id": "d26b2cc847637460"
  },
  {
   "cell_type": "code",
   "execution_count": 12,
   "outputs": [],
   "source": [],
   "metadata": {
    "collapsed": false,
    "ExecuteTime": {
     "end_time": "2023-09-17T16:17:35.958626325Z",
     "start_time": "2023-09-17T16:17:35.400007115Z"
    }
   },
   "id": "dda02b756a3b8f8e"
  },
  {
   "cell_type": "markdown",
   "source": [
    "## Paper result section stats"
   ],
   "metadata": {
    "collapsed": false
   },
   "id": "8e956b7821d03cab"
  },
  {
   "cell_type": "code",
   "execution_count": 13,
   "outputs": [
    {
     "data": {
      "text/plain": "2.5154761904761904"
     },
     "execution_count": 13,
     "metadata": {},
     "output_type": "execute_result"
    }
   ],
   "source": [
    "# DUE %\n",
    "(model_grouped[\"DUE\"].sum() / model_grouped[\"#faults\"].sum()) * 100"
   ],
   "metadata": {
    "collapsed": false,
    "ExecuteTime": {
     "end_time": "2023-09-17T16:17:35.959244397Z",
     "start_time": "2023-09-17T16:17:35.402765314Z"
    }
   },
   "id": "15cc365b4345ed15"
  },
  {
   "cell_type": "code",
   "execution_count": 14,
   "outputs": [],
   "source": [
    "# SDC %\n",
    "calc_average = model_grouped.loc[pd.IndexSlice[:, :, :, \"Unhardened\"]].droplevel(\"hardening\").groupby([\"board\", \"family\"]).sum()"
   ],
   "metadata": {
    "collapsed": false,
    "ExecuteTime": {
     "end_time": "2023-09-17T16:17:35.959448762Z",
     "start_time": "2023-09-17T16:17:35.405168730Z"
    }
   },
   "id": "190c76003a57f516"
  },
  {
   "cell_type": "code",
   "execution_count": 15,
   "outputs": [
    {
     "data": {
      "text/plain": "                      SDC  critical_SDC  DUE  #faults  PVF Tolerable SDC  \\\nboard  family                                                              \nAmpere Original ViT  2442           551  186     8750           1.395429   \n       EVA2           616           464   94     3500           0.352000   \n       SwinV2        1445           124  167     5250           0.825714   \n       MaxViT         528           540   92     3500           0.301714   \nPascal Original ViT  2768           642  134     8750           1.581714   \n       EVA2           619           541   83     3500           0.353714   \n       SwinV2        1594           128  206     5250           0.910857   \n       MaxViT         264           584  109     3500           0.150857   \n\n                     PVF Critical SDC   PVF DUE  \nboard  family                                    \nAmpere Original ViT          0.314857  0.106286  \n       EVA2                  0.265143  0.053714  \n       SwinV2                0.070857  0.095429  \n       MaxViT                0.308571  0.052571  \nPascal Original ViT          0.366857  0.076571  \n       EVA2                  0.309143  0.047429  \n       SwinV2                0.073143  0.117714  \n       MaxViT                0.333714  0.062286  ",
      "text/html": "<div>\n<style scoped>\n    .dataframe tbody tr th:only-of-type {\n        vertical-align: middle;\n    }\n\n    .dataframe tbody tr th {\n        vertical-align: top;\n    }\n\n    .dataframe thead th {\n        text-align: right;\n    }\n</style>\n<table border=\"1\" class=\"dataframe\">\n  <thead>\n    <tr style=\"text-align: right;\">\n      <th></th>\n      <th></th>\n      <th>SDC</th>\n      <th>critical_SDC</th>\n      <th>DUE</th>\n      <th>#faults</th>\n      <th>PVF Tolerable SDC</th>\n      <th>PVF Critical SDC</th>\n      <th>PVF DUE</th>\n    </tr>\n    <tr>\n      <th>board</th>\n      <th>family</th>\n      <th></th>\n      <th></th>\n      <th></th>\n      <th></th>\n      <th></th>\n      <th></th>\n      <th></th>\n    </tr>\n  </thead>\n  <tbody>\n    <tr>\n      <th rowspan=\"4\" valign=\"top\">Ampere</th>\n      <th>Original ViT</th>\n      <td>2442</td>\n      <td>551</td>\n      <td>186</td>\n      <td>8750</td>\n      <td>1.395429</td>\n      <td>0.314857</td>\n      <td>0.106286</td>\n    </tr>\n    <tr>\n      <th>EVA2</th>\n      <td>616</td>\n      <td>464</td>\n      <td>94</td>\n      <td>3500</td>\n      <td>0.352000</td>\n      <td>0.265143</td>\n      <td>0.053714</td>\n    </tr>\n    <tr>\n      <th>SwinV2</th>\n      <td>1445</td>\n      <td>124</td>\n      <td>167</td>\n      <td>5250</td>\n      <td>0.825714</td>\n      <td>0.070857</td>\n      <td>0.095429</td>\n    </tr>\n    <tr>\n      <th>MaxViT</th>\n      <td>528</td>\n      <td>540</td>\n      <td>92</td>\n      <td>3500</td>\n      <td>0.301714</td>\n      <td>0.308571</td>\n      <td>0.052571</td>\n    </tr>\n    <tr>\n      <th rowspan=\"4\" valign=\"top\">Pascal</th>\n      <th>Original ViT</th>\n      <td>2768</td>\n      <td>642</td>\n      <td>134</td>\n      <td>8750</td>\n      <td>1.581714</td>\n      <td>0.366857</td>\n      <td>0.076571</td>\n    </tr>\n    <tr>\n      <th>EVA2</th>\n      <td>619</td>\n      <td>541</td>\n      <td>83</td>\n      <td>3500</td>\n      <td>0.353714</td>\n      <td>0.309143</td>\n      <td>0.047429</td>\n    </tr>\n    <tr>\n      <th>SwinV2</th>\n      <td>1594</td>\n      <td>128</td>\n      <td>206</td>\n      <td>5250</td>\n      <td>0.910857</td>\n      <td>0.073143</td>\n      <td>0.117714</td>\n    </tr>\n    <tr>\n      <th>MaxViT</th>\n      <td>264</td>\n      <td>584</td>\n      <td>109</td>\n      <td>3500</td>\n      <td>0.150857</td>\n      <td>0.333714</td>\n      <td>0.062286</td>\n    </tr>\n  </tbody>\n</table>\n</div>"
     },
     "execution_count": 15,
     "metadata": {},
     "output_type": "execute_result"
    }
   ],
   "source": [
    "calc_average"
   ],
   "metadata": {
    "collapsed": false,
    "ExecuteTime": {
     "end_time": "2023-09-17T16:17:35.961036612Z",
     "start_time": "2023-09-17T16:17:35.422385812Z"
    }
   },
   "id": "3e8b346fbeaf1d47"
  },
  {
   "cell_type": "code",
   "execution_count": 16,
   "outputs": [],
   "source": [
    "t1 = (calc_average[\"SDC\"] + calc_average[\"critical_SDC\"]) / calc_average[\"#faults\"]"
   ],
   "metadata": {
    "collapsed": false,
    "ExecuteTime": {
     "end_time": "2023-09-17T16:17:35.961974191Z",
     "start_time": "2023-09-17T16:17:35.442275784Z"
    }
   },
   "id": "11a1b18b0635e807"
  },
  {
   "cell_type": "code",
   "execution_count": 17,
   "outputs": [],
   "source": [
    "calc_average_pvf = model_grouped.loc[pd.IndexSlice[:, :, :, \"Unhardened\"]].droplevel(\"hardening\")\n",
    "calc_average_pvf[\"PVF SDC\"] = calc_average_pvf[\"PVF Tolerable SDC\"] + calc_average_pvf[\"PVF Critical SDC\"] \n",
    "t2 = calc_average_pvf.groupby([\"board\", \"family\"]).mean()[\"PVF SDC\"]"
   ],
   "metadata": {
    "collapsed": false,
    "ExecuteTime": {
     "end_time": "2023-09-17T16:17:35.990198375Z",
     "start_time": "2023-09-17T16:17:35.463415807Z"
    }
   },
   "id": "cb0a2deeec384d54"
  },
  {
   "cell_type": "code",
   "execution_count": 18,
   "outputs": [
    {
     "data": {
      "text/plain": "board   family      \nAmpere  Original ViT    0.000000e+00\n        EVA2           -5.551115e-17\n        SwinV2          0.000000e+00\n        MaxViT          0.000000e+00\nPascal  Original ViT    0.000000e+00\n        EVA2            0.000000e+00\n        SwinV2          0.000000e+00\n        MaxViT          2.775558e-17\ndtype: float64"
     },
     "execution_count": 18,
     "metadata": {},
     "output_type": "execute_result"
    }
   ],
   "source": [
    "t1 - t2"
   ],
   "metadata": {
    "collapsed": false,
    "ExecuteTime": {
     "end_time": "2023-09-17T16:17:35.991226095Z",
     "start_time": "2023-09-17T16:17:35.504706898Z"
    }
   },
   "id": "7285aebb45644088"
  },
  {
   "cell_type": "code",
   "execution_count": 19,
   "outputs": [
    {
     "data": {
      "text/plain": "board   family      \nAmpere  Original ViT    0.342057\n        EVA2            0.308571\n        SwinV2          0.298857\n        MaxViT          0.305143\nPascal  Original ViT    0.389714\n        EVA2            0.331429\n        SwinV2          0.328000\n        MaxViT          0.242286\ndtype: float64"
     },
     "execution_count": 19,
     "metadata": {},
     "output_type": "execute_result"
    }
   ],
   "source": [
    "t1"
   ],
   "metadata": {
    "collapsed": false,
    "ExecuteTime": {
     "end_time": "2023-09-17T16:17:35.991737832Z",
     "start_time": "2023-09-17T16:17:35.505118315Z"
    }
   },
   "id": "67e8a23718d6829e"
  },
  {
   "cell_type": "code",
   "execution_count": 37,
   "outputs": [
    {
     "data": {
      "text/plain": "                                         SDC  critical_SDC  DUE  #faults  \\\nboard  family       config   hardening                                     \nAmpere Original ViT BS32-224 Unhardened  547            99   36     1750   \n                             Hardened    626            52   38     1750   \n                    B16-224  Unhardened  545           112   43     1750   \n                             Hardened    632            56   35     1750   \n                    B16-384  Unhardened  486           133   45     1750   \n                             Hardened    552            61   35     1750   \n                    L14-224  Unhardened  428           101   25     1750   \n                             Hardened    550            31   31     1750   \n                    H14-224  Unhardened  436           106   37     1750   \n                             Hardened    526            29   32     1750   \n       EVA2         B14-448  Unhardened  342           226   35     1750   \n                             Hardened    546            21   40     1750   \n                    L14-448  Unhardened  274           238   59     1750   \n                             Hardened    472            37   44     1750   \n       SwinV2       B256     Unhardened  516            48   53     1750   \n                             Hardened    544            48   50     1750   \n                    B384     Unhardened  415            28   65     1750   \n                             Hardened    403            28   62     1750   \n                    L256     Unhardened  514            48   49     1750   \n                             Hardened    503            23   51     1750   \n       MaxViT       L384     Unhardened  255           277   42     1750   \n                             Hardened    379           149   50     1750   \n                    L512     Unhardened  273           263   50     1750   \n                             Hardened    407           143   35     1750   \nPascal Original ViT BS32-224 Unhardened  625           136   30     1750   \n                             Hardened    738            62   40     1750   \n                    B16-224  Unhardened  616           130   34     1750   \n                             Hardened    645            57   45     1750   \n                    B16-384  Unhardened  534           159   26     1750   \n                             Hardened    627            62   35     1750   \n                    L14-224  Unhardened  511           107   22     1750   \n                             Hardened    584            39   26     1750   \n                    H14-224  Unhardened  482           110   22     1750   \n                             Hardened    581            30   13     1750   \n       EVA2         B14-448  Unhardened  321           275   48     1750   \n                             Hardened    546            33   50     1750   \n                    L14-448  Unhardened  298           266   35     1750   \n                             Hardened    523            25   31     1750   \n       SwinV2       B256     Unhardened  599            44   84     1750   \n                             Hardened    585            41   69     1750   \n                    B384     Unhardened  428            46   73     1750   \n                             Hardened    474            30   59     1750   \n                    L256     Unhardened  567            38   49     1750   \n                             Hardened    609            31   67     1750   \n       MaxViT       L384     Unhardened  128           278   65     1750   \n                             Hardened    309           143   44     1750   \n                    L512     Unhardened  136           306   44     1750   \n                             Hardened    304           149   60     1750   \n\n                                         PVF Tolerable SDC  PVF Critical SDC  \\\nboard  family       config   hardening                                         \nAmpere Original ViT BS32-224 Unhardened           0.312571          0.056571   \n                             Hardened             0.357714          0.029714   \n                    B16-224  Unhardened           0.311429          0.064000   \n                             Hardened             0.361143          0.032000   \n                    B16-384  Unhardened           0.277714          0.076000   \n                             Hardened             0.315429          0.034857   \n                    L14-224  Unhardened           0.244571          0.057714   \n                             Hardened             0.314286          0.017714   \n                    H14-224  Unhardened           0.249143          0.060571   \n                             Hardened             0.300571          0.016571   \n       EVA2         B14-448  Unhardened           0.195429          0.129143   \n                             Hardened             0.312000          0.012000   \n                    L14-448  Unhardened           0.156571          0.136000   \n                             Hardened             0.269714          0.021143   \n       SwinV2       B256     Unhardened           0.294857          0.027429   \n                             Hardened             0.310857          0.027429   \n                    B384     Unhardened           0.237143          0.016000   \n                             Hardened             0.230286          0.016000   \n                    L256     Unhardened           0.293714          0.027429   \n                             Hardened             0.287429          0.013143   \n       MaxViT       L384     Unhardened           0.145714          0.158286   \n                             Hardened             0.216571          0.085143   \n                    L512     Unhardened           0.156000          0.150286   \n                             Hardened             0.232571          0.081714   \nPascal Original ViT BS32-224 Unhardened           0.357143          0.077714   \n                             Hardened             0.421714          0.035429   \n                    B16-224  Unhardened           0.352000          0.074286   \n                             Hardened             0.368571          0.032571   \n                    B16-384  Unhardened           0.305143          0.090857   \n                             Hardened             0.358286          0.035429   \n                    L14-224  Unhardened           0.292000          0.061143   \n                             Hardened             0.333714          0.022286   \n                    H14-224  Unhardened           0.275429          0.062857   \n                             Hardened             0.332000          0.017143   \n       EVA2         B14-448  Unhardened           0.183429          0.157143   \n                             Hardened             0.312000          0.018857   \n                    L14-448  Unhardened           0.170286          0.152000   \n                             Hardened             0.298857          0.014286   \n       SwinV2       B256     Unhardened           0.342286          0.025143   \n                             Hardened             0.334286          0.023429   \n                    B384     Unhardened           0.244571          0.026286   \n                             Hardened             0.270857          0.017143   \n                    L256     Unhardened           0.324000          0.021714   \n                             Hardened             0.348000          0.017714   \n       MaxViT       L384     Unhardened           0.073143          0.158857   \n                             Hardened             0.176571          0.081714   \n                    L512     Unhardened           0.077714          0.174857   \n                             Hardened             0.173714          0.085143   \n\n                                          PVF DUE  \nboard  family       config   hardening             \nAmpere Original ViT BS32-224 Unhardened  0.020571  \n                             Hardened    0.021714  \n                    B16-224  Unhardened  0.024571  \n                             Hardened    0.020000  \n                    B16-384  Unhardened  0.025714  \n                             Hardened    0.020000  \n                    L14-224  Unhardened  0.014286  \n                             Hardened    0.017714  \n                    H14-224  Unhardened  0.021143  \n                             Hardened    0.018286  \n       EVA2         B14-448  Unhardened  0.020000  \n                             Hardened    0.022857  \n                    L14-448  Unhardened  0.033714  \n                             Hardened    0.025143  \n       SwinV2       B256     Unhardened  0.030286  \n                             Hardened    0.028571  \n                    B384     Unhardened  0.037143  \n                             Hardened    0.035429  \n                    L256     Unhardened  0.028000  \n                             Hardened    0.029143  \n       MaxViT       L384     Unhardened  0.024000  \n                             Hardened    0.028571  \n                    L512     Unhardened  0.028571  \n                             Hardened    0.020000  \nPascal Original ViT BS32-224 Unhardened  0.017143  \n                             Hardened    0.022857  \n                    B16-224  Unhardened  0.019429  \n                             Hardened    0.025714  \n                    B16-384  Unhardened  0.014857  \n                             Hardened    0.020000  \n                    L14-224  Unhardened  0.012571  \n                             Hardened    0.014857  \n                    H14-224  Unhardened  0.012571  \n                             Hardened    0.007429  \n       EVA2         B14-448  Unhardened  0.027429  \n                             Hardened    0.028571  \n                    L14-448  Unhardened  0.020000  \n                             Hardened    0.017714  \n       SwinV2       B256     Unhardened  0.048000  \n                             Hardened    0.039429  \n                    B384     Unhardened  0.041714  \n                             Hardened    0.033714  \n                    L256     Unhardened  0.028000  \n                             Hardened    0.038286  \n       MaxViT       L384     Unhardened  0.037143  \n                             Hardened    0.025143  \n                    L512     Unhardened  0.025143  \n                             Hardened    0.034286  ",
      "text/html": "<div>\n<style scoped>\n    .dataframe tbody tr th:only-of-type {\n        vertical-align: middle;\n    }\n\n    .dataframe tbody tr th {\n        vertical-align: top;\n    }\n\n    .dataframe thead th {\n        text-align: right;\n    }\n</style>\n<table border=\"1\" class=\"dataframe\">\n  <thead>\n    <tr style=\"text-align: right;\">\n      <th></th>\n      <th></th>\n      <th></th>\n      <th></th>\n      <th>SDC</th>\n      <th>critical_SDC</th>\n      <th>DUE</th>\n      <th>#faults</th>\n      <th>PVF Tolerable SDC</th>\n      <th>PVF Critical SDC</th>\n      <th>PVF DUE</th>\n    </tr>\n    <tr>\n      <th>board</th>\n      <th>family</th>\n      <th>config</th>\n      <th>hardening</th>\n      <th></th>\n      <th></th>\n      <th></th>\n      <th></th>\n      <th></th>\n      <th></th>\n      <th></th>\n    </tr>\n  </thead>\n  <tbody>\n    <tr>\n      <th rowspan=\"24\" valign=\"top\">Ampere</th>\n      <th rowspan=\"10\" valign=\"top\">Original ViT</th>\n      <th rowspan=\"2\" valign=\"top\">BS32-224</th>\n      <th>Unhardened</th>\n      <td>547</td>\n      <td>99</td>\n      <td>36</td>\n      <td>1750</td>\n      <td>0.312571</td>\n      <td>0.056571</td>\n      <td>0.020571</td>\n    </tr>\n    <tr>\n      <th>Hardened</th>\n      <td>626</td>\n      <td>52</td>\n      <td>38</td>\n      <td>1750</td>\n      <td>0.357714</td>\n      <td>0.029714</td>\n      <td>0.021714</td>\n    </tr>\n    <tr>\n      <th rowspan=\"2\" valign=\"top\">B16-224</th>\n      <th>Unhardened</th>\n      <td>545</td>\n      <td>112</td>\n      <td>43</td>\n      <td>1750</td>\n      <td>0.311429</td>\n      <td>0.064000</td>\n      <td>0.024571</td>\n    </tr>\n    <tr>\n      <th>Hardened</th>\n      <td>632</td>\n      <td>56</td>\n      <td>35</td>\n      <td>1750</td>\n      <td>0.361143</td>\n      <td>0.032000</td>\n      <td>0.020000</td>\n    </tr>\n    <tr>\n      <th rowspan=\"2\" valign=\"top\">B16-384</th>\n      <th>Unhardened</th>\n      <td>486</td>\n      <td>133</td>\n      <td>45</td>\n      <td>1750</td>\n      <td>0.277714</td>\n      <td>0.076000</td>\n      <td>0.025714</td>\n    </tr>\n    <tr>\n      <th>Hardened</th>\n      <td>552</td>\n      <td>61</td>\n      <td>35</td>\n      <td>1750</td>\n      <td>0.315429</td>\n      <td>0.034857</td>\n      <td>0.020000</td>\n    </tr>\n    <tr>\n      <th rowspan=\"2\" valign=\"top\">L14-224</th>\n      <th>Unhardened</th>\n      <td>428</td>\n      <td>101</td>\n      <td>25</td>\n      <td>1750</td>\n      <td>0.244571</td>\n      <td>0.057714</td>\n      <td>0.014286</td>\n    </tr>\n    <tr>\n      <th>Hardened</th>\n      <td>550</td>\n      <td>31</td>\n      <td>31</td>\n      <td>1750</td>\n      <td>0.314286</td>\n      <td>0.017714</td>\n      <td>0.017714</td>\n    </tr>\n    <tr>\n      <th rowspan=\"2\" valign=\"top\">H14-224</th>\n      <th>Unhardened</th>\n      <td>436</td>\n      <td>106</td>\n      <td>37</td>\n      <td>1750</td>\n      <td>0.249143</td>\n      <td>0.060571</td>\n      <td>0.021143</td>\n    </tr>\n    <tr>\n      <th>Hardened</th>\n      <td>526</td>\n      <td>29</td>\n      <td>32</td>\n      <td>1750</td>\n      <td>0.300571</td>\n      <td>0.016571</td>\n      <td>0.018286</td>\n    </tr>\n    <tr>\n      <th rowspan=\"4\" valign=\"top\">EVA2</th>\n      <th rowspan=\"2\" valign=\"top\">B14-448</th>\n      <th>Unhardened</th>\n      <td>342</td>\n      <td>226</td>\n      <td>35</td>\n      <td>1750</td>\n      <td>0.195429</td>\n      <td>0.129143</td>\n      <td>0.020000</td>\n    </tr>\n    <tr>\n      <th>Hardened</th>\n      <td>546</td>\n      <td>21</td>\n      <td>40</td>\n      <td>1750</td>\n      <td>0.312000</td>\n      <td>0.012000</td>\n      <td>0.022857</td>\n    </tr>\n    <tr>\n      <th rowspan=\"2\" valign=\"top\">L14-448</th>\n      <th>Unhardened</th>\n      <td>274</td>\n      <td>238</td>\n      <td>59</td>\n      <td>1750</td>\n      <td>0.156571</td>\n      <td>0.136000</td>\n      <td>0.033714</td>\n    </tr>\n    <tr>\n      <th>Hardened</th>\n      <td>472</td>\n      <td>37</td>\n      <td>44</td>\n      <td>1750</td>\n      <td>0.269714</td>\n      <td>0.021143</td>\n      <td>0.025143</td>\n    </tr>\n    <tr>\n      <th rowspan=\"6\" valign=\"top\">SwinV2</th>\n      <th rowspan=\"2\" valign=\"top\">B256</th>\n      <th>Unhardened</th>\n      <td>516</td>\n      <td>48</td>\n      <td>53</td>\n      <td>1750</td>\n      <td>0.294857</td>\n      <td>0.027429</td>\n      <td>0.030286</td>\n    </tr>\n    <tr>\n      <th>Hardened</th>\n      <td>544</td>\n      <td>48</td>\n      <td>50</td>\n      <td>1750</td>\n      <td>0.310857</td>\n      <td>0.027429</td>\n      <td>0.028571</td>\n    </tr>\n    <tr>\n      <th rowspan=\"2\" valign=\"top\">B384</th>\n      <th>Unhardened</th>\n      <td>415</td>\n      <td>28</td>\n      <td>65</td>\n      <td>1750</td>\n      <td>0.237143</td>\n      <td>0.016000</td>\n      <td>0.037143</td>\n    </tr>\n    <tr>\n      <th>Hardened</th>\n      <td>403</td>\n      <td>28</td>\n      <td>62</td>\n      <td>1750</td>\n      <td>0.230286</td>\n      <td>0.016000</td>\n      <td>0.035429</td>\n    </tr>\n    <tr>\n      <th rowspan=\"2\" valign=\"top\">L256</th>\n      <th>Unhardened</th>\n      <td>514</td>\n      <td>48</td>\n      <td>49</td>\n      <td>1750</td>\n      <td>0.293714</td>\n      <td>0.027429</td>\n      <td>0.028000</td>\n    </tr>\n    <tr>\n      <th>Hardened</th>\n      <td>503</td>\n      <td>23</td>\n      <td>51</td>\n      <td>1750</td>\n      <td>0.287429</td>\n      <td>0.013143</td>\n      <td>0.029143</td>\n    </tr>\n    <tr>\n      <th rowspan=\"4\" valign=\"top\">MaxViT</th>\n      <th rowspan=\"2\" valign=\"top\">L384</th>\n      <th>Unhardened</th>\n      <td>255</td>\n      <td>277</td>\n      <td>42</td>\n      <td>1750</td>\n      <td>0.145714</td>\n      <td>0.158286</td>\n      <td>0.024000</td>\n    </tr>\n    <tr>\n      <th>Hardened</th>\n      <td>379</td>\n      <td>149</td>\n      <td>50</td>\n      <td>1750</td>\n      <td>0.216571</td>\n      <td>0.085143</td>\n      <td>0.028571</td>\n    </tr>\n    <tr>\n      <th rowspan=\"2\" valign=\"top\">L512</th>\n      <th>Unhardened</th>\n      <td>273</td>\n      <td>263</td>\n      <td>50</td>\n      <td>1750</td>\n      <td>0.156000</td>\n      <td>0.150286</td>\n      <td>0.028571</td>\n    </tr>\n    <tr>\n      <th>Hardened</th>\n      <td>407</td>\n      <td>143</td>\n      <td>35</td>\n      <td>1750</td>\n      <td>0.232571</td>\n      <td>0.081714</td>\n      <td>0.020000</td>\n    </tr>\n    <tr>\n      <th rowspan=\"24\" valign=\"top\">Pascal</th>\n      <th rowspan=\"10\" valign=\"top\">Original ViT</th>\n      <th rowspan=\"2\" valign=\"top\">BS32-224</th>\n      <th>Unhardened</th>\n      <td>625</td>\n      <td>136</td>\n      <td>30</td>\n      <td>1750</td>\n      <td>0.357143</td>\n      <td>0.077714</td>\n      <td>0.017143</td>\n    </tr>\n    <tr>\n      <th>Hardened</th>\n      <td>738</td>\n      <td>62</td>\n      <td>40</td>\n      <td>1750</td>\n      <td>0.421714</td>\n      <td>0.035429</td>\n      <td>0.022857</td>\n    </tr>\n    <tr>\n      <th rowspan=\"2\" valign=\"top\">B16-224</th>\n      <th>Unhardened</th>\n      <td>616</td>\n      <td>130</td>\n      <td>34</td>\n      <td>1750</td>\n      <td>0.352000</td>\n      <td>0.074286</td>\n      <td>0.019429</td>\n    </tr>\n    <tr>\n      <th>Hardened</th>\n      <td>645</td>\n      <td>57</td>\n      <td>45</td>\n      <td>1750</td>\n      <td>0.368571</td>\n      <td>0.032571</td>\n      <td>0.025714</td>\n    </tr>\n    <tr>\n      <th rowspan=\"2\" valign=\"top\">B16-384</th>\n      <th>Unhardened</th>\n      <td>534</td>\n      <td>159</td>\n      <td>26</td>\n      <td>1750</td>\n      <td>0.305143</td>\n      <td>0.090857</td>\n      <td>0.014857</td>\n    </tr>\n    <tr>\n      <th>Hardened</th>\n      <td>627</td>\n      <td>62</td>\n      <td>35</td>\n      <td>1750</td>\n      <td>0.358286</td>\n      <td>0.035429</td>\n      <td>0.020000</td>\n    </tr>\n    <tr>\n      <th rowspan=\"2\" valign=\"top\">L14-224</th>\n      <th>Unhardened</th>\n      <td>511</td>\n      <td>107</td>\n      <td>22</td>\n      <td>1750</td>\n      <td>0.292000</td>\n      <td>0.061143</td>\n      <td>0.012571</td>\n    </tr>\n    <tr>\n      <th>Hardened</th>\n      <td>584</td>\n      <td>39</td>\n      <td>26</td>\n      <td>1750</td>\n      <td>0.333714</td>\n      <td>0.022286</td>\n      <td>0.014857</td>\n    </tr>\n    <tr>\n      <th rowspan=\"2\" valign=\"top\">H14-224</th>\n      <th>Unhardened</th>\n      <td>482</td>\n      <td>110</td>\n      <td>22</td>\n      <td>1750</td>\n      <td>0.275429</td>\n      <td>0.062857</td>\n      <td>0.012571</td>\n    </tr>\n    <tr>\n      <th>Hardened</th>\n      <td>581</td>\n      <td>30</td>\n      <td>13</td>\n      <td>1750</td>\n      <td>0.332000</td>\n      <td>0.017143</td>\n      <td>0.007429</td>\n    </tr>\n    <tr>\n      <th rowspan=\"4\" valign=\"top\">EVA2</th>\n      <th rowspan=\"2\" valign=\"top\">B14-448</th>\n      <th>Unhardened</th>\n      <td>321</td>\n      <td>275</td>\n      <td>48</td>\n      <td>1750</td>\n      <td>0.183429</td>\n      <td>0.157143</td>\n      <td>0.027429</td>\n    </tr>\n    <tr>\n      <th>Hardened</th>\n      <td>546</td>\n      <td>33</td>\n      <td>50</td>\n      <td>1750</td>\n      <td>0.312000</td>\n      <td>0.018857</td>\n      <td>0.028571</td>\n    </tr>\n    <tr>\n      <th rowspan=\"2\" valign=\"top\">L14-448</th>\n      <th>Unhardened</th>\n      <td>298</td>\n      <td>266</td>\n      <td>35</td>\n      <td>1750</td>\n      <td>0.170286</td>\n      <td>0.152000</td>\n      <td>0.020000</td>\n    </tr>\n    <tr>\n      <th>Hardened</th>\n      <td>523</td>\n      <td>25</td>\n      <td>31</td>\n      <td>1750</td>\n      <td>0.298857</td>\n      <td>0.014286</td>\n      <td>0.017714</td>\n    </tr>\n    <tr>\n      <th rowspan=\"6\" valign=\"top\">SwinV2</th>\n      <th rowspan=\"2\" valign=\"top\">B256</th>\n      <th>Unhardened</th>\n      <td>599</td>\n      <td>44</td>\n      <td>84</td>\n      <td>1750</td>\n      <td>0.342286</td>\n      <td>0.025143</td>\n      <td>0.048000</td>\n    </tr>\n    <tr>\n      <th>Hardened</th>\n      <td>585</td>\n      <td>41</td>\n      <td>69</td>\n      <td>1750</td>\n      <td>0.334286</td>\n      <td>0.023429</td>\n      <td>0.039429</td>\n    </tr>\n    <tr>\n      <th rowspan=\"2\" valign=\"top\">B384</th>\n      <th>Unhardened</th>\n      <td>428</td>\n      <td>46</td>\n      <td>73</td>\n      <td>1750</td>\n      <td>0.244571</td>\n      <td>0.026286</td>\n      <td>0.041714</td>\n    </tr>\n    <tr>\n      <th>Hardened</th>\n      <td>474</td>\n      <td>30</td>\n      <td>59</td>\n      <td>1750</td>\n      <td>0.270857</td>\n      <td>0.017143</td>\n      <td>0.033714</td>\n    </tr>\n    <tr>\n      <th rowspan=\"2\" valign=\"top\">L256</th>\n      <th>Unhardened</th>\n      <td>567</td>\n      <td>38</td>\n      <td>49</td>\n      <td>1750</td>\n      <td>0.324000</td>\n      <td>0.021714</td>\n      <td>0.028000</td>\n    </tr>\n    <tr>\n      <th>Hardened</th>\n      <td>609</td>\n      <td>31</td>\n      <td>67</td>\n      <td>1750</td>\n      <td>0.348000</td>\n      <td>0.017714</td>\n      <td>0.038286</td>\n    </tr>\n    <tr>\n      <th rowspan=\"4\" valign=\"top\">MaxViT</th>\n      <th rowspan=\"2\" valign=\"top\">L384</th>\n      <th>Unhardened</th>\n      <td>128</td>\n      <td>278</td>\n      <td>65</td>\n      <td>1750</td>\n      <td>0.073143</td>\n      <td>0.158857</td>\n      <td>0.037143</td>\n    </tr>\n    <tr>\n      <th>Hardened</th>\n      <td>309</td>\n      <td>143</td>\n      <td>44</td>\n      <td>1750</td>\n      <td>0.176571</td>\n      <td>0.081714</td>\n      <td>0.025143</td>\n    </tr>\n    <tr>\n      <th rowspan=\"2\" valign=\"top\">L512</th>\n      <th>Unhardened</th>\n      <td>136</td>\n      <td>306</td>\n      <td>44</td>\n      <td>1750</td>\n      <td>0.077714</td>\n      <td>0.174857</td>\n      <td>0.025143</td>\n    </tr>\n    <tr>\n      <th>Hardened</th>\n      <td>304</td>\n      <td>149</td>\n      <td>60</td>\n      <td>1750</td>\n      <td>0.173714</td>\n      <td>0.085143</td>\n      <td>0.034286</td>\n    </tr>\n  </tbody>\n</table>\n</div>"
     },
     "execution_count": 37,
     "metadata": {},
     "output_type": "execute_result"
    }
   ],
   "source": [
    "model_grouped"
   ],
   "metadata": {
    "collapsed": false,
    "ExecuteTime": {
     "end_time": "2023-09-17T16:18:05.068322841Z",
     "start_time": "2023-09-17T16:18:05.019959420Z"
    }
   },
   "id": "8eb185b3ea153ee5"
  },
  {
   "cell_type": "code",
   "execution_count": 19,
   "outputs": [],
   "source": [],
   "metadata": {
    "collapsed": false,
    "ExecuteTime": {
     "end_time": "2023-09-17T16:17:35.992099257Z",
     "start_time": "2023-09-17T16:17:35.552860135Z"
    }
   },
   "id": "78843760094e6426"
  },
  {
   "cell_type": "code",
   "execution_count": 20,
   "outputs": [
    {
     "data": {
      "text/plain": "                               PVF DUE                                \\\n                                 count      mean       std       min   \nboard  family       hardening                                          \nAmpere Original ViT Unhardened     5.0  0.021257  0.004470  0.014286   \n                    Hardened       5.0  0.019543  0.001586  0.017714   \n       EVA2         Unhardened     2.0  0.026857  0.009697  0.020000   \n                    Hardened       2.0  0.024000  0.001616  0.022857   \n       SwinV2       Unhardened     3.0  0.031810  0.004758  0.028000   \n                    Hardened       3.0  0.031048  0.003805  0.028571   \n       MaxViT       Unhardened     2.0  0.026286  0.003232  0.024000   \n                    Hardened       2.0  0.024286  0.006061  0.020000   \nPascal Original ViT Unhardened     5.0  0.015314  0.002980  0.012571   \n                    Hardened       5.0  0.018171  0.007221  0.007429   \n       EVA2         Unhardened     2.0  0.023714  0.005253  0.020000   \n                    Hardened       2.0  0.023143  0.007677  0.017714   \n       SwinV2       Unhardened     3.0  0.039238  0.010227  0.028000   \n                    Hardened       3.0  0.037143  0.003024  0.033714   \n       MaxViT       Unhardened     2.0  0.031143  0.008485  0.025143   \n                    Hardened       2.0  0.029714  0.006465  0.025143   \n\n                                                                        \n                                     25%       50%       75%       max  \nboard  family       hardening                                           \nAmpere Original ViT Unhardened  0.020571  0.021143  0.024571  0.025714  \n                    Hardened    0.018286  0.020000  0.020000  0.021714  \n       EVA2         Unhardened  0.023429  0.026857  0.030286  0.033714  \n                    Hardened    0.023429  0.024000  0.024571  0.025143  \n       SwinV2       Unhardened  0.029143  0.030286  0.033714  0.037143  \n                    Hardened    0.028857  0.029143  0.032286  0.035429  \n       MaxViT       Unhardened  0.025143  0.026286  0.027429  0.028571  \n                    Hardened    0.022143  0.024286  0.026429  0.028571  \nPascal Original ViT Unhardened  0.012571  0.014857  0.017143  0.019429  \n                    Hardened    0.014857  0.020000  0.022857  0.025714  \n       EVA2         Unhardened  0.021857  0.023714  0.025571  0.027429  \n                    Hardened    0.020429  0.023143  0.025857  0.028571  \n       SwinV2       Unhardened  0.034857  0.041714  0.044857  0.048000  \n                    Hardened    0.036000  0.038286  0.038857  0.039429  \n       MaxViT       Unhardened  0.028143  0.031143  0.034143  0.037143  \n                    Hardened    0.027429  0.029714  0.032000  0.034286  ",
      "text/html": "<div>\n<style scoped>\n    .dataframe tbody tr th:only-of-type {\n        vertical-align: middle;\n    }\n\n    .dataframe tbody tr th {\n        vertical-align: top;\n    }\n\n    .dataframe thead tr th {\n        text-align: left;\n    }\n\n    .dataframe thead tr:last-of-type th {\n        text-align: right;\n    }\n</style>\n<table border=\"1\" class=\"dataframe\">\n  <thead>\n    <tr>\n      <th></th>\n      <th></th>\n      <th></th>\n      <th colspan=\"8\" halign=\"left\">PVF DUE</th>\n    </tr>\n    <tr>\n      <th></th>\n      <th></th>\n      <th></th>\n      <th>count</th>\n      <th>mean</th>\n      <th>std</th>\n      <th>min</th>\n      <th>25%</th>\n      <th>50%</th>\n      <th>75%</th>\n      <th>max</th>\n    </tr>\n    <tr>\n      <th>board</th>\n      <th>family</th>\n      <th>hardening</th>\n      <th></th>\n      <th></th>\n      <th></th>\n      <th></th>\n      <th></th>\n      <th></th>\n      <th></th>\n      <th></th>\n    </tr>\n  </thead>\n  <tbody>\n    <tr>\n      <th rowspan=\"8\" valign=\"top\">Ampere</th>\n      <th rowspan=\"2\" valign=\"top\">Original ViT</th>\n      <th>Unhardened</th>\n      <td>5.0</td>\n      <td>0.021257</td>\n      <td>0.004470</td>\n      <td>0.014286</td>\n      <td>0.020571</td>\n      <td>0.021143</td>\n      <td>0.024571</td>\n      <td>0.025714</td>\n    </tr>\n    <tr>\n      <th>Hardened</th>\n      <td>5.0</td>\n      <td>0.019543</td>\n      <td>0.001586</td>\n      <td>0.017714</td>\n      <td>0.018286</td>\n      <td>0.020000</td>\n      <td>0.020000</td>\n      <td>0.021714</td>\n    </tr>\n    <tr>\n      <th rowspan=\"2\" valign=\"top\">EVA2</th>\n      <th>Unhardened</th>\n      <td>2.0</td>\n      <td>0.026857</td>\n      <td>0.009697</td>\n      <td>0.020000</td>\n      <td>0.023429</td>\n      <td>0.026857</td>\n      <td>0.030286</td>\n      <td>0.033714</td>\n    </tr>\n    <tr>\n      <th>Hardened</th>\n      <td>2.0</td>\n      <td>0.024000</td>\n      <td>0.001616</td>\n      <td>0.022857</td>\n      <td>0.023429</td>\n      <td>0.024000</td>\n      <td>0.024571</td>\n      <td>0.025143</td>\n    </tr>\n    <tr>\n      <th rowspan=\"2\" valign=\"top\">SwinV2</th>\n      <th>Unhardened</th>\n      <td>3.0</td>\n      <td>0.031810</td>\n      <td>0.004758</td>\n      <td>0.028000</td>\n      <td>0.029143</td>\n      <td>0.030286</td>\n      <td>0.033714</td>\n      <td>0.037143</td>\n    </tr>\n    <tr>\n      <th>Hardened</th>\n      <td>3.0</td>\n      <td>0.031048</td>\n      <td>0.003805</td>\n      <td>0.028571</td>\n      <td>0.028857</td>\n      <td>0.029143</td>\n      <td>0.032286</td>\n      <td>0.035429</td>\n    </tr>\n    <tr>\n      <th rowspan=\"2\" valign=\"top\">MaxViT</th>\n      <th>Unhardened</th>\n      <td>2.0</td>\n      <td>0.026286</td>\n      <td>0.003232</td>\n      <td>0.024000</td>\n      <td>0.025143</td>\n      <td>0.026286</td>\n      <td>0.027429</td>\n      <td>0.028571</td>\n    </tr>\n    <tr>\n      <th>Hardened</th>\n      <td>2.0</td>\n      <td>0.024286</td>\n      <td>0.006061</td>\n      <td>0.020000</td>\n      <td>0.022143</td>\n      <td>0.024286</td>\n      <td>0.026429</td>\n      <td>0.028571</td>\n    </tr>\n    <tr>\n      <th rowspan=\"8\" valign=\"top\">Pascal</th>\n      <th rowspan=\"2\" valign=\"top\">Original ViT</th>\n      <th>Unhardened</th>\n      <td>5.0</td>\n      <td>0.015314</td>\n      <td>0.002980</td>\n      <td>0.012571</td>\n      <td>0.012571</td>\n      <td>0.014857</td>\n      <td>0.017143</td>\n      <td>0.019429</td>\n    </tr>\n    <tr>\n      <th>Hardened</th>\n      <td>5.0</td>\n      <td>0.018171</td>\n      <td>0.007221</td>\n      <td>0.007429</td>\n      <td>0.014857</td>\n      <td>0.020000</td>\n      <td>0.022857</td>\n      <td>0.025714</td>\n    </tr>\n    <tr>\n      <th rowspan=\"2\" valign=\"top\">EVA2</th>\n      <th>Unhardened</th>\n      <td>2.0</td>\n      <td>0.023714</td>\n      <td>0.005253</td>\n      <td>0.020000</td>\n      <td>0.021857</td>\n      <td>0.023714</td>\n      <td>0.025571</td>\n      <td>0.027429</td>\n    </tr>\n    <tr>\n      <th>Hardened</th>\n      <td>2.0</td>\n      <td>0.023143</td>\n      <td>0.007677</td>\n      <td>0.017714</td>\n      <td>0.020429</td>\n      <td>0.023143</td>\n      <td>0.025857</td>\n      <td>0.028571</td>\n    </tr>\n    <tr>\n      <th rowspan=\"2\" valign=\"top\">SwinV2</th>\n      <th>Unhardened</th>\n      <td>3.0</td>\n      <td>0.039238</td>\n      <td>0.010227</td>\n      <td>0.028000</td>\n      <td>0.034857</td>\n      <td>0.041714</td>\n      <td>0.044857</td>\n      <td>0.048000</td>\n    </tr>\n    <tr>\n      <th>Hardened</th>\n      <td>3.0</td>\n      <td>0.037143</td>\n      <td>0.003024</td>\n      <td>0.033714</td>\n      <td>0.036000</td>\n      <td>0.038286</td>\n      <td>0.038857</td>\n      <td>0.039429</td>\n    </tr>\n    <tr>\n      <th rowspan=\"2\" valign=\"top\">MaxViT</th>\n      <th>Unhardened</th>\n      <td>2.0</td>\n      <td>0.031143</td>\n      <td>0.008485</td>\n      <td>0.025143</td>\n      <td>0.028143</td>\n      <td>0.031143</td>\n      <td>0.034143</td>\n      <td>0.037143</td>\n    </tr>\n    <tr>\n      <th>Hardened</th>\n      <td>2.0</td>\n      <td>0.029714</td>\n      <td>0.006465</td>\n      <td>0.025143</td>\n      <td>0.027429</td>\n      <td>0.029714</td>\n      <td>0.032000</td>\n      <td>0.034286</td>\n    </tr>\n  </tbody>\n</table>\n</div>"
     },
     "execution_count": 20,
     "metadata": {},
     "output_type": "execute_result"
    }
   ],
   "source": [
    "model_grouped[[\"PVF DUE\"]].groupby([\"board\", \"family\", \"hardening\"]).describe()"
   ],
   "metadata": {
    "collapsed": false,
    "ExecuteTime": {
     "end_time": "2023-09-17T16:17:35.993928129Z",
     "start_time": "2023-09-17T16:17:35.553018264Z"
    }
   },
   "id": "c6670a62a4ca9b45"
  },
  {
   "cell_type": "code",
   "execution_count": 45,
   "outputs": [
    {
     "data": {
      "text/plain": "(2.5500000000000007, 2.480952380952381)"
     },
     "execution_count": 45,
     "metadata": {},
     "output_type": "execute_result"
    }
   ],
   "source": [
    "model_grouped.loc[pd.IndexSlice[:, : , :, \"Unhardened\"], \"PVF DUE\"].mean() * 100, model_grouped.loc[pd.IndexSlice[:, : , :, \"Hardened\"], \"PVF DUE\"].mean() * 100"
   ],
   "metadata": {
    "collapsed": false,
    "ExecuteTime": {
     "end_time": "2023-09-17T16:19:59.643949347Z",
     "start_time": "2023-09-17T16:19:59.617971830Z"
    }
   },
   "id": "ca9af84209421f72"
  },
  {
   "cell_type": "code",
   "execution_count": 22,
   "outputs": [],
   "source": [
    "crit_hard = model_grouped.loc[pd.IndexSlice[:, :, :, \"Hardened\"], \"critical_SDC\"].droplevel(\"hardening\")\n",
    "crit_unhd = model_grouped.loc[pd.IndexSlice[:, :, :, \"Unhardened\"], \"critical_SDC\"].droplevel(\"hardening\")"
   ],
   "metadata": {
    "collapsed": false,
    "ExecuteTime": {
     "end_time": "2023-09-17T16:17:36.003827494Z",
     "start_time": "2023-09-17T16:17:35.585716491Z"
    }
   },
   "id": "960be945e8adfcc4"
  },
  {
   "cell_type": "code",
   "execution_count": 23,
   "outputs": [
    {
     "data": {
      "text/plain": "SDC                   546.000000\ncritical_SDC           21.000000\nDUE                    40.000000\n#faults              1750.000000\nPVF Tolerable SDC       0.312000\nPVF Critical SDC        0.012000\nPVF DUE                 0.022857\nName: (Ampere, EVA2, B14-448, Hardened), dtype: float64"
     },
     "execution_count": 23,
     "metadata": {},
     "output_type": "execute_result"
    }
   ],
   "source": [
    "model_grouped.loc[model_grouped.loc[pd.IndexSlice[:, :, :,\"Hardened\"], \"PVF Critical SDC\"].idxmin()]\n"
   ],
   "metadata": {
    "collapsed": false,
    "ExecuteTime": {
     "end_time": "2023-09-17T16:17:36.004338781Z",
     "start_time": "2023-09-17T16:17:35.621812953Z"
    }
   },
   "id": "f7c9cd27de17564d"
  },
  {
   "cell_type": "code",
   "execution_count": 24,
   "outputs": [
    {
     "data": {
      "text/plain": "SDC                   342.000000\ncritical_SDC          226.000000\nDUE                    35.000000\n#faults              1750.000000\nPVF Tolerable SDC       0.195429\nPVF Critical SDC        0.129143\nPVF DUE                 0.020000\nName: (Ampere, EVA2, B14-448, Unhardened), dtype: float64"
     },
     "execution_count": 24,
     "metadata": {},
     "output_type": "execute_result"
    }
   ],
   "source": [
    "model_grouped.loc[(\"Ampere\", \"EVA2\", \"B14-448\", \"Unhardened\")]"
   ],
   "metadata": {
    "collapsed": false,
    "ExecuteTime": {
     "end_time": "2023-09-17T16:17:36.005749590Z",
     "start_time": "2023-09-17T16:17:35.622117879Z"
    }
   },
   "id": "44a914cb409e9688"
  },
  {
   "cell_type": "code",
   "execution_count": 25,
   "outputs": [
    {
     "data": {
      "text/plain": "10.761916666666668"
     },
     "execution_count": 25,
     "metadata": {},
     "output_type": "execute_result"
    }
   ],
   "source": [
    "0.129143/0.012000"
   ],
   "metadata": {
    "collapsed": false,
    "ExecuteTime": {
     "end_time": "2023-09-17T16:17:36.006168107Z",
     "start_time": "2023-09-17T16:17:35.651647889Z"
    }
   },
   "id": "fed0798788c0f7f8"
  },
  {
   "cell_type": "code",
   "execution_count": 26,
   "outputs": [],
   "source": [
    "red = crit_unhd / crit_hard"
   ],
   "metadata": {
    "collapsed": false,
    "ExecuteTime": {
     "end_time": "2023-09-17T16:17:36.006380616Z",
     "start_time": "2023-09-17T16:17:35.655374861Z"
    }
   },
   "id": "34a91533b9bc7dfd"
  },
  {
   "cell_type": "code",
   "execution_count": 27,
   "outputs": [
    {
     "data": {
      "text/plain": "3.2595558191885208"
     },
     "execution_count": 27,
     "metadata": {},
     "output_type": "execute_result"
    }
   ],
   "source": [
    "red.mean()"
   ],
   "metadata": {
    "collapsed": false,
    "ExecuteTime": {
     "end_time": "2023-09-17T16:17:36.006775464Z",
     "start_time": "2023-09-17T16:17:35.696533601Z"
    }
   },
   "id": "84624cf0e73cd071"
  },
  {
   "cell_type": "code",
   "execution_count": 28,
   "outputs": [
    {
     "data": {
      "text/plain": "board   family        config  \nAmpere  Original ViT  BS32-224     1.903846\n                      B16-224      2.000000\n                      B16-384      2.180328\n                      L14-224      3.258065\n                      H14-224      3.655172\n        EVA2          B14-448     10.761905\n                      L14-448      6.432432\n        SwinV2        B256         1.000000\n                      B384         1.000000\n                      L256         2.086957\n        MaxViT        L384         1.859060\n                      L512         1.839161\nPascal  Original ViT  BS32-224     2.193548\n                      B16-224      2.280702\n                      B16-384      2.564516\n                      L14-224      2.743590\n                      H14-224      3.666667\n        EVA2          B14-448      8.333333\n                      L14-448     10.640000\n        SwinV2        B256         1.073171\n                      B384         1.533333\n                      L256         1.225806\n        MaxViT        L384         1.944056\n                      L512         2.053691\nName: critical_SDC, dtype: float64"
     },
     "execution_count": 28,
     "metadata": {},
     "output_type": "execute_result"
    }
   ],
   "source": [
    "red"
   ],
   "metadata": {
    "collapsed": false,
    "ExecuteTime": {
     "end_time": "2023-09-17T16:17:36.007193951Z",
     "start_time": "2023-09-17T16:17:35.696800297Z"
    }
   },
   "id": "15e5e92a6190de45"
  },
  {
   "cell_type": "code",
   "execution_count": 29,
   "outputs": [],
   "source": [
    "crit_unhd_pct = (crit_unhd / 1750) * 100\n",
    "crit_hard_pct = (crit_hard / 1750) * 100"
   ],
   "metadata": {
    "collapsed": false,
    "ExecuteTime": {
     "end_time": "2023-09-17T16:17:36.007380441Z",
     "start_time": "2023-09-17T16:17:35.740877480Z"
    }
   },
   "id": "8f718a281a8d2cb0"
  },
  {
   "cell_type": "code",
   "execution_count": 30,
   "outputs": [
    {
     "data": {
      "text/plain": "(8.509523809523808, 3.285714285714286)"
     },
     "execution_count": 30,
     "metadata": {},
     "output_type": "execute_result"
    }
   ],
   "source": [
    "crit_unhd_pct.mean(), crit_hard_pct.mean()"
   ],
   "metadata": {
    "collapsed": false,
    "ExecuteTime": {
     "end_time": "2023-09-17T16:17:36.007736378Z",
     "start_time": "2023-09-17T16:17:35.741315721Z"
    }
   },
   "id": "8d1b1767546472d6"
  },
  {
   "cell_type": "code",
   "execution_count": 31,
   "outputs": [],
   "source": [
    "eva_max = (crit_hard / 1750).groupby([\"board\", \"family\"]).mean() * 100"
   ],
   "metadata": {
    "collapsed": false,
    "ExecuteTime": {
     "end_time": "2023-09-17T16:17:36.007990863Z",
     "start_time": "2023-09-17T16:17:35.741591962Z"
    }
   },
   "id": "f587299e886318fb"
  },
  {
   "cell_type": "code",
   "execution_count": 32,
   "outputs": [
    {
     "data": {
      "text/plain": "board   family      \nAmpere  Original ViT    2.617143\n        EVA2            1.657143\n        SwinV2          1.885714\n        MaxViT          8.342857\nPascal  Original ViT    2.857143\n        EVA2            1.657143\n        SwinV2          1.942857\n        MaxViT          8.342857\nName: critical_SDC, dtype: float64"
     },
     "execution_count": 32,
     "metadata": {},
     "output_type": "execute_result"
    }
   ],
   "source": [
    "eva_max"
   ],
   "metadata": {
    "collapsed": false,
    "ExecuteTime": {
     "end_time": "2023-09-17T16:17:36.008366633Z",
     "start_time": "2023-09-17T16:17:35.784557779Z"
    }
   },
   "id": "4ce4897b1274d40a"
  },
  {
   "cell_type": "code",
   "execution_count": 33,
   "outputs": [],
   "source": [
    "eva_max_un = (crit_unhd / 1750).groupby([\"board\", \"family\"]).mean() * 100\n"
   ],
   "metadata": {
    "collapsed": false,
    "ExecuteTime": {
     "end_time": "2023-09-17T16:17:36.008544363Z",
     "start_time": "2023-09-17T16:17:35.784818814Z"
    }
   },
   "id": "9ee75efb854d68e"
  },
  {
   "cell_type": "code",
   "execution_count": 34,
   "outputs": [
    {
     "data": {
      "text/plain": "board   family      \nAmpere  Original ViT     6.297143\n        EVA2            13.257143\n        SwinV2           2.361905\n        MaxViT          15.428571\nPascal  Original ViT     7.337143\n        EVA2            15.457143\n        SwinV2           2.438095\n        MaxViT          16.685714\nName: critical_SDC, dtype: float64"
     },
     "execution_count": 34,
     "metadata": {},
     "output_type": "execute_result"
    }
   ],
   "source": [
    "eva_max_un"
   ],
   "metadata": {
    "collapsed": false,
    "ExecuteTime": {
     "end_time": "2023-09-17T16:17:36.008859403Z",
     "start_time": "2023-09-17T16:17:35.788216873Z"
    }
   },
   "id": "173bbfbc91588832"
  },
  {
   "cell_type": "code",
   "execution_count": 35,
   "outputs": [
    {
     "data": {
      "text/plain": "board   family      \nAmpere  Original ViT    2.406114\n        EVA2            8.000000\n        SwinV2          1.252525\n        MaxViT          1.849315\nPascal  Original ViT    2.568000\n        EVA2            9.327586\n        SwinV2          1.254902\n        MaxViT          2.000000\nName: critical_SDC, dtype: float64"
     },
     "execution_count": 35,
     "metadata": {},
     "output_type": "execute_result"
    }
   ],
   "source": [
    "eva_max_un/eva_max"
   ],
   "metadata": {
    "collapsed": false,
    "ExecuteTime": {
     "end_time": "2023-09-17T16:17:36.009282809Z",
     "start_time": "2023-09-17T16:17:35.798174053Z"
    }
   },
   "id": "347971bc67379c59"
  },
  {
   "cell_type": "code",
   "execution_count": 36,
   "outputs": [
    {
     "data": {
      "text/plain": "board   family      \nAmpere  Original ViT    0.415608\n        EVA2            0.125000\n        SwinV2          0.798387\n        MaxViT          0.540741\nPascal  Original ViT    0.389408\n        EVA2            0.107209\n        SwinV2          0.796875\n        MaxViT          0.500000\nName: critical_SDC, dtype: float64"
     },
     "execution_count": 36,
     "metadata": {},
     "output_type": "execute_result"
    }
   ],
   "source": [
    "eva_max / eva_max_un"
   ],
   "metadata": {
    "collapsed": false,
    "ExecuteTime": {
     "end_time": "2023-09-17T16:17:36.010309291Z",
     "start_time": "2023-09-17T16:17:35.816397554Z"
    }
   },
   "id": "95ab0a2f4d6a211"
  },
  {
   "cell_type": "code",
   "execution_count": 36,
   "outputs": [],
   "source": [],
   "metadata": {
    "collapsed": false,
    "ExecuteTime": {
     "end_time": "2023-09-17T16:17:36.010490721Z",
     "start_time": "2023-09-17T16:17:35.860642579Z"
    }
   },
   "id": "59cffced541eaeff"
  }
 ],
 "metadata": {
  "kernelspec": {
   "display_name": "Python 3",
   "language": "python",
   "name": "python3"
  },
  "language_info": {
   "codemirror_mode": {
    "name": "ipython",
    "version": 2
   },
   "file_extension": ".py",
   "mimetype": "text/x-python",
   "name": "python",
   "nbconvert_exporter": "python",
   "pygments_lexer": "ipython2",
   "version": "2.7.6"
  }
 },
 "nbformat": 4,
 "nbformat_minor": 5
}
