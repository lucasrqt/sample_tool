{
 "cells": [
  {
   "cell_type": "code",
   "execution_count": 7,
   "metadata": {
    "ExecuteTime": {
     "end_time": "2023-08-22T19:36:46.988549455Z",
     "start_time": "2023-08-22T19:36:46.270668233Z"
    }
   },
   "outputs": [],
   "source": [
    "import seaborn as sns\n",
    "import numpy as np\n",
    "import pandas as pd\n",
    "import matplotlib\n",
    "import matplotlib.pyplot as plt\n",
    "import matplotlib.ticker as mtick\n",
    "import matplotlib.lines as mlines\n",
    "import matplotlib.markers as mmarkers\n",
    "\n",
    "matplotlib.rcParams['figure.dpi'] = 400"
   ]
  },
  {
   "cell_type": "code",
   "execution_count": 8,
   "outputs": [],
   "source": [
    "df = pd.read_csv(\"all_failures_database.csv\")"
   ],
   "metadata": {
    "collapsed": false,
    "ExecuteTime": {
     "end_time": "2023-08-22T19:36:46.989938061Z",
     "start_time": "2023-08-22T19:36:46.987132550Z"
    }
   }
  },
  {
   "cell_type": "code",
   "execution_count": 9,
   "outputs": [],
   "source": [
    "grouped = df.groupby([\"board\", \"family\", \"config\", \"bfm\", \"hardening\"]).sum()\n",
    "grouped.loc[pd.IndexSlice[:, :, :, \"FLIP_SINGLE_BIT\", :], \"#faults\"] = 750\n",
    "grouped.loc[pd.IndexSlice[:, :, :, \"RANDOM_VALUE\", :], \"#faults\"] = 750\n",
    "grouped.loc[pd.IndexSlice[:, :, :, \"WARP_RANDOM_VALUE\", :], \"#faults\"] = 250\n",
    "grouped[\"PVF Critical SDC\"] = grouped[\"critical_SDC\"] / grouped[\"#faults\"]\n",
    "average_by_board = grouped[\"PVF Critical SDC\"].reset_index().groupby([\"board\", \"family\", \"bfm\", \"hardening\"]).mean()\n",
    "average_global = grouped[\"PVF Critical SDC\"].reset_index().groupby([\"family\", \"bfm\", \"hardening\"]).mean()\n"
   ],
   "metadata": {
    "collapsed": false,
    "ExecuteTime": {
     "end_time": "2023-08-22T19:36:47.006579561Z",
     "start_time": "2023-08-22T19:36:46.991030288Z"
    }
   }
  },
  {
   "cell_type": "code",
   "execution_count": 10,
   "outputs": [
    {
     "data": {
      "text/plain": "                                                    SDC  critical_SDC  DUE  \\\nboard  family config  bfm               hardening                            \nAmpere EVA    B14-448 FLIP_SINGLE_BIT   Hardened     38             1   13   \n                                        Unhardened   32             9   13   \n                      RANDOM_VALUE      Hardened    313            13   27   \n                                        Unhardened  185           138   21   \n                      WARP_RANDOM_VALUE Hardened    195             7    0   \n...                                                 ...           ...  ...   \nPascal Swin   L256    FLIP_SINGLE_BIT   Unhardened   59             1   19   \n                      RANDOM_VALUE      Hardened    345             9   46   \n                                        Unhardened  316            24   30   \n                      WARP_RANDOM_VALUE Hardened    201            19    0   \n                                        Unhardened  192            13    0   \n\n                                                    #faults  PVF Critical SDC  \nboard  family config  bfm               hardening                              \nAmpere EVA    B14-448 FLIP_SINGLE_BIT   Hardened      750.0          0.001333  \n                                        Unhardened    750.0          0.012000  \n                      RANDOM_VALUE      Hardened      750.0          0.017333  \n                                        Unhardened    750.0          0.184000  \n                      WARP_RANDOM_VALUE Hardened      250.0          0.028000  \n...                                                     ...               ...  \nPascal Swin   L256    FLIP_SINGLE_BIT   Unhardened    750.0          0.001333  \n                      RANDOM_VALUE      Hardened      750.0          0.012000  \n                                        Unhardened    750.0          0.032000  \n                      WARP_RANDOM_VALUE Hardened      250.0          0.076000  \n                                        Unhardened    250.0          0.052000  \n\n[144 rows x 5 columns]",
      "text/html": "<div>\n<style scoped>\n    .dataframe tbody tr th:only-of-type {\n        vertical-align: middle;\n    }\n\n    .dataframe tbody tr th {\n        vertical-align: top;\n    }\n\n    .dataframe thead th {\n        text-align: right;\n    }\n</style>\n<table border=\"1\" class=\"dataframe\">\n  <thead>\n    <tr style=\"text-align: right;\">\n      <th></th>\n      <th></th>\n      <th></th>\n      <th></th>\n      <th></th>\n      <th>SDC</th>\n      <th>critical_SDC</th>\n      <th>DUE</th>\n      <th>#faults</th>\n      <th>PVF Critical SDC</th>\n    </tr>\n    <tr>\n      <th>board</th>\n      <th>family</th>\n      <th>config</th>\n      <th>bfm</th>\n      <th>hardening</th>\n      <th></th>\n      <th></th>\n      <th></th>\n      <th></th>\n      <th></th>\n    </tr>\n  </thead>\n  <tbody>\n    <tr>\n      <th rowspan=\"5\" valign=\"top\">Ampere</th>\n      <th rowspan=\"5\" valign=\"top\">EVA</th>\n      <th rowspan=\"5\" valign=\"top\">B14-448</th>\n      <th rowspan=\"2\" valign=\"top\">FLIP_SINGLE_BIT</th>\n      <th>Hardened</th>\n      <td>38</td>\n      <td>1</td>\n      <td>13</td>\n      <td>750.0</td>\n      <td>0.001333</td>\n    </tr>\n    <tr>\n      <th>Unhardened</th>\n      <td>32</td>\n      <td>9</td>\n      <td>13</td>\n      <td>750.0</td>\n      <td>0.012000</td>\n    </tr>\n    <tr>\n      <th rowspan=\"2\" valign=\"top\">RANDOM_VALUE</th>\n      <th>Hardened</th>\n      <td>313</td>\n      <td>13</td>\n      <td>27</td>\n      <td>750.0</td>\n      <td>0.017333</td>\n    </tr>\n    <tr>\n      <th>Unhardened</th>\n      <td>185</td>\n      <td>138</td>\n      <td>21</td>\n      <td>750.0</td>\n      <td>0.184000</td>\n    </tr>\n    <tr>\n      <th>WARP_RANDOM_VALUE</th>\n      <th>Hardened</th>\n      <td>195</td>\n      <td>7</td>\n      <td>0</td>\n      <td>250.0</td>\n      <td>0.028000</td>\n    </tr>\n    <tr>\n      <th>...</th>\n      <th>...</th>\n      <th>...</th>\n      <th>...</th>\n      <th>...</th>\n      <td>...</td>\n      <td>...</td>\n      <td>...</td>\n      <td>...</td>\n      <td>...</td>\n    </tr>\n    <tr>\n      <th rowspan=\"5\" valign=\"top\">Pascal</th>\n      <th rowspan=\"5\" valign=\"top\">Swin</th>\n      <th rowspan=\"5\" valign=\"top\">L256</th>\n      <th>FLIP_SINGLE_BIT</th>\n      <th>Unhardened</th>\n      <td>59</td>\n      <td>1</td>\n      <td>19</td>\n      <td>750.0</td>\n      <td>0.001333</td>\n    </tr>\n    <tr>\n      <th rowspan=\"2\" valign=\"top\">RANDOM_VALUE</th>\n      <th>Hardened</th>\n      <td>345</td>\n      <td>9</td>\n      <td>46</td>\n      <td>750.0</td>\n      <td>0.012000</td>\n    </tr>\n    <tr>\n      <th>Unhardened</th>\n      <td>316</td>\n      <td>24</td>\n      <td>30</td>\n      <td>750.0</td>\n      <td>0.032000</td>\n    </tr>\n    <tr>\n      <th rowspan=\"2\" valign=\"top\">WARP_RANDOM_VALUE</th>\n      <th>Hardened</th>\n      <td>201</td>\n      <td>19</td>\n      <td>0</td>\n      <td>250.0</td>\n      <td>0.076000</td>\n    </tr>\n    <tr>\n      <th>Unhardened</th>\n      <td>192</td>\n      <td>13</td>\n      <td>0</td>\n      <td>250.0</td>\n      <td>0.052000</td>\n    </tr>\n  </tbody>\n</table>\n<p>144 rows × 5 columns</p>\n</div>"
     },
     "execution_count": 10,
     "metadata": {},
     "output_type": "execute_result"
    }
   ],
   "source": [
    "grouped"
   ],
   "metadata": {
    "collapsed": false,
    "ExecuteTime": {
     "end_time": "2023-08-22T19:36:47.057988454Z",
     "start_time": "2023-08-22T19:36:47.011867415Z"
    }
   }
  },
  {
   "cell_type": "code",
   "execution_count": 11,
   "outputs": [],
   "source": [
    "average_by_board = average_by_board.unstack(\"hardening\").reindex([\"Original ViT\", \"EVA\", \"Swin\", \"MaxViT\"], level=\"family\").reindex([\"FLIP_SINGLE_BIT\", \"RANDOM_VALUE\", \"WARP_RANDOM_VALUE\"], level=\"bfm\")\n",
    "average_global = average_global.unstack(\"hardening\").reindex([\"Original ViT\", \"EVA\", \"Swin\", \"MaxViT\"], level=\"family\").reindex([\"FLIP_SINGLE_BIT\", \"RANDOM_VALUE\", \"WARP_RANDOM_VALUE\"], level=\"bfm\")"
   ],
   "metadata": {
    "collapsed": false,
    "ExecuteTime": {
     "end_time": "2023-08-22T19:36:47.058278596Z",
     "start_time": "2023-08-22T19:36:47.057141453Z"
    }
   }
  },
  {
   "cell_type": "code",
   "execution_count": 12,
   "outputs": [],
   "source": [
    "with pd.ExcelWriter(\"~/git_research/date_2024_vits/data/bfmgraph_tmp.xlsx\") as writer:\n",
    "    average_by_board.to_excel(writer, sheet_name=\"byBoard\")\n",
    "    average_global.to_excel(writer, sheet_name=\"global\")"
   ],
   "metadata": {
    "collapsed": false,
    "ExecuteTime": {
     "end_time": "2023-08-22T19:36:47.059090105Z",
     "start_time": "2023-08-22T19:36:47.057294583Z"
    }
   }
  },
  {
   "cell_type": "code",
   "execution_count": 12,
   "outputs": [],
   "source": [
    "\n"
   ],
   "metadata": {
    "collapsed": false,
    "ExecuteTime": {
     "end_time": "2023-08-22T19:36:47.059255290Z",
     "start_time": "2023-08-22T19:36:47.057382800Z"
    }
   }
  },
  {
   "cell_type": "code",
   "execution_count": 13,
   "outputs": [
    {
     "ename": "NotImplementedError",
     "evalue": "Stop here",
     "output_type": "error",
     "traceback": [
      "\u001B[0;31m---------------------------------------------------------------------------\u001B[0m",
      "\u001B[0;31mNotImplementedError\u001B[0m                       Traceback (most recent call last)",
      "\u001B[0;32m/tmp/ipykernel_23673/3542451825.py\u001B[0m in \u001B[0;36m<module>\u001B[0;34m\u001B[0m\n\u001B[0;32m----> 1\u001B[0;31m \u001B[0;32mraise\u001B[0m \u001B[0mNotImplementedError\u001B[0m\u001B[0;34m(\u001B[0m\u001B[0;34m\"Stop here\"\u001B[0m\u001B[0;34m)\u001B[0m\u001B[0;34m\u001B[0m\u001B[0;34m\u001B[0m\u001B[0m\n\u001B[0m",
      "\u001B[0;31mNotImplementedError\u001B[0m: Stop here"
     ]
    }
   ],
   "source": [
    "raise NotImplementedError(\"Stop here\")"
   ],
   "metadata": {
    "collapsed": false,
    "ExecuteTime": {
     "end_time": "2023-08-22T19:36:47.145218821Z",
     "start_time": "2023-08-22T19:36:47.105058640Z"
    }
   }
  },
  {
   "cell_type": "code",
   "execution_count": null,
   "outputs": [],
   "source": [
    "# plot initialization\n",
    "\n",
    "font_size = 14\n",
    "col_order = [\"Original\", \"EVA\", \"Swin\", \"MaxViT\"]\n"
   ],
   "metadata": {
    "collapsed": false,
    "ExecuteTime": {
     "start_time": "2023-08-22T19:36:47.105311331Z"
    }
   }
  },
  {
   "cell_type": "code",
   "execution_count": null,
   "metadata": {
    "ExecuteTime": {
     "start_time": "2023-08-22T19:36:47.105397623Z"
    }
   },
   "outputs": [],
   "source": [
    "chart = sns.scatterplot(data=bfms, x=\"Family Model\", y=\"Avg. Critical SDC\", style=\"BFM\", hue=\"Type\", palette=\"flare\", s=150,)\n",
    "\n",
    "# avoid collision between points\n",
    "for points in chart.collections:\n",
    "    vertices = points.get_offsets().data\n",
    "    if len(vertices) > 0:\n",
    "        vertices[:, 0] += np.random.uniform(-0.3, 0.3, vertices.shape[0])\n",
    "        points.set_offsets(vertices)\n",
    "\n",
    "# setting axis labels\n",
    "chart.set(xlabel=None)\n",
    "chart.set_ylabel(ylabel=\"Average Critical SDC\", fontsize=font_size)\n",
    "plt.yticks(fontsize=font_size)\n",
    "plt.xticks(fontsize=font_size)\n",
    "\n",
    "# legend management\n",
    "handles, labels = chart.get_legend_handles_labels()\n",
    "handles_type = handles[1:3]\n",
    "handles_bfm = handles[4:]\n",
    "\n",
    "for hd in handles_type:\n",
    "    hd.set_label(\"Hardened\" if \"H.\" == hd.get_label() else \"Unhardened\")\n",
    "\n",
    "bfms_lgd = plt.legend(handles=handles_bfm, loc=\"upper center\", bbox_to_anchor=(.50,1.11), ncols=len(handles_bfm), frameon=False,\n",
    "                      fontsize=font_size, columnspacing=0.01, handletextpad=0.01)\n",
    "for lg_hd in bfms_lgd.legendHandles:\n",
    "    lg_hd._sizes = [100]\n",
    "    \n",
    "type_lgd = plt.legend(handles=handles_type, loc=\"upper center\", bbox_to_anchor=(.50,1.18), ncols=len(handles_type), frameon=False,\n",
    "           fontsize=font_size, columnspacing=0.01, handletextpad=0.01)\n",
    "for lg_hd in type_lgd.legendHandles:\n",
    "    lg_hd._sizes = [100]\n",
    "\n",
    "plt.gca().add_artist(bfms_lgd)\n",
    "\n",
    "plt.gca().yaxis.set_major_formatter(mtick.FuncFormatter(lambda y, _: f'{int(y)}%')) \n",
    "chart.set_xlim(-0.5, 3.5)\n",
    "\n",
    "# plotting lines between the categories\n",
    "plt.axvline(x=.5, color='black', ls=\":\", lw=1.75)\n",
    "plt.axvline(x=1.5, color='black', ls=\":\", lw=1.75)\n",
    "plt.axvline(x=2.5, color='black', ls=\":\", lw=1.75)\n",
    "plt.tight_layout()\n",
    "# saving the plot"
   ]
  },
  {
   "cell_type": "code",
   "execution_count": null,
   "outputs": [],
   "source": [
    "chart = sns.catplot(data=bfms, x=\"BFM\", y=\"Avg. Critical SDC\", hue=\"Type\", col=\"Family Model\", aspect=.4, col_order=col_order, legend=False)\n",
    "\n",
    "# setting axis labels\n",
    "chart.set(xlabel=None)\n",
    "chart.set_titles(col_template='{col_name}')\n",
    "chart.set_ylabels(\"Average Critical SDC\", fontsize=font_size)\n",
    "plt.xlabel(\"\")\n",
    "plt.yticks(fontsize=font_size)\n",
    "plt.gca().yaxis.set_major_formatter(mtick.FuncFormatter(lambda y, _: f'{int(y)}%')) \n",
    "plt.xticks([])\n",
    "\n",
    "\n",
    "plt.tight_layout()\n",
    "plt.savefig(\"./avg_crit_sdc_catplot.pdf\")"
   ],
   "metadata": {
    "collapsed": false,
    "ExecuteTime": {
     "start_time": "2023-08-22T19:36:47.105479683Z"
    }
   }
  },
  {
   "cell_type": "code",
   "execution_count": null,
   "outputs": [],
   "source": [
    "chart = sns.stripplot(data=bfms,  x=\"Family Model\", y=\"Avg. Critical SDC\",  hue=\"Type\", dodge=True, jitter=True)\n",
    "\n",
    "# setting axis labels\n",
    "chart.set(xlabel=None)\n",
    "\n",
    "chart.set_ylabel(\"Average Critical SDC\", fontsize=font_size)\n",
    "plt.xlabel(\"\")\n",
    "plt.yticks(fontsize=font_size)\n",
    "plt.gca().yaxis.set_major_formatter(mtick.FuncFormatter(lambda y, _: f'{int(y)}%')) \n",
    "\n",
    "plt.tight_layout()\n",
    "plt.savefig(\"./avg_crit_sdc_catplot.pdf\")"
   ],
   "metadata": {
    "collapsed": false,
    "ExecuteTime": {
     "start_time": "2023-08-22T19:36:47.105574184Z"
    }
   }
  },
  {
   "cell_type": "code",
   "execution_count": null,
   "outputs": [],
   "source": [],
   "metadata": {
    "collapsed": false,
    "ExecuteTime": {
     "start_time": "2023-08-22T19:36:47.105626070Z"
    }
   }
  },
  {
   "cell_type": "code",
   "execution_count": null,
   "outputs": [],
   "source": [],
   "metadata": {
    "collapsed": false,
    "ExecuteTime": {
     "start_time": "2023-08-22T19:36:47.105716071Z"
    }
   }
  },
  {
   "cell_type": "code",
   "execution_count": null,
   "outputs": [],
   "source": [],
   "metadata": {
    "collapsed": false,
    "ExecuteTime": {
     "start_time": "2023-08-22T19:36:47.105765428Z"
    }
   }
  }
 ],
 "metadata": {
  "kernelspec": {
   "display_name": "Python 3",
   "language": "python",
   "name": "python3"
  },
  "language_info": {
   "codemirror_mode": {
    "name": "ipython",
    "version": 3
   },
   "file_extension": ".py",
   "mimetype": "text/x-python",
   "name": "python",
   "nbconvert_exporter": "python",
   "pygments_lexer": "ipython3",
   "version": "3.9.6"
  },
  "orig_nbformat": 4
 },
 "nbformat": 4,
 "nbformat_minor": 2
}
