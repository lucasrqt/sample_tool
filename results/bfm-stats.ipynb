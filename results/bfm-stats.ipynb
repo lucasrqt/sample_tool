{
 "cells": [
  {
   "cell_type": "code",
   "execution_count": 15,
   "metadata": {
    "ExecuteTime": {
     "end_time": "2023-08-21T15:08:32.147363276Z",
     "start_time": "2023-08-21T15:08:32.103180950Z"
    }
   },
   "outputs": [],
   "source": [
    "import seaborn as sns\n",
    "import numpy as np\n",
    "import pandas as pd\n",
    "import matplotlib\n",
    "import matplotlib.pyplot as plt\n",
    "import matplotlib.ticker as mtick\n",
    "import matplotlib.lines as mlines\n",
    "import matplotlib.markers as mmarkers\n",
    "\n",
    "matplotlib.rcParams['figure.dpi'] = 400"
   ]
  },
  {
   "cell_type": "code",
   "execution_count": 16,
   "outputs": [],
   "source": [
    "df = pd.read_csv(\"all_failures_database.csv\")"
   ],
   "metadata": {
    "collapsed": false,
    "ExecuteTime": {
     "end_time": "2023-08-21T15:08:32.147522937Z",
     "start_time": "2023-08-21T15:08:32.147251263Z"
    }
   }
  },
  {
   "cell_type": "code",
   "execution_count": 36,
   "outputs": [],
   "source": [
    "grouped = df.groupby([\"board\", \"family\", \"config\", \"bfm\", \"hardening\"]).sum()\n",
    "grouped.loc[pd.IndexSlice[:, :, :, \"FLIP_SINGLE_BIT\", :], \"#faults\"] = 750\n",
    "grouped.loc[pd.IndexSlice[:, :, :, \"RANDOM_VALUE\", :], \"#faults\"] = 750\n",
    "grouped.loc[pd.IndexSlice[:, :, :, \"WARP_RANDOM_VALUE\", :], \"#faults\"] = 250\n",
    "grouped[\"PVF Critical SDC\"] = grouped[\"critical_SDC\"] / grouped[\"#faults\"]\n",
    "grouped = grouped[\"PVF Critical SDC\"].reset_index().groupby([\"family\", \"bfm\", \"hardening\"]).mean()"
   ],
   "metadata": {
    "collapsed": false,
    "ExecuteTime": {
     "end_time": "2023-08-21T15:23:02.739269735Z",
     "start_time": "2023-08-21T15:23:02.698694738Z"
    }
   }
  },
  {
   "cell_type": "code",
   "execution_count": 38,
   "outputs": [],
   "source": [
    "bfms = grouped.unstack(\"hardening\")"
   ],
   "metadata": {
    "collapsed": false,
    "ExecuteTime": {
     "end_time": "2023-08-21T15:36:14.411364509Z",
     "start_time": "2023-08-21T15:36:14.370596036Z"
    }
   }
  },
  {
   "cell_type": "code",
   "execution_count": 39,
   "outputs": [
    {
     "data": {
      "text/plain": "                               PVF Critical SDC           \nhardening                              Hardened Unhardened\nfamily       bfm                                          \nEVA          FLIP_SINGLE_BIT           0.002333   0.016333\n             RANDOM_VALUE              0.024667   0.210667\n             WARP_RANDOM_VALUE         0.035000   0.324000\nMaxViT       FLIP_SINGLE_BIT           0.006333   0.017667\n             RANDOM_VALUE              0.100333   0.213000\n             WARP_RANDOM_VALUE         0.264000   0.432000\nOriginal ViT FLIP_SINGLE_BIT           0.002133   0.009867\n             RANDOM_VALUE              0.040533   0.098133\n             WARP_RANDOM_VALUE         0.063600   0.153200\nSwin         FLIP_SINGLE_BIT           0.005111   0.006667\n             RANDOM_VALUE              0.022889   0.030222\n             WARP_RANDOM_VALUE         0.050000   0.057333",
      "text/html": "<div>\n<style scoped>\n    .dataframe tbody tr th:only-of-type {\n        vertical-align: middle;\n    }\n\n    .dataframe tbody tr th {\n        vertical-align: top;\n    }\n\n    .dataframe thead tr th {\n        text-align: left;\n    }\n\n    .dataframe thead tr:last-of-type th {\n        text-align: right;\n    }\n</style>\n<table border=\"1\" class=\"dataframe\">\n  <thead>\n    <tr>\n      <th></th>\n      <th></th>\n      <th colspan=\"2\" halign=\"left\">PVF Critical SDC</th>\n    </tr>\n    <tr>\n      <th></th>\n      <th>hardening</th>\n      <th>Hardened</th>\n      <th>Unhardened</th>\n    </tr>\n    <tr>\n      <th>family</th>\n      <th>bfm</th>\n      <th></th>\n      <th></th>\n    </tr>\n  </thead>\n  <tbody>\n    <tr>\n      <th rowspan=\"3\" valign=\"top\">EVA</th>\n      <th>FLIP_SINGLE_BIT</th>\n      <td>0.002333</td>\n      <td>0.016333</td>\n    </tr>\n    <tr>\n      <th>RANDOM_VALUE</th>\n      <td>0.024667</td>\n      <td>0.210667</td>\n    </tr>\n    <tr>\n      <th>WARP_RANDOM_VALUE</th>\n      <td>0.035000</td>\n      <td>0.324000</td>\n    </tr>\n    <tr>\n      <th rowspan=\"3\" valign=\"top\">MaxViT</th>\n      <th>FLIP_SINGLE_BIT</th>\n      <td>0.006333</td>\n      <td>0.017667</td>\n    </tr>\n    <tr>\n      <th>RANDOM_VALUE</th>\n      <td>0.100333</td>\n      <td>0.213000</td>\n    </tr>\n    <tr>\n      <th>WARP_RANDOM_VALUE</th>\n      <td>0.264000</td>\n      <td>0.432000</td>\n    </tr>\n    <tr>\n      <th rowspan=\"3\" valign=\"top\">Original ViT</th>\n      <th>FLIP_SINGLE_BIT</th>\n      <td>0.002133</td>\n      <td>0.009867</td>\n    </tr>\n    <tr>\n      <th>RANDOM_VALUE</th>\n      <td>0.040533</td>\n      <td>0.098133</td>\n    </tr>\n    <tr>\n      <th>WARP_RANDOM_VALUE</th>\n      <td>0.063600</td>\n      <td>0.153200</td>\n    </tr>\n    <tr>\n      <th rowspan=\"3\" valign=\"top\">Swin</th>\n      <th>FLIP_SINGLE_BIT</th>\n      <td>0.005111</td>\n      <td>0.006667</td>\n    </tr>\n    <tr>\n      <th>RANDOM_VALUE</th>\n      <td>0.022889</td>\n      <td>0.030222</td>\n    </tr>\n    <tr>\n      <th>WARP_RANDOM_VALUE</th>\n      <td>0.050000</td>\n      <td>0.057333</td>\n    </tr>\n  </tbody>\n</table>\n</div>"
     },
     "execution_count": 39,
     "metadata": {},
     "output_type": "execute_result"
    }
   ],
   "source": [
    "bfms"
   ],
   "metadata": {
    "collapsed": false,
    "ExecuteTime": {
     "end_time": "2023-08-21T15:36:14.598165369Z",
     "start_time": "2023-08-21T15:36:14.594185085Z"
    }
   }
  },
  {
   "cell_type": "code",
   "execution_count": 40,
   "outputs": [],
   "source": [
    "# plot initialization\n",
    "\n",
    "font_size = 14\n",
    "col_order = [\"Original\", \"EVA\", \"Swin\", \"MaxViT\"]\n"
   ],
   "metadata": {
    "collapsed": false,
    "ExecuteTime": {
     "end_time": "2023-08-21T15:36:21.394566869Z",
     "start_time": "2023-08-21T15:36:21.390111388Z"
    }
   }
  },
  {
   "cell_type": "code",
   "execution_count": 41,
   "metadata": {
    "ExecuteTime": {
     "end_time": "2023-08-21T15:36:21.849944082Z",
     "start_time": "2023-08-21T15:36:21.844559292Z"
    }
   },
   "outputs": [
    {
     "ename": "ValueError",
     "evalue": "Could not interpret value `Family Model` for parameter `x`",
     "output_type": "error",
     "traceback": [
      "\u001B[0;31m---------------------------------------------------------------------------\u001B[0m",
      "\u001B[0;31mValueError\u001B[0m                                Traceback (most recent call last)",
      "\u001B[0;32m/tmp/ipykernel_50411/3556272159.py\u001B[0m in \u001B[0;36m<module>\u001B[0;34m\u001B[0m\n\u001B[0;32m----> 1\u001B[0;31m \u001B[0mchart\u001B[0m \u001B[0;34m=\u001B[0m \u001B[0msns\u001B[0m\u001B[0;34m.\u001B[0m\u001B[0mscatterplot\u001B[0m\u001B[0;34m(\u001B[0m\u001B[0mdata\u001B[0m\u001B[0;34m=\u001B[0m\u001B[0mbfms\u001B[0m\u001B[0;34m,\u001B[0m \u001B[0mx\u001B[0m\u001B[0;34m=\u001B[0m\u001B[0;34m\"Family Model\"\u001B[0m\u001B[0;34m,\u001B[0m \u001B[0my\u001B[0m\u001B[0;34m=\u001B[0m\u001B[0;34m\"Avg. Critical SDC\"\u001B[0m\u001B[0;34m,\u001B[0m \u001B[0mstyle\u001B[0m\u001B[0;34m=\u001B[0m\u001B[0;34m\"BFM\"\u001B[0m\u001B[0;34m,\u001B[0m \u001B[0mhue\u001B[0m\u001B[0;34m=\u001B[0m\u001B[0;34m\"Type\"\u001B[0m\u001B[0;34m,\u001B[0m \u001B[0mpalette\u001B[0m\u001B[0;34m=\u001B[0m\u001B[0;34m\"flare\"\u001B[0m\u001B[0;34m,\u001B[0m \u001B[0ms\u001B[0m\u001B[0;34m=\u001B[0m\u001B[0;36m150\u001B[0m\u001B[0;34m,\u001B[0m\u001B[0;34m)\u001B[0m\u001B[0;34m\u001B[0m\u001B[0;34m\u001B[0m\u001B[0m\n\u001B[0m\u001B[1;32m      2\u001B[0m \u001B[0;34m\u001B[0m\u001B[0m\n\u001B[1;32m      3\u001B[0m \u001B[0;31m# avoid collision between points\u001B[0m\u001B[0;34m\u001B[0m\u001B[0;34m\u001B[0m\u001B[0;34m\u001B[0m\u001B[0m\n\u001B[1;32m      4\u001B[0m \u001B[0;32mfor\u001B[0m \u001B[0mpoints\u001B[0m \u001B[0;32min\u001B[0m \u001B[0mchart\u001B[0m\u001B[0;34m.\u001B[0m\u001B[0mcollections\u001B[0m\u001B[0;34m:\u001B[0m\u001B[0;34m\u001B[0m\u001B[0;34m\u001B[0m\u001B[0m\n\u001B[1;32m      5\u001B[0m     \u001B[0mvertices\u001B[0m \u001B[0;34m=\u001B[0m \u001B[0mpoints\u001B[0m\u001B[0;34m.\u001B[0m\u001B[0mget_offsets\u001B[0m\u001B[0;34m(\u001B[0m\u001B[0;34m)\u001B[0m\u001B[0;34m.\u001B[0m\u001B[0mdata\u001B[0m\u001B[0;34m\u001B[0m\u001B[0;34m\u001B[0m\u001B[0m\n",
      "\u001B[0;32m~/.local/lib/python3.8/site-packages/seaborn/_decorators.py\u001B[0m in \u001B[0;36minner_f\u001B[0;34m(*args, **kwargs)\u001B[0m\n\u001B[1;32m     44\u001B[0m             )\n\u001B[1;32m     45\u001B[0m         \u001B[0mkwargs\u001B[0m\u001B[0;34m.\u001B[0m\u001B[0mupdate\u001B[0m\u001B[0;34m(\u001B[0m\u001B[0;34m{\u001B[0m\u001B[0mk\u001B[0m\u001B[0;34m:\u001B[0m \u001B[0marg\u001B[0m \u001B[0;32mfor\u001B[0m \u001B[0mk\u001B[0m\u001B[0;34m,\u001B[0m \u001B[0marg\u001B[0m \u001B[0;32min\u001B[0m \u001B[0mzip\u001B[0m\u001B[0;34m(\u001B[0m\u001B[0msig\u001B[0m\u001B[0;34m.\u001B[0m\u001B[0mparameters\u001B[0m\u001B[0;34m,\u001B[0m \u001B[0margs\u001B[0m\u001B[0;34m)\u001B[0m\u001B[0;34m}\u001B[0m\u001B[0;34m)\u001B[0m\u001B[0;34m\u001B[0m\u001B[0;34m\u001B[0m\u001B[0m\n\u001B[0;32m---> 46\u001B[0;31m         \u001B[0;32mreturn\u001B[0m \u001B[0mf\u001B[0m\u001B[0;34m(\u001B[0m\u001B[0;34m**\u001B[0m\u001B[0mkwargs\u001B[0m\u001B[0;34m)\u001B[0m\u001B[0;34m\u001B[0m\u001B[0;34m\u001B[0m\u001B[0m\n\u001B[0m\u001B[1;32m     47\u001B[0m     \u001B[0;32mreturn\u001B[0m \u001B[0minner_f\u001B[0m\u001B[0;34m\u001B[0m\u001B[0;34m\u001B[0m\u001B[0m\n\u001B[1;32m     48\u001B[0m \u001B[0;34m\u001B[0m\u001B[0m\n",
      "\u001B[0;32m~/.local/lib/python3.8/site-packages/seaborn/relational.py\u001B[0m in \u001B[0;36mscatterplot\u001B[0;34m(x, y, hue, style, size, data, palette, hue_order, hue_norm, sizes, size_order, size_norm, markers, style_order, x_bins, y_bins, units, estimator, ci, n_boot, alpha, x_jitter, y_jitter, legend, ax, **kwargs)\u001B[0m\n\u001B[1;32m    806\u001B[0m \u001B[0;34m\u001B[0m\u001B[0m\n\u001B[1;32m    807\u001B[0m     \u001B[0mvariables\u001B[0m \u001B[0;34m=\u001B[0m \u001B[0m_ScatterPlotter\u001B[0m\u001B[0;34m.\u001B[0m\u001B[0mget_semantics\u001B[0m\u001B[0;34m(\u001B[0m\u001B[0mlocals\u001B[0m\u001B[0;34m(\u001B[0m\u001B[0;34m)\u001B[0m\u001B[0;34m)\u001B[0m\u001B[0;34m\u001B[0m\u001B[0;34m\u001B[0m\u001B[0m\n\u001B[0;32m--> 808\u001B[0;31m     p = _ScatterPlotter(\n\u001B[0m\u001B[1;32m    809\u001B[0m         \u001B[0mdata\u001B[0m\u001B[0;34m=\u001B[0m\u001B[0mdata\u001B[0m\u001B[0;34m,\u001B[0m \u001B[0mvariables\u001B[0m\u001B[0;34m=\u001B[0m\u001B[0mvariables\u001B[0m\u001B[0;34m,\u001B[0m\u001B[0;34m\u001B[0m\u001B[0;34m\u001B[0m\u001B[0m\n\u001B[1;32m    810\u001B[0m         \u001B[0mx_bins\u001B[0m\u001B[0;34m=\u001B[0m\u001B[0mx_bins\u001B[0m\u001B[0;34m,\u001B[0m \u001B[0my_bins\u001B[0m\u001B[0;34m=\u001B[0m\u001B[0my_bins\u001B[0m\u001B[0;34m,\u001B[0m\u001B[0;34m\u001B[0m\u001B[0;34m\u001B[0m\u001B[0m\n",
      "\u001B[0;32m~/.local/lib/python3.8/site-packages/seaborn/relational.py\u001B[0m in \u001B[0;36m__init__\u001B[0;34m(self, data, variables, x_bins, y_bins, estimator, ci, n_boot, alpha, x_jitter, y_jitter, legend)\u001B[0m\n\u001B[1;32m    585\u001B[0m         )\n\u001B[1;32m    586\u001B[0m \u001B[0;34m\u001B[0m\u001B[0m\n\u001B[0;32m--> 587\u001B[0;31m         \u001B[0msuper\u001B[0m\u001B[0;34m(\u001B[0m\u001B[0;34m)\u001B[0m\u001B[0;34m.\u001B[0m\u001B[0m__init__\u001B[0m\u001B[0;34m(\u001B[0m\u001B[0mdata\u001B[0m\u001B[0;34m=\u001B[0m\u001B[0mdata\u001B[0m\u001B[0;34m,\u001B[0m \u001B[0mvariables\u001B[0m\u001B[0;34m=\u001B[0m\u001B[0mvariables\u001B[0m\u001B[0;34m)\u001B[0m\u001B[0;34m\u001B[0m\u001B[0;34m\u001B[0m\u001B[0m\n\u001B[0m\u001B[1;32m    588\u001B[0m \u001B[0;34m\u001B[0m\u001B[0m\n\u001B[1;32m    589\u001B[0m         \u001B[0mself\u001B[0m\u001B[0;34m.\u001B[0m\u001B[0malpha\u001B[0m \u001B[0;34m=\u001B[0m \u001B[0malpha\u001B[0m\u001B[0;34m\u001B[0m\u001B[0;34m\u001B[0m\u001B[0m\n",
      "\u001B[0;32m~/.local/lib/python3.8/site-packages/seaborn/_core.py\u001B[0m in \u001B[0;36m__init__\u001B[0;34m(self, data, variables)\u001B[0m\n\u001B[1;32m    603\u001B[0m     \u001B[0;32mdef\u001B[0m \u001B[0m__init__\u001B[0m\u001B[0;34m(\u001B[0m\u001B[0mself\u001B[0m\u001B[0;34m,\u001B[0m \u001B[0mdata\u001B[0m\u001B[0;34m=\u001B[0m\u001B[0;32mNone\u001B[0m\u001B[0;34m,\u001B[0m \u001B[0mvariables\u001B[0m\u001B[0;34m=\u001B[0m\u001B[0;34m{\u001B[0m\u001B[0;34m}\u001B[0m\u001B[0;34m)\u001B[0m\u001B[0;34m:\u001B[0m\u001B[0;34m\u001B[0m\u001B[0;34m\u001B[0m\u001B[0m\n\u001B[1;32m    604\u001B[0m \u001B[0;34m\u001B[0m\u001B[0m\n\u001B[0;32m--> 605\u001B[0;31m         \u001B[0mself\u001B[0m\u001B[0;34m.\u001B[0m\u001B[0massign_variables\u001B[0m\u001B[0;34m(\u001B[0m\u001B[0mdata\u001B[0m\u001B[0;34m,\u001B[0m \u001B[0mvariables\u001B[0m\u001B[0;34m)\u001B[0m\u001B[0;34m\u001B[0m\u001B[0;34m\u001B[0m\u001B[0m\n\u001B[0m\u001B[1;32m    606\u001B[0m \u001B[0;34m\u001B[0m\u001B[0m\n\u001B[1;32m    607\u001B[0m         \u001B[0;32mfor\u001B[0m \u001B[0mvar\u001B[0m\u001B[0;34m,\u001B[0m \u001B[0mcls\u001B[0m \u001B[0;32min\u001B[0m \u001B[0mself\u001B[0m\u001B[0;34m.\u001B[0m\u001B[0m_semantic_mappings\u001B[0m\u001B[0;34m.\u001B[0m\u001B[0mitems\u001B[0m\u001B[0;34m(\u001B[0m\u001B[0;34m)\u001B[0m\u001B[0;34m:\u001B[0m\u001B[0;34m\u001B[0m\u001B[0;34m\u001B[0m\u001B[0m\n",
      "\u001B[0;32m~/.local/lib/python3.8/site-packages/seaborn/_core.py\u001B[0m in \u001B[0;36massign_variables\u001B[0;34m(self, data, variables)\u001B[0m\n\u001B[1;32m    666\u001B[0m         \u001B[0;32melse\u001B[0m\u001B[0;34m:\u001B[0m\u001B[0;34m\u001B[0m\u001B[0;34m\u001B[0m\u001B[0m\n\u001B[1;32m    667\u001B[0m             \u001B[0mself\u001B[0m\u001B[0;34m.\u001B[0m\u001B[0minput_format\u001B[0m \u001B[0;34m=\u001B[0m \u001B[0;34m\"long\"\u001B[0m\u001B[0;34m\u001B[0m\u001B[0;34m\u001B[0m\u001B[0m\n\u001B[0;32m--> 668\u001B[0;31m             plot_data, variables = self._assign_variables_longform(\n\u001B[0m\u001B[1;32m    669\u001B[0m                 \u001B[0mdata\u001B[0m\u001B[0;34m,\u001B[0m \u001B[0;34m**\u001B[0m\u001B[0mvariables\u001B[0m\u001B[0;34m,\u001B[0m\u001B[0;34m\u001B[0m\u001B[0;34m\u001B[0m\u001B[0m\n\u001B[1;32m    670\u001B[0m             )\n",
      "\u001B[0;32m~/.local/lib/python3.8/site-packages/seaborn/_core.py\u001B[0m in \u001B[0;36m_assign_variables_longform\u001B[0;34m(self, data, **kwargs)\u001B[0m\n\u001B[1;32m    901\u001B[0m \u001B[0;34m\u001B[0m\u001B[0m\n\u001B[1;32m    902\u001B[0m                 \u001B[0merr\u001B[0m \u001B[0;34m=\u001B[0m \u001B[0;34mf\"Could not interpret value `{val}` for parameter `{key}`\"\u001B[0m\u001B[0;34m\u001B[0m\u001B[0;34m\u001B[0m\u001B[0m\n\u001B[0;32m--> 903\u001B[0;31m                 \u001B[0;32mraise\u001B[0m \u001B[0mValueError\u001B[0m\u001B[0;34m(\u001B[0m\u001B[0merr\u001B[0m\u001B[0;34m)\u001B[0m\u001B[0;34m\u001B[0m\u001B[0;34m\u001B[0m\u001B[0m\n\u001B[0m\u001B[1;32m    904\u001B[0m \u001B[0;34m\u001B[0m\u001B[0m\n\u001B[1;32m    905\u001B[0m             \u001B[0;32melse\u001B[0m\u001B[0;34m:\u001B[0m\u001B[0;34m\u001B[0m\u001B[0;34m\u001B[0m\u001B[0m\n",
      "\u001B[0;31mValueError\u001B[0m: Could not interpret value `Family Model` for parameter `x`"
     ]
    }
   ],
   "source": [
    "chart = sns.scatterplot(data=bfms, x=\"Family Model\", y=\"Avg. Critical SDC\", style=\"BFM\", hue=\"Type\", palette=\"flare\", s=150,)\n",
    "\n",
    "# avoid collision between points\n",
    "for points in chart.collections:\n",
    "    vertices = points.get_offsets().data\n",
    "    if len(vertices) > 0:\n",
    "        vertices[:, 0] += np.random.uniform(-0.3, 0.3, vertices.shape[0])\n",
    "        points.set_offsets(vertices)\n",
    "\n",
    "# setting axis labels\n",
    "chart.set(xlabel=None)\n",
    "chart.set_ylabel(ylabel=\"Average Critical SDC\", fontsize=font_size)\n",
    "plt.yticks(fontsize=font_size)\n",
    "plt.xticks(fontsize=font_size)\n",
    "\n",
    "# legend management\n",
    "handles, labels = chart.get_legend_handles_labels()\n",
    "handles_type = handles[1:3]\n",
    "handles_bfm = handles[4:]\n",
    "\n",
    "for hd in handles_type:\n",
    "    hd.set_label(\"Hardened\" if \"H.\" == hd.get_label() else \"Unhardened\")\n",
    "\n",
    "bfms_lgd = plt.legend(handles=handles_bfm, loc=\"upper center\", bbox_to_anchor=(.50,1.11), ncols=len(handles_bfm), frameon=False,\n",
    "                      fontsize=font_size, columnspacing=0.01, handletextpad=0.01)\n",
    "for lg_hd in bfms_lgd.legendHandles:\n",
    "    lg_hd._sizes = [100]\n",
    "    \n",
    "type_lgd = plt.legend(handles=handles_type, loc=\"upper center\", bbox_to_anchor=(.50,1.18), ncols=len(handles_type), frameon=False,\n",
    "           fontsize=font_size, columnspacing=0.01, handletextpad=0.01)\n",
    "for lg_hd in type_lgd.legendHandles:\n",
    "    lg_hd._sizes = [100]\n",
    "\n",
    "plt.gca().add_artist(bfms_lgd)\n",
    "\n",
    "plt.gca().yaxis.set_major_formatter(mtick.FuncFormatter(lambda y, _: f'{int(y)}%')) \n",
    "chart.set_xlim(-0.5, 3.5)\n",
    "\n",
    "# plotting lines between the categories\n",
    "plt.axvline(x=.5, color='black', ls=\":\", lw=1.75)\n",
    "plt.axvline(x=1.5, color='black', ls=\":\", lw=1.75)\n",
    "plt.axvline(x=2.5, color='black', ls=\":\", lw=1.75)\n",
    "plt.tight_layout()\n",
    "# saving the plot"
   ]
  },
  {
   "cell_type": "code",
   "execution_count": 42,
   "outputs": [
    {
     "ename": "ValueError",
     "evalue": "Could not interpret input 'BFM'",
     "output_type": "error",
     "traceback": [
      "\u001B[0;31m---------------------------------------------------------------------------\u001B[0m",
      "\u001B[0;31mValueError\u001B[0m                                Traceback (most recent call last)",
      "\u001B[0;32m/tmp/ipykernel_50411/2096693731.py\u001B[0m in \u001B[0;36m<module>\u001B[0;34m\u001B[0m\n\u001B[0;32m----> 1\u001B[0;31m \u001B[0mchart\u001B[0m \u001B[0;34m=\u001B[0m \u001B[0msns\u001B[0m\u001B[0;34m.\u001B[0m\u001B[0mcatplot\u001B[0m\u001B[0;34m(\u001B[0m\u001B[0mdata\u001B[0m\u001B[0;34m=\u001B[0m\u001B[0mbfms\u001B[0m\u001B[0;34m,\u001B[0m \u001B[0mx\u001B[0m\u001B[0;34m=\u001B[0m\u001B[0;34m\"BFM\"\u001B[0m\u001B[0;34m,\u001B[0m \u001B[0my\u001B[0m\u001B[0;34m=\u001B[0m\u001B[0;34m\"Avg. Critical SDC\"\u001B[0m\u001B[0;34m,\u001B[0m \u001B[0mhue\u001B[0m\u001B[0;34m=\u001B[0m\u001B[0;34m\"Type\"\u001B[0m\u001B[0;34m,\u001B[0m \u001B[0mcol\u001B[0m\u001B[0;34m=\u001B[0m\u001B[0;34m\"Family Model\"\u001B[0m\u001B[0;34m,\u001B[0m \u001B[0maspect\u001B[0m\u001B[0;34m=\u001B[0m\u001B[0;36m.4\u001B[0m\u001B[0;34m,\u001B[0m \u001B[0mcol_order\u001B[0m\u001B[0;34m=\u001B[0m\u001B[0mcol_order\u001B[0m\u001B[0;34m,\u001B[0m \u001B[0mlegend\u001B[0m\u001B[0;34m=\u001B[0m\u001B[0;32mFalse\u001B[0m\u001B[0;34m)\u001B[0m\u001B[0;34m\u001B[0m\u001B[0;34m\u001B[0m\u001B[0m\n\u001B[0m\u001B[1;32m      2\u001B[0m \u001B[0;34m\u001B[0m\u001B[0m\n\u001B[1;32m      3\u001B[0m \u001B[0;31m# setting axis labels\u001B[0m\u001B[0;34m\u001B[0m\u001B[0;34m\u001B[0m\u001B[0;34m\u001B[0m\u001B[0m\n\u001B[1;32m      4\u001B[0m \u001B[0mchart\u001B[0m\u001B[0;34m.\u001B[0m\u001B[0mset\u001B[0m\u001B[0;34m(\u001B[0m\u001B[0mxlabel\u001B[0m\u001B[0;34m=\u001B[0m\u001B[0;32mNone\u001B[0m\u001B[0;34m)\u001B[0m\u001B[0;34m\u001B[0m\u001B[0;34m\u001B[0m\u001B[0m\n\u001B[1;32m      5\u001B[0m \u001B[0mchart\u001B[0m\u001B[0;34m.\u001B[0m\u001B[0mset_titles\u001B[0m\u001B[0;34m(\u001B[0m\u001B[0mcol_template\u001B[0m\u001B[0;34m=\u001B[0m\u001B[0;34m'{col_name}'\u001B[0m\u001B[0;34m)\u001B[0m\u001B[0;34m\u001B[0m\u001B[0;34m\u001B[0m\u001B[0m\n",
      "\u001B[0;32m~/.local/lib/python3.8/site-packages/seaborn/_decorators.py\u001B[0m in \u001B[0;36minner_f\u001B[0;34m(*args, **kwargs)\u001B[0m\n\u001B[1;32m     44\u001B[0m             )\n\u001B[1;32m     45\u001B[0m         \u001B[0mkwargs\u001B[0m\u001B[0;34m.\u001B[0m\u001B[0mupdate\u001B[0m\u001B[0;34m(\u001B[0m\u001B[0;34m{\u001B[0m\u001B[0mk\u001B[0m\u001B[0;34m:\u001B[0m \u001B[0marg\u001B[0m \u001B[0;32mfor\u001B[0m \u001B[0mk\u001B[0m\u001B[0;34m,\u001B[0m \u001B[0marg\u001B[0m \u001B[0;32min\u001B[0m \u001B[0mzip\u001B[0m\u001B[0;34m(\u001B[0m\u001B[0msig\u001B[0m\u001B[0;34m.\u001B[0m\u001B[0mparameters\u001B[0m\u001B[0;34m,\u001B[0m \u001B[0margs\u001B[0m\u001B[0;34m)\u001B[0m\u001B[0;34m}\u001B[0m\u001B[0;34m)\u001B[0m\u001B[0;34m\u001B[0m\u001B[0;34m\u001B[0m\u001B[0m\n\u001B[0;32m---> 46\u001B[0;31m         \u001B[0;32mreturn\u001B[0m \u001B[0mf\u001B[0m\u001B[0;34m(\u001B[0m\u001B[0;34m**\u001B[0m\u001B[0mkwargs\u001B[0m\u001B[0;34m)\u001B[0m\u001B[0;34m\u001B[0m\u001B[0;34m\u001B[0m\u001B[0m\n\u001B[0m\u001B[1;32m     47\u001B[0m     \u001B[0;32mreturn\u001B[0m \u001B[0minner_f\u001B[0m\u001B[0;34m\u001B[0m\u001B[0;34m\u001B[0m\u001B[0m\n\u001B[1;32m     48\u001B[0m \u001B[0;34m\u001B[0m\u001B[0m\n",
      "\u001B[0;32m~/.local/lib/python3.8/site-packages/seaborn/categorical.py\u001B[0m in \u001B[0;36mcatplot\u001B[0;34m(x, y, hue, data, row, col, col_wrap, estimator, ci, n_boot, units, seed, order, hue_order, row_order, col_order, kind, height, aspect, orient, color, palette, legend, legend_out, sharex, sharey, margin_titles, facet_kws, **kwargs)\u001B[0m\n\u001B[1;32m   3790\u001B[0m     \u001B[0mp\u001B[0m \u001B[0;34m=\u001B[0m \u001B[0m_CategoricalPlotter\u001B[0m\u001B[0;34m(\u001B[0m\u001B[0;34m)\u001B[0m\u001B[0;34m\u001B[0m\u001B[0;34m\u001B[0m\u001B[0m\n\u001B[1;32m   3791\u001B[0m     \u001B[0mp\u001B[0m\u001B[0;34m.\u001B[0m\u001B[0mrequire_numeric\u001B[0m \u001B[0;34m=\u001B[0m \u001B[0mplotter_class\u001B[0m\u001B[0;34m.\u001B[0m\u001B[0mrequire_numeric\u001B[0m\u001B[0;34m\u001B[0m\u001B[0;34m\u001B[0m\u001B[0m\n\u001B[0;32m-> 3792\u001B[0;31m     \u001B[0mp\u001B[0m\u001B[0;34m.\u001B[0m\u001B[0mestablish_variables\u001B[0m\u001B[0;34m(\u001B[0m\u001B[0mx_\u001B[0m\u001B[0;34m,\u001B[0m \u001B[0my_\u001B[0m\u001B[0;34m,\u001B[0m \u001B[0mhue\u001B[0m\u001B[0;34m,\u001B[0m \u001B[0mdata\u001B[0m\u001B[0;34m,\u001B[0m \u001B[0morient\u001B[0m\u001B[0;34m,\u001B[0m \u001B[0morder\u001B[0m\u001B[0;34m,\u001B[0m \u001B[0mhue_order\u001B[0m\u001B[0;34m)\u001B[0m\u001B[0;34m\u001B[0m\u001B[0;34m\u001B[0m\u001B[0m\n\u001B[0m\u001B[1;32m   3793\u001B[0m     if (\n\u001B[1;32m   3794\u001B[0m         \u001B[0morder\u001B[0m \u001B[0;32mis\u001B[0m \u001B[0;32mnot\u001B[0m \u001B[0;32mNone\u001B[0m\u001B[0;34m\u001B[0m\u001B[0;34m\u001B[0m\u001B[0m\n",
      "\u001B[0;32m~/.local/lib/python3.8/site-packages/seaborn/categorical.py\u001B[0m in \u001B[0;36mestablish_variables\u001B[0;34m(self, x, y, hue, data, orient, order, hue_order, units)\u001B[0m\n\u001B[1;32m    151\u001B[0m                 \u001B[0;32mif\u001B[0m \u001B[0misinstance\u001B[0m\u001B[0;34m(\u001B[0m\u001B[0mvar\u001B[0m\u001B[0;34m,\u001B[0m \u001B[0mstr\u001B[0m\u001B[0;34m)\u001B[0m\u001B[0;34m:\u001B[0m\u001B[0;34m\u001B[0m\u001B[0;34m\u001B[0m\u001B[0m\n\u001B[1;32m    152\u001B[0m                     \u001B[0merr\u001B[0m \u001B[0;34m=\u001B[0m \u001B[0;34m\"Could not interpret input '{}'\"\u001B[0m\u001B[0;34m.\u001B[0m\u001B[0mformat\u001B[0m\u001B[0;34m(\u001B[0m\u001B[0mvar\u001B[0m\u001B[0;34m)\u001B[0m\u001B[0;34m\u001B[0m\u001B[0;34m\u001B[0m\u001B[0m\n\u001B[0;32m--> 153\u001B[0;31m                     \u001B[0;32mraise\u001B[0m \u001B[0mValueError\u001B[0m\u001B[0;34m(\u001B[0m\u001B[0merr\u001B[0m\u001B[0;34m)\u001B[0m\u001B[0;34m\u001B[0m\u001B[0;34m\u001B[0m\u001B[0m\n\u001B[0m\u001B[1;32m    154\u001B[0m \u001B[0;34m\u001B[0m\u001B[0m\n\u001B[1;32m    155\u001B[0m             \u001B[0;31m# Figure out the plotting orientation\u001B[0m\u001B[0;34m\u001B[0m\u001B[0;34m\u001B[0m\u001B[0;34m\u001B[0m\u001B[0m\n",
      "\u001B[0;31mValueError\u001B[0m: Could not interpret input 'BFM'"
     ]
    }
   ],
   "source": [
    "chart = sns.catplot(data=bfms, x=\"BFM\", y=\"Avg. Critical SDC\", hue=\"Type\", col=\"Family Model\", aspect=.4, col_order=col_order, legend=False)\n",
    "\n",
    "# setting axis labels\n",
    "chart.set(xlabel=None)\n",
    "chart.set_titles(col_template='{col_name}')\n",
    "chart.set_ylabels(\"Average Critical SDC\", fontsize=font_size)\n",
    "plt.xlabel(\"\")\n",
    "plt.yticks(fontsize=font_size)\n",
    "plt.gca().yaxis.set_major_formatter(mtick.FuncFormatter(lambda y, _: f'{int(y)}%')) \n",
    "plt.xticks([])\n",
    "\n",
    "\n",
    "plt.tight_layout()\n",
    "plt.savefig(\"./avg_crit_sdc_catplot.pdf\")"
   ],
   "metadata": {
    "collapsed": false,
    "ExecuteTime": {
     "end_time": "2023-08-21T15:36:22.789859604Z",
     "start_time": "2023-08-21T15:36:22.786261652Z"
    }
   }
  },
  {
   "cell_type": "code",
   "execution_count": 43,
   "outputs": [
    {
     "ename": "ValueError",
     "evalue": "Could not interpret input 'Family Model'",
     "output_type": "error",
     "traceback": [
      "\u001B[0;31m---------------------------------------------------------------------------\u001B[0m",
      "\u001B[0;31mValueError\u001B[0m                                Traceback (most recent call last)",
      "\u001B[0;32m/tmp/ipykernel_50411/2143282757.py\u001B[0m in \u001B[0;36m<module>\u001B[0;34m\u001B[0m\n\u001B[0;32m----> 1\u001B[0;31m \u001B[0mchart\u001B[0m \u001B[0;34m=\u001B[0m \u001B[0msns\u001B[0m\u001B[0;34m.\u001B[0m\u001B[0mstripplot\u001B[0m\u001B[0;34m(\u001B[0m\u001B[0mdata\u001B[0m\u001B[0;34m=\u001B[0m\u001B[0mbfms\u001B[0m\u001B[0;34m,\u001B[0m  \u001B[0mx\u001B[0m\u001B[0;34m=\u001B[0m\u001B[0;34m\"Family Model\"\u001B[0m\u001B[0;34m,\u001B[0m \u001B[0my\u001B[0m\u001B[0;34m=\u001B[0m\u001B[0;34m\"Avg. Critical SDC\"\u001B[0m\u001B[0;34m,\u001B[0m  \u001B[0mhue\u001B[0m\u001B[0;34m=\u001B[0m\u001B[0;34m\"Type\"\u001B[0m\u001B[0;34m,\u001B[0m \u001B[0mdodge\u001B[0m\u001B[0;34m=\u001B[0m\u001B[0;32mTrue\u001B[0m\u001B[0;34m,\u001B[0m \u001B[0mjitter\u001B[0m\u001B[0;34m=\u001B[0m\u001B[0;32mTrue\u001B[0m\u001B[0;34m)\u001B[0m\u001B[0;34m\u001B[0m\u001B[0;34m\u001B[0m\u001B[0m\n\u001B[0m\u001B[1;32m      2\u001B[0m \u001B[0;34m\u001B[0m\u001B[0m\n\u001B[1;32m      3\u001B[0m \u001B[0;31m# setting axis labels\u001B[0m\u001B[0;34m\u001B[0m\u001B[0;34m\u001B[0m\u001B[0;34m\u001B[0m\u001B[0m\n\u001B[1;32m      4\u001B[0m \u001B[0mchart\u001B[0m\u001B[0;34m.\u001B[0m\u001B[0mset\u001B[0m\u001B[0;34m(\u001B[0m\u001B[0mxlabel\u001B[0m\u001B[0;34m=\u001B[0m\u001B[0;32mNone\u001B[0m\u001B[0;34m)\u001B[0m\u001B[0;34m\u001B[0m\u001B[0;34m\u001B[0m\u001B[0m\n\u001B[1;32m      5\u001B[0m \u001B[0;34m\u001B[0m\u001B[0m\n",
      "\u001B[0;32m~/.local/lib/python3.8/site-packages/seaborn/_decorators.py\u001B[0m in \u001B[0;36minner_f\u001B[0;34m(*args, **kwargs)\u001B[0m\n\u001B[1;32m     44\u001B[0m             )\n\u001B[1;32m     45\u001B[0m         \u001B[0mkwargs\u001B[0m\u001B[0;34m.\u001B[0m\u001B[0mupdate\u001B[0m\u001B[0;34m(\u001B[0m\u001B[0;34m{\u001B[0m\u001B[0mk\u001B[0m\u001B[0;34m:\u001B[0m \u001B[0marg\u001B[0m \u001B[0;32mfor\u001B[0m \u001B[0mk\u001B[0m\u001B[0;34m,\u001B[0m \u001B[0marg\u001B[0m \u001B[0;32min\u001B[0m \u001B[0mzip\u001B[0m\u001B[0;34m(\u001B[0m\u001B[0msig\u001B[0m\u001B[0;34m.\u001B[0m\u001B[0mparameters\u001B[0m\u001B[0;34m,\u001B[0m \u001B[0margs\u001B[0m\u001B[0;34m)\u001B[0m\u001B[0;34m}\u001B[0m\u001B[0;34m)\u001B[0m\u001B[0;34m\u001B[0m\u001B[0;34m\u001B[0m\u001B[0m\n\u001B[0;32m---> 46\u001B[0;31m         \u001B[0;32mreturn\u001B[0m \u001B[0mf\u001B[0m\u001B[0;34m(\u001B[0m\u001B[0;34m**\u001B[0m\u001B[0mkwargs\u001B[0m\u001B[0;34m)\u001B[0m\u001B[0;34m\u001B[0m\u001B[0;34m\u001B[0m\u001B[0m\n\u001B[0m\u001B[1;32m     47\u001B[0m     \u001B[0;32mreturn\u001B[0m \u001B[0minner_f\u001B[0m\u001B[0;34m\u001B[0m\u001B[0;34m\u001B[0m\u001B[0m\n\u001B[1;32m     48\u001B[0m \u001B[0;34m\u001B[0m\u001B[0m\n",
      "\u001B[0;32m~/.local/lib/python3.8/site-packages/seaborn/categorical.py\u001B[0m in \u001B[0;36mstripplot\u001B[0;34m(x, y, hue, data, order, hue_order, jitter, dodge, orient, color, palette, size, edgecolor, linewidth, ax, **kwargs)\u001B[0m\n\u001B[1;32m   2805\u001B[0m         \u001B[0mwarnings\u001B[0m\u001B[0;34m.\u001B[0m\u001B[0mwarn\u001B[0m\u001B[0;34m(\u001B[0m\u001B[0mmsg\u001B[0m\u001B[0;34m,\u001B[0m \u001B[0mUserWarning\u001B[0m\u001B[0;34m)\u001B[0m\u001B[0;34m\u001B[0m\u001B[0;34m\u001B[0m\u001B[0m\n\u001B[1;32m   2806\u001B[0m \u001B[0;34m\u001B[0m\u001B[0m\n\u001B[0;32m-> 2807\u001B[0;31m     plotter = _StripPlotter(x, y, hue, data, order, hue_order,\n\u001B[0m\u001B[1;32m   2808\u001B[0m                             jitter, dodge, orient, color, palette)\n\u001B[1;32m   2809\u001B[0m     \u001B[0;32mif\u001B[0m \u001B[0max\u001B[0m \u001B[0;32mis\u001B[0m \u001B[0;32mNone\u001B[0m\u001B[0;34m:\u001B[0m\u001B[0;34m\u001B[0m\u001B[0;34m\u001B[0m\u001B[0m\n",
      "\u001B[0;32m~/.local/lib/python3.8/site-packages/seaborn/categorical.py\u001B[0m in \u001B[0;36m__init__\u001B[0;34m(self, x, y, hue, data, order, hue_order, jitter, dodge, orient, color, palette)\u001B[0m\n\u001B[1;32m   1097\u001B[0m                  jitter, dodge, orient, color, palette):\n\u001B[1;32m   1098\u001B[0m         \u001B[0;34m\"\"\"Initialize the plotter.\"\"\"\u001B[0m\u001B[0;34m\u001B[0m\u001B[0;34m\u001B[0m\u001B[0m\n\u001B[0;32m-> 1099\u001B[0;31m         \u001B[0mself\u001B[0m\u001B[0;34m.\u001B[0m\u001B[0mestablish_variables\u001B[0m\u001B[0;34m(\u001B[0m\u001B[0mx\u001B[0m\u001B[0;34m,\u001B[0m \u001B[0my\u001B[0m\u001B[0;34m,\u001B[0m \u001B[0mhue\u001B[0m\u001B[0;34m,\u001B[0m \u001B[0mdata\u001B[0m\u001B[0;34m,\u001B[0m \u001B[0morient\u001B[0m\u001B[0;34m,\u001B[0m \u001B[0morder\u001B[0m\u001B[0;34m,\u001B[0m \u001B[0mhue_order\u001B[0m\u001B[0;34m)\u001B[0m\u001B[0;34m\u001B[0m\u001B[0;34m\u001B[0m\u001B[0m\n\u001B[0m\u001B[1;32m   1100\u001B[0m         \u001B[0mself\u001B[0m\u001B[0;34m.\u001B[0m\u001B[0mestablish_colors\u001B[0m\u001B[0;34m(\u001B[0m\u001B[0mcolor\u001B[0m\u001B[0;34m,\u001B[0m \u001B[0mpalette\u001B[0m\u001B[0;34m,\u001B[0m \u001B[0;36m1\u001B[0m\u001B[0;34m)\u001B[0m\u001B[0;34m\u001B[0m\u001B[0;34m\u001B[0m\u001B[0m\n\u001B[1;32m   1101\u001B[0m \u001B[0;34m\u001B[0m\u001B[0m\n",
      "\u001B[0;32m~/.local/lib/python3.8/site-packages/seaborn/categorical.py\u001B[0m in \u001B[0;36mestablish_variables\u001B[0;34m(self, x, y, hue, data, orient, order, hue_order, units)\u001B[0m\n\u001B[1;32m    151\u001B[0m                 \u001B[0;32mif\u001B[0m \u001B[0misinstance\u001B[0m\u001B[0;34m(\u001B[0m\u001B[0mvar\u001B[0m\u001B[0;34m,\u001B[0m \u001B[0mstr\u001B[0m\u001B[0;34m)\u001B[0m\u001B[0;34m:\u001B[0m\u001B[0;34m\u001B[0m\u001B[0;34m\u001B[0m\u001B[0m\n\u001B[1;32m    152\u001B[0m                     \u001B[0merr\u001B[0m \u001B[0;34m=\u001B[0m \u001B[0;34m\"Could not interpret input '{}'\"\u001B[0m\u001B[0;34m.\u001B[0m\u001B[0mformat\u001B[0m\u001B[0;34m(\u001B[0m\u001B[0mvar\u001B[0m\u001B[0;34m)\u001B[0m\u001B[0;34m\u001B[0m\u001B[0;34m\u001B[0m\u001B[0m\n\u001B[0;32m--> 153\u001B[0;31m                     \u001B[0;32mraise\u001B[0m \u001B[0mValueError\u001B[0m\u001B[0;34m(\u001B[0m\u001B[0merr\u001B[0m\u001B[0;34m)\u001B[0m\u001B[0;34m\u001B[0m\u001B[0;34m\u001B[0m\u001B[0m\n\u001B[0m\u001B[1;32m    154\u001B[0m \u001B[0;34m\u001B[0m\u001B[0m\n\u001B[1;32m    155\u001B[0m             \u001B[0;31m# Figure out the plotting orientation\u001B[0m\u001B[0;34m\u001B[0m\u001B[0;34m\u001B[0m\u001B[0;34m\u001B[0m\u001B[0m\n",
      "\u001B[0;31mValueError\u001B[0m: Could not interpret input 'Family Model'"
     ]
    }
   ],
   "source": [
    "chart = sns.stripplot(data=bfms,  x=\"Family Model\", y=\"Avg. Critical SDC\",  hue=\"Type\", dodge=True, jitter=True)\n",
    "\n",
    "# setting axis labels\n",
    "chart.set(xlabel=None)\n",
    "\n",
    "chart.set_ylabel(\"Average Critical SDC\", fontsize=font_size)\n",
    "plt.xlabel(\"\")\n",
    "plt.yticks(fontsize=font_size)\n",
    "plt.gca().yaxis.set_major_formatter(mtick.FuncFormatter(lambda y, _: f'{int(y)}%')) \n",
    "\n",
    "plt.tight_layout()\n",
    "plt.savefig(\"./avg_crit_sdc_catplot.pdf\")"
   ],
   "metadata": {
    "collapsed": false,
    "ExecuteTime": {
     "end_time": "2023-08-21T15:36:25.183615510Z",
     "start_time": "2023-08-21T15:36:25.140815598Z"
    }
   }
  },
  {
   "cell_type": "code",
   "execution_count": 48,
   "outputs": [],
   "source": [
    "bfms = bfms.reindex([\"Original ViT\", \"EVA\", \"Swin\", \"MaxViT\"], level=\"family\").reindex([\"FLIP_SINGLE_BIT\", \"RANDOM_VALUE\", \"WARP_RANDOM_VALUE\"], level=\"bfm\")"
   ],
   "metadata": {
    "collapsed": false,
    "ExecuteTime": {
     "end_time": "2023-08-21T16:01:39.286663400Z",
     "start_time": "2023-08-21T16:01:39.269213190Z"
    }
   }
  },
  {
   "cell_type": "code",
   "execution_count": 49,
   "outputs": [],
   "source": [
    "bfms.to_excel(\"~/git_research/date_2024_vits/data/bfmgraph_tmp.xlsx\")"
   ],
   "metadata": {
    "collapsed": false,
    "ExecuteTime": {
     "end_time": "2023-08-21T16:01:40.927158004Z",
     "start_time": "2023-08-21T16:01:40.922835169Z"
    }
   }
  },
  {
   "cell_type": "code",
   "execution_count": 50,
   "outputs": [
    {
     "data": {
      "text/plain": "                               PVF Critical SDC           \nhardening                              Hardened Unhardened\nfamily       bfm                                          \nOriginal ViT FLIP_SINGLE_BIT           0.002133   0.009867\n             RANDOM_VALUE              0.040533   0.098133\n             WARP_RANDOM_VALUE         0.063600   0.153200\nEVA          FLIP_SINGLE_BIT           0.002333   0.016333\n             RANDOM_VALUE              0.024667   0.210667\n             WARP_RANDOM_VALUE         0.035000   0.324000\nSwin         FLIP_SINGLE_BIT           0.005111   0.006667\n             RANDOM_VALUE              0.022889   0.030222\n             WARP_RANDOM_VALUE         0.050000   0.057333\nMaxViT       FLIP_SINGLE_BIT           0.006333   0.017667\n             RANDOM_VALUE              0.100333   0.213000\n             WARP_RANDOM_VALUE         0.264000   0.432000",
      "text/html": "<div>\n<style scoped>\n    .dataframe tbody tr th:only-of-type {\n        vertical-align: middle;\n    }\n\n    .dataframe tbody tr th {\n        vertical-align: top;\n    }\n\n    .dataframe thead tr th {\n        text-align: left;\n    }\n\n    .dataframe thead tr:last-of-type th {\n        text-align: right;\n    }\n</style>\n<table border=\"1\" class=\"dataframe\">\n  <thead>\n    <tr>\n      <th></th>\n      <th></th>\n      <th colspan=\"2\" halign=\"left\">PVF Critical SDC</th>\n    </tr>\n    <tr>\n      <th></th>\n      <th>hardening</th>\n      <th>Hardened</th>\n      <th>Unhardened</th>\n    </tr>\n    <tr>\n      <th>family</th>\n      <th>bfm</th>\n      <th></th>\n      <th></th>\n    </tr>\n  </thead>\n  <tbody>\n    <tr>\n      <th rowspan=\"3\" valign=\"top\">Original ViT</th>\n      <th>FLIP_SINGLE_BIT</th>\n      <td>0.002133</td>\n      <td>0.009867</td>\n    </tr>\n    <tr>\n      <th>RANDOM_VALUE</th>\n      <td>0.040533</td>\n      <td>0.098133</td>\n    </tr>\n    <tr>\n      <th>WARP_RANDOM_VALUE</th>\n      <td>0.063600</td>\n      <td>0.153200</td>\n    </tr>\n    <tr>\n      <th rowspan=\"3\" valign=\"top\">EVA</th>\n      <th>FLIP_SINGLE_BIT</th>\n      <td>0.002333</td>\n      <td>0.016333</td>\n    </tr>\n    <tr>\n      <th>RANDOM_VALUE</th>\n      <td>0.024667</td>\n      <td>0.210667</td>\n    </tr>\n    <tr>\n      <th>WARP_RANDOM_VALUE</th>\n      <td>0.035000</td>\n      <td>0.324000</td>\n    </tr>\n    <tr>\n      <th rowspan=\"3\" valign=\"top\">Swin</th>\n      <th>FLIP_SINGLE_BIT</th>\n      <td>0.005111</td>\n      <td>0.006667</td>\n    </tr>\n    <tr>\n      <th>RANDOM_VALUE</th>\n      <td>0.022889</td>\n      <td>0.030222</td>\n    </tr>\n    <tr>\n      <th>WARP_RANDOM_VALUE</th>\n      <td>0.050000</td>\n      <td>0.057333</td>\n    </tr>\n    <tr>\n      <th rowspan=\"3\" valign=\"top\">MaxViT</th>\n      <th>FLIP_SINGLE_BIT</th>\n      <td>0.006333</td>\n      <td>0.017667</td>\n    </tr>\n    <tr>\n      <th>RANDOM_VALUE</th>\n      <td>0.100333</td>\n      <td>0.213000</td>\n    </tr>\n    <tr>\n      <th>WARP_RANDOM_VALUE</th>\n      <td>0.264000</td>\n      <td>0.432000</td>\n    </tr>\n  </tbody>\n</table>\n</div>"
     },
     "execution_count": 50,
     "metadata": {},
     "output_type": "execute_result"
    }
   ],
   "source": [
    "bfms"
   ],
   "metadata": {
    "collapsed": false,
    "ExecuteTime": {
     "end_time": "2023-08-21T16:01:41.383302347Z",
     "start_time": "2023-08-21T16:01:41.381299695Z"
    }
   }
  },
  {
   "cell_type": "code",
   "execution_count": null,
   "outputs": [],
   "source": [],
   "metadata": {
    "collapsed": false
   }
  }
 ],
 "metadata": {
  "kernelspec": {
   "display_name": "Python 3",
   "language": "python",
   "name": "python3"
  },
  "language_info": {
   "codemirror_mode": {
    "name": "ipython",
    "version": 3
   },
   "file_extension": ".py",
   "mimetype": "text/x-python",
   "name": "python",
   "nbconvert_exporter": "python",
   "pygments_lexer": "ipython3",
   "version": "3.9.6"
  },
  "orig_nbformat": 4
 },
 "nbformat": 4,
 "nbformat_minor": 2
}
