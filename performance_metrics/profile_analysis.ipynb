{
 "cells": [
  {
   "cell_type": "code",
   "execution_count": 21,
   "id": "initial_id",
   "metadata": {
    "collapsed": true,
    "ExecuteTime": {
     "end_time": "2023-08-23T10:59:35.409307716Z",
     "start_time": "2023-08-23T10:59:35.366089321Z"
    }
   },
   "outputs": [],
   "source": [
    "import pandas as pd\n",
    "\n",
    "import common"
   ]
  },
  {
   "cell_type": "code",
   "execution_count": 22,
   "outputs": [],
   "source": [
    "df = pd.read_csv(common.FINAL_PROFILE_DATABASE)"
   ],
   "metadata": {
    "collapsed": false,
    "ExecuteTime": {
     "end_time": "2023-08-23T10:59:35.409519101Z",
     "start_time": "2023-08-23T10:59:35.406663906Z"
    }
   },
   "id": "e63e72e269eec298"
  },
  {
   "cell_type": "code",
   "execution_count": 23,
   "outputs": [],
   "source": [
    "if df.nvcc_version.unique().shape[0] == 1:\n",
    "    df = df.drop(columns=\"nvcc_version\")"
   ],
   "metadata": {
    "collapsed": false,
    "ExecuteTime": {
     "end_time": "2023-08-23T10:59:35.409585289Z",
     "start_time": "2023-08-23T10:59:35.406783077Z"
    }
   },
   "id": "760d9786b49bfec6"
  },
  {
   "cell_type": "code",
   "execution_count": 24,
   "outputs": [],
   "source": [
    "grouped = df.set_index([\"board\", \"family\", \"config\", \"hardening\"]).drop(columns=[\"app\"])"
   ],
   "metadata": {
    "collapsed": false,
    "ExecuteTime": {
     "end_time": "2023-08-23T10:59:35.409686548Z",
     "start_time": "2023-08-23T10:59:35.406822243Z"
    }
   },
   "id": "78c9cdf758bb2e11"
  },
  {
   "cell_type": "code",
   "execution_count": 25,
   "outputs": [],
   "source": [
    "hardened = grouped.loc[pd.IndexSlice[:, :, :, \"replace-id\"]].droplevel(\"hardening\")\n",
    "unhardened = grouped.loc[pd.IndexSlice[:, :, :, \"no-replace-id\"]].droplevel(\"hardening\")"
   ],
   "metadata": {
    "collapsed": false,
    "ExecuteTime": {
     "end_time": "2023-08-23T10:59:35.427426078Z",
     "start_time": "2023-08-23T10:59:35.406881659Z"
    }
   },
   "id": "51330885cdffc1c0"
  },
  {
   "cell_type": "markdown",
   "source": [
    "## Calculate the diff"
   ],
   "metadata": {
    "collapsed": false
   },
   "id": "789ff243af050b7b"
  },
  {
   "cell_type": "code",
   "execution_count": 26,
   "outputs": [],
   "source": [
    "diff = pd.concat(\n",
    "    {\n",
    "        \"cf\": (hardened[\"cf_executed\"] - unhardened[\"cf_executed\"]),\n",
    "        \"inst\": (hardened[\"inst_executed\"] - unhardened[\"inst_executed\"]),\n",
    "        \"cycles\": (hardened[\"elapsed_cycles_pm\"] - unhardened[\"elapsed_cycles_pm\"]),\n",
    "        \"time%\": (hardened[\"execution_time\"] - unhardened[\"execution_time\"]) / (\n",
    "                (hardened[\"execution_time\"] + unhardened[\"execution_time\"]) / 2),\n",
    "        \"inst%\": (hardened[\"inst_executed\"] - unhardened[\"inst_executed\"]) / (\n",
    "                (hardened[\"inst_executed\"] + unhardened[\"inst_executed\"]) / 2)\n",
    "    },\n",
    "    axis=1, verify_integrity=True\n",
    ")"
   ],
   "metadata": {
    "collapsed": false,
    "ExecuteTime": {
     "end_time": "2023-08-23T10:59:35.462741525Z",
     "start_time": "2023-08-23T10:59:35.417361966Z"
    }
   },
   "id": "9b488195856fb28b"
  },
  {
   "cell_type": "code",
   "execution_count": 27,
   "outputs": [],
   "source": [
    "family_diff = diff.groupby([\"board\", \"family\"]).agg({\"time%\": [min, max], \"inst%\": [min, max]})"
   ],
   "metadata": {
    "collapsed": false,
    "ExecuteTime": {
     "end_time": "2023-08-23T10:59:35.462932090Z",
     "start_time": "2023-08-23T10:59:35.462623094Z"
    }
   },
   "id": "9495eb92dd4cfd84"
  },
  {
   "cell_type": "code",
   "execution_count": 28,
   "outputs": [],
   "source": [
    "family_diff = family_diff.unstack(level=\"board\")\n"
   ],
   "metadata": {
    "collapsed": false,
    "ExecuteTime": {
     "end_time": "2023-08-23T10:59:35.462995477Z",
     "start_time": "2023-08-23T10:59:35.462730514Z"
    }
   },
   "id": "a99a11adfd4f7764"
  },
  {
   "cell_type": "code",
   "execution_count": 29,
   "outputs": [],
   "source": [
    "family_diff.columns = family_diff.columns.set_names([\"metric\", \"minmax\", \"board\"])"
   ],
   "metadata": {
    "collapsed": false,
    "ExecuteTime": {
     "end_time": "2023-08-23T10:59:35.463282632Z",
     "start_time": "2023-08-23T10:59:35.462833019Z"
    }
   },
   "id": "fcdac9c61b3f8a40"
  },
  {
   "cell_type": "code",
   "execution_count": 30,
   "outputs": [],
   "source": [
    "family_diff = family_diff.stack(\"minmax\").reindex([\"min\", \"max\"], level=\"minmax\").unstack(level=\"minmax\").reindex(\n",
    "    [\"pascal\", \"ampere\"], level=\"board\", axis=\"columns\"\n",
    ").reindex(\n",
    "    [\"time%\", \"inst%\"], level=\"metric\", axis=\"columns\"          \n",
    ").reindex(\n",
    "    [\"Original\", \"EVA\", \"SwinV2\", \"MaxViT\"]\n",
    ")"
   ],
   "metadata": {
    "collapsed": false,
    "ExecuteTime": {
     "end_time": "2023-08-23T10:59:35.502658349Z",
     "start_time": "2023-08-23T10:59:35.462864570Z"
    }
   },
   "id": "a282a6277aff8ec8"
  },
  {
   "cell_type": "code",
   "execution_count": 36,
   "outputs": [],
   "source": [
    "fam_d = (family_diff * 100.).round(2)"
   ],
   "metadata": {
    "collapsed": false,
    "ExecuteTime": {
     "end_time": "2023-08-23T11:04:49.394833565Z",
     "start_time": "2023-08-23T11:04:49.353700991Z"
    }
   },
   "id": "6188a7ddfc44f09e"
  },
  {
   "cell_type": "code",
   "execution_count": 41,
   "outputs": [],
   "source": [
    "with pd.ExcelWriter(\"/home/fernando/git_research/date_2024_vits/data/metrics_tmp.xlsx\") as writer:\n",
    "    grouped.to_excel(writer, sheet_name=\"raw\")\n",
    "    fam_d.to_excel(writer, sheet_name=\"fam_avg_diff\")"
   ],
   "metadata": {
    "collapsed": false,
    "ExecuteTime": {
     "end_time": "2023-08-23T11:06:45.202874650Z",
     "start_time": "2023-08-23T11:06:45.160274170Z"
    }
   },
   "id": "e076ec6dd7d6400f"
  }
 ],
 "metadata": {
  "kernelspec": {
   "display_name": "Python 3",
   "language": "python",
   "name": "python3"
  },
  "language_info": {
   "codemirror_mode": {
    "name": "ipython",
    "version": 2
   },
   "file_extension": ".py",
   "mimetype": "text/x-python",
   "name": "python",
   "nbconvert_exporter": "python",
   "pygments_lexer": "ipython2",
   "version": "2.7.6"
  }
 },
 "nbformat": 4,
 "nbformat_minor": 5
}
