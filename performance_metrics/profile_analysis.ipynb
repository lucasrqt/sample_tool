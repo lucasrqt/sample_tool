{
 "cells": [
  {
   "cell_type": "code",
   "execution_count": 3,
   "id": "initial_id",
   "metadata": {
    "collapsed": true,
    "ExecuteTime": {
     "end_time": "2023-08-28T14:20:02.621828493Z",
     "start_time": "2023-08-28T14:20:02.590366886Z"
    }
   },
   "outputs": [],
   "source": [
    "import pandas as pd\n",
    "\n",
    "import common"
   ]
  },
  {
   "cell_type": "code",
   "execution_count": 4,
   "outputs": [],
   "source": [
    "df = pd.read_csv(common.FINAL_PROFILE_DATABASE)"
   ],
   "metadata": {
    "collapsed": false,
    "ExecuteTime": {
     "end_time": "2023-08-28T14:20:02.645849523Z",
     "start_time": "2023-08-28T14:20:02.595593048Z"
    }
   },
   "id": "e63e72e269eec298"
  },
  {
   "cell_type": "code",
   "execution_count": 5,
   "outputs": [],
   "source": [
    "if df.nvcc_version.unique().shape[0] == 1:\n",
    "    df = df.drop(columns=\"nvcc_version\")"
   ],
   "metadata": {
    "collapsed": false,
    "ExecuteTime": {
     "end_time": "2023-08-28T14:20:02.668585488Z",
     "start_time": "2023-08-28T14:20:02.652190672Z"
    }
   },
   "id": "760d9786b49bfec6"
  },
  {
   "cell_type": "code",
   "execution_count": 6,
   "outputs": [],
   "source": [
    "grouped = df.set_index([\"board\", \"family\", \"config\", \"hardening\"]).drop(columns=[\"app\"])"
   ],
   "metadata": {
    "collapsed": false,
    "ExecuteTime": {
     "end_time": "2023-08-28T14:20:02.668813604Z",
     "start_time": "2023-08-28T14:20:02.652379835Z"
    }
   },
   "id": "78c9cdf758bb2e11"
  },
  {
   "cell_type": "code",
   "execution_count": 7,
   "outputs": [],
   "source": [
    "hardened = grouped.loc[pd.IndexSlice[:, :, :, \"replace-id\"]].droplevel(\"hardening\")\n",
    "unhardened = grouped.loc[pd.IndexSlice[:, :, :, \"no-replace-id\"]].droplevel(\"hardening\")"
   ],
   "metadata": {
    "collapsed": false,
    "ExecuteTime": {
     "end_time": "2023-08-28T14:20:02.668941428Z",
     "start_time": "2023-08-28T14:20:02.652487672Z"
    }
   },
   "id": "51330885cdffc1c0"
  },
  {
   "cell_type": "markdown",
   "source": [
    "## Calculate the diff"
   ],
   "metadata": {
    "collapsed": false
   },
   "id": "789ff243af050b7b"
  },
  {
   "cell_type": "code",
   "execution_count": 8,
   "outputs": [],
   "source": [
    "diff = pd.concat(\n",
    "    {\n",
    "        \"cf\": (hardened[\"cf_executed\"] - unhardened[\"cf_executed\"]),\n",
    "        \"inst\": (hardened[\"inst_executed\"] - unhardened[\"inst_executed\"]),\n",
    "        \"cycles\": (hardened[\"elapsed_cycles_pm\"] - unhardened[\"elapsed_cycles_pm\"]),\n",
    "        \"time%\": (hardened[\"execution_time\"] - unhardened[\"execution_time\"]) / (\n",
    "                (hardened[\"execution_time\"] + unhardened[\"execution_time\"]) / 2),\n",
    "        \"inst%\": (hardened[\"inst_executed\"] - unhardened[\"inst_executed\"]) / (\n",
    "                (hardened[\"inst_executed\"] + unhardened[\"inst_executed\"]) / 2)\n",
    "    },\n",
    "    axis=1, verify_integrity=True\n",
    ")"
   ],
   "metadata": {
    "collapsed": false,
    "ExecuteTime": {
     "end_time": "2023-08-28T14:20:02.669050707Z",
     "start_time": "2023-08-28T14:20:02.652574150Z"
    }
   },
   "id": "9b488195856fb28b"
  },
  {
   "cell_type": "code",
   "execution_count": 9,
   "outputs": [],
   "source": [
    "family_diff = diff.groupby([\"board\", \"family\"]).agg({\"time%\": [min, max], \"inst%\": [min, max]})"
   ],
   "metadata": {
    "collapsed": false,
    "ExecuteTime": {
     "end_time": "2023-08-28T14:20:02.686831385Z",
     "start_time": "2023-08-28T14:20:02.657023915Z"
    }
   },
   "id": "9495eb92dd4cfd84"
  },
  {
   "cell_type": "code",
   "execution_count": 10,
   "outputs": [],
   "source": [
    "family_diff_avg = diff.groupby([\"board\", \"family\"]).mean()"
   ],
   "metadata": {
    "collapsed": false,
    "ExecuteTime": {
     "end_time": "2023-08-28T14:20:02.719178309Z",
     "start_time": "2023-08-28T14:20:02.668508469Z"
    }
   },
   "id": "d94d23c14a9ac446"
  },
  {
   "cell_type": "code",
   "execution_count": 18,
   "outputs": [
    {
     "data": {
      "text/plain": "5.613045599086632"
     },
     "execution_count": 18,
     "metadata": {},
     "output_type": "execute_result"
    }
   ],
   "source": [
    "family_diff_avg[\"time%\"].mean() * 100"
   ],
   "metadata": {
    "collapsed": false,
    "ExecuteTime": {
     "end_time": "2023-08-28T14:20:31.507092532Z",
     "start_time": "2023-08-28T14:20:31.491758989Z"
    }
   },
   "id": "87f6e0ed48c899ca"
  },
  {
   "cell_type": "code",
   "execution_count": 12,
   "outputs": [],
   "source": [
    "family_diff = family_diff.unstack(level=\"board\")\n"
   ],
   "metadata": {
    "collapsed": false,
    "ExecuteTime": {
     "end_time": "2023-08-28T14:20:02.721091770Z",
     "start_time": "2023-08-28T14:20:02.713084707Z"
    }
   },
   "id": "a99a11adfd4f7764"
  },
  {
   "cell_type": "code",
   "execution_count": 13,
   "outputs": [],
   "source": [
    "family_diff.columns = family_diff.columns.set_names([\"metric\", \"minmax\", \"board\"])"
   ],
   "metadata": {
    "collapsed": false,
    "ExecuteTime": {
     "end_time": "2023-08-28T14:20:02.804732195Z",
     "start_time": "2023-08-28T14:20:02.713234823Z"
    }
   },
   "id": "fcdac9c61b3f8a40"
  },
  {
   "cell_type": "code",
   "execution_count": 14,
   "outputs": [],
   "source": [
    "family_diff = family_diff.stack(\"minmax\").reindex([\"min\", \"max\"], level=\"minmax\").unstack(level=\"minmax\").reindex(\n",
    "    [\"pascal\", \"ampere\"], level=\"board\", axis=\"columns\"\n",
    ").reindex(\n",
    "    [\"time%\", \"inst%\"], level=\"metric\", axis=\"columns\"          \n",
    ").reindex(\n",
    "    [\"Original\", \"EVA\", \"SwinV2\", \"MaxViT\"]\n",
    ")"
   ],
   "metadata": {
    "collapsed": false,
    "ExecuteTime": {
     "end_time": "2023-08-28T14:20:02.821302448Z",
     "start_time": "2023-08-28T14:20:02.756029359Z"
    }
   },
   "id": "a282a6277aff8ec8"
  },
  {
   "cell_type": "code",
   "execution_count": 15,
   "outputs": [],
   "source": [
    "fam_d = (family_diff * 100.).round(2)"
   ],
   "metadata": {
    "collapsed": false,
    "ExecuteTime": {
     "end_time": "2023-08-28T14:20:02.821611667Z",
     "start_time": "2023-08-28T14:20:02.756209283Z"
    }
   },
   "id": "6188a7ddfc44f09e"
  },
  {
   "cell_type": "code",
   "execution_count": 16,
   "outputs": [],
   "source": [
    "with pd.ExcelWriter(\"/home/fernando/git_research/date_2024_vits/data/metrics_tmp.xlsx\") as writer:\n",
    "    grouped.to_excel(writer, sheet_name=\"raw\")\n",
    "    fam_d.to_excel(writer, sheet_name=\"fam_avg_diff\")"
   ],
   "metadata": {
    "collapsed": false,
    "ExecuteTime": {
     "end_time": "2023-08-28T14:20:02.841573678Z",
     "start_time": "2023-08-28T14:20:02.756294073Z"
    }
   },
   "id": "e076ec6dd7d6400f"
  }
 ],
 "metadata": {
  "kernelspec": {
   "display_name": "Python 3",
   "language": "python",
   "name": "python3"
  },
  "language_info": {
   "codemirror_mode": {
    "name": "ipython",
    "version": 2
   },
   "file_extension": ".py",
   "mimetype": "text/x-python",
   "name": "python",
   "nbconvert_exporter": "python",
   "pygments_lexer": "ipython2",
   "version": "2.7.6"
  }
 },
 "nbformat": 4,
 "nbformat_minor": 5
}
